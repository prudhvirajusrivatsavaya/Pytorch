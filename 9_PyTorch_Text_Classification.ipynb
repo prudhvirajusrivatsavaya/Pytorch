{
 "cells": [
  {
   "cell_type": "code",
   "execution_count": null,
   "id": "46b2b133-37b4-4bd3-b2e9-d8d0a03a988e",
   "metadata": {},
   "outputs": [],
   "source": [
    "import torch\n",
    "import torch.nn as nn\n",
    "import torch.optim as optim\n",
    "from torch.utils.data import Dataset, DataLoader\n",
    "from sklearn.model_selection import train_test_split\n",
    "from sklearn.feature_extraction.text import CountVectorizer\n",
    "from sklearn.preprocessing import LabelEncoder"
   ]
  },
  {
   "cell_type": "code",
   "execution_count": null,
   "id": "c4d9ff7e-1747-4883-8191-20ea7042207d",
   "metadata": {},
   "outputs": [],
   "source": [
    "# Sample data (replace with your dataset)\n",
    "sentences = [\"This is a positive sentence.\", \"This is a negative sentence.\", \"Another positive example.\", ...]\n",
    "labels = [\"positive\", \"negative\", \"positive\", ...]"
   ]
  },
  {
   "cell_type": "code",
   "execution_count": null,
   "id": "58fc484d-cd28-4b6b-a392-743ea650a1bf",
   "metadata": {},
   "outputs": [],
   "source": [
    "# Split the data into train and test sets\n",
    "X_train, X_test, y_train, y_test = train_test_split(sentences, labels, test_size=0.2, random_state=42)"
   ]
  },
  {
   "cell_type": "code",
   "execution_count": null,
   "id": "7917da72-c793-4a48-806d-0f2469da8121",
   "metadata": {},
   "outputs": [],
   "source": [
    "# Tokenize and vectorize the text data\n",
    "vectorizer = CountVectorizer()\n",
    "X_train_vec = vectorizer.fit_transform(X_train)\n",
    "X_test_vec = vectorizer.transform(X_test)"
   ]
  },
  {
   "cell_type": "code",
   "execution_count": null,
   "id": "21462b22-ad90-4a86-a28b-a1bd4ca4c095",
   "metadata": {},
   "outputs": [],
   "source": [
    "# Encode labels\n",
    "label_encoder = LabelEncoder()\n",
    "y_train_encoded = label_encoder.fit_transform(y_train)\n",
    "y_test_encoded = label_encoder.transform(y_test)"
   ]
  },
  {
   "cell_type": "code",
   "execution_count": null,
   "id": "99bfbb41-180b-4c31-b8b3-1dba4beda164",
   "metadata": {},
   "outputs": [],
   "source": [
    "# Convert text data to PyTorch tensors\n",
    "X_train_tensor = torch.Tensor(X_train_vec.toarray()).long()\n",
    "X_test_tensor = torch.Tensor(X_test_vec.toarray()).long()\n",
    "\n",
    "# Convert labels to PyTorch tensors\n",
    "y_train_tensor = torch.LongTensor(y_train_encoded)\n",
    "y_test_tensor = torch.LongTensor(y_test_encoded)\n"
   ]
  },
  {
   "cell_type": "code",
   "execution_count": null,
   "id": "8ec11fe2-21f0-4e41-9247-92a917418506",
   "metadata": {},
   "outputs": [],
   "source": [
    "# Create custom Dataset class\n",
    "class TextDataset(Dataset):\n",
    "    def __init__(self, data, labels):\n",
    "        self.data = data\n",
    "        self.labels = labels\n",
    "\n",
    "    def __len__(self):\n",
    "        return len(self.data)\n",
    "\n",
    "    def __getitem__(self, idx):\n",
    "        return self.data[idx], self.labels[idx]"
   ]
  },
  {
   "cell_type": "code",
   "execution_count": null,
   "id": "e2cc4a8f-910f-4a5c-a454-7e7a1f37a469",
   "metadata": {},
   "outputs": [],
   "source": [
    "# Create DataLoader for training and testing\n",
    "batch_size = 64\n",
    "train_dataset = TextDataset(X_train_tensor, y_train_tensor)\n",
    "train_loader = DataLoader(train_dataset, batch_size=batch_size, shuffle=True)\n",
    "\n",
    "test_dataset = TextDataset(X_test_tensor, y_test_tensor)\n",
    "test_loader = DataLoader(test_dataset, batch_size=batch_size, shuffle=False)"
   ]
  },
  {
   "cell_type": "code",
   "execution_count": null,
   "id": "4dfc2187-ee89-4bb8-bcf3-23915168538e",
   "metadata": {},
   "outputs": [],
   "source": [
    "# Define the RNN model\n",
    "class RNN(nn.Module):\n",
    "    def __init__(self, input_dim, embedding_dim, hidden_dim, output_dim):\n",
    "        super(RNN, self).__init__()\n",
    "        self.embedding = nn.Embedding(input_dim, embedding_dim)\n",
    "        self.rnn = nn.RNN(embedding_dim, hidden_dim, batch_first=True)  # Set batch_first=True\n",
    "        self.fc = nn.Linear(hidden_dim, output_dim)\n",
    "\n",
    "    def forward(self, text):\n",
    "        embedded = self.embedding(text)\n",
    "        output, hidden = self.rnn(embedded)  # Ignore the hidden state\n",
    "        return self.fc(output[:, -1, :])  # Use the output from the last time step"
   ]
  },
  {
   "cell_type": "markdown",
   "id": "69dc487c-eff5-4229-bef8-c246047dae4c",
   "metadata": {},
   "source": [
    "#### output contains the hidden states for each time step in the sequence. It has the shape (sequence_length, batch_size, hidden_dim). Each time step's hidden state contains information about the input sequence up to that point.\n",
    "\n",
    "#### hidden is the final hidden state after processing the entire sequence. It represents a summary of the entire input sequence and is typically used for making predictions or classification. It has the shape (num_layers, batch_size, hidden_dim)"
   ]
  },
  {
   "cell_type": "code",
   "execution_count": null,
   "id": "da15d457-a225-4b7c-8240-a7b3a21ce7a8",
   "metadata": {},
   "outputs": [],
   "source": [
    "# Initialize the model and define loss & optimizer\n",
    "input_dim = X_train_tensor.shape[1]  # Size of the input features\n",
    "embedding_dim = 100  # Embedding dimension\n",
    "hidden_dim = 256  # RNN hidden layer size\n",
    "output_dim = len(label_encoder.classes_)  # Number of classes"
   ]
  },
  {
   "cell_type": "code",
   "execution_count": null,
   "id": "4495406b-feb1-4fda-9fda-3995b52e5695",
   "metadata": {},
   "outputs": [],
   "source": [
    "model = RNN(input_dim, embedding_dim, hidden_dim, output_dim)\n",
    "optimizer = optim.Adam(model.parameters(), lr=0.001)\n",
    "criterion = nn.CrossEntropyLoss()"
   ]
  },
  {
   "cell_type": "code",
   "execution_count": null,
   "id": "e25e8e09-494c-41e9-9cdc-2f1a147066f9",
   "metadata": {},
   "outputs": [],
   "source": [
    "# Training loop\n",
    "def train(model, iterator, optimizer, criterion):\n",
    "    model.train()\n",
    "    for batch_text, batch_labels in iterator:\n",
    "        optimizer.zero_grad()\n",
    "        predictions = model(batch_text)\n",
    "        loss = criterion(predictions, batch_labels)\n",
    "        loss.backward()\n",
    "        optimizer.step()"
   ]
  },
  {
   "cell_type": "code",
   "execution_count": null,
   "id": "b68a81b2-0e29-4281-9607-6c913bacf59d",
   "metadata": {},
   "outputs": [],
   "source": [
    "# Evaluation function\n",
    "def evaluate(model, iterator, criterion):\n",
    "    model.eval()\n",
    "    total_loss = 0\n",
    "    correct = 0\n",
    "    total = 0\n",
    "\n",
    "    with torch.no_grad():\n",
    "        for batch_text, batch_labels in iterator:\n",
    "            predictions = model(batch_text)\n",
    "            loss = criterion(predictions, batch_labels)\n",
    "            total_loss += loss.item()\n",
    "\n",
    "            _, predicted = torch.max(predictions, 1)\n",
    "            total += batch_labels.size(0)\n",
    "            correct += (predicted == batch_labels).sum().item()\n",
    "\n",
    "    return total_loss / len(iterator), correct / total"
   ]
  },
  {
   "cell_type": "code",
   "execution_count": null,
   "id": "715bc496-8c7e-476b-9dec-3f1693a65752",
   "metadata": {},
   "outputs": [],
   "source": [
    "# Train the model\n",
    "num_epochs = 10\n",
    "\n",
    "for epoch in range(num_epochs):\n",
    "    train(model, train_loader, optimizer, criterion)\n",
    "    train_loss, train_acc = evaluate(model, train_loader, criterion)\n",
    "    test_loss, test_acc = evaluate(model, test_loader, criterion)\n",
    "\n",
    "    print(f'Epoch: {epoch + 1:02}')\n",
    "    print(f'\\tTrain Loss: {train_loss:.3f} | Train Acc: {train_acc * 100:.2f}%')\n",
    "    print(f'\\tTest Loss: {test_loss:.3f} | Test Acc: {test_acc * 100:.2f}%')"
   ]
  },
  {
   "cell_type": "code",
   "execution_count": null,
   "id": "2962684e-6716-48d4-b71f-31722d5a6d6a",
   "metadata": {},
   "outputs": [],
   "source": []
  },
  {
   "cell_type": "code",
   "execution_count": null,
   "id": "fe323bd1-d111-47d7-8d65-332b2d9b4062",
   "metadata": {},
   "outputs": [],
   "source": []
  },
  {
   "cell_type": "code",
   "execution_count": null,
   "id": "29226ec6-6e93-4f60-8b5c-afc9c5a7a9ff",
   "metadata": {},
   "outputs": [],
   "source": []
  }
 ],
 "metadata": {
  "kernelspec": {
   "display_name": "Python 3 (ipykernel)",
   "language": "python",
   "name": "python3"
  },
  "language_info": {
   "codemirror_mode": {
    "name": "ipython",
    "version": 3
   },
   "file_extension": ".py",
   "mimetype": "text/x-python",
   "name": "python",
   "nbconvert_exporter": "python",
   "pygments_lexer": "ipython3",
   "version": "3.9.17"
  }
 },
 "nbformat": 4,
 "nbformat_minor": 5
}
