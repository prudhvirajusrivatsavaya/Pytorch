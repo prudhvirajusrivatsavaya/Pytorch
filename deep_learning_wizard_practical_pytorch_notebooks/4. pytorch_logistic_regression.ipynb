{
 "cells": [
  {
   "cell_type": "markdown",
   "metadata": {},
   "source": [
    "# 7. Logistic Regression with PyTorch\n",
    "## 1. About Logistic Regression\n"
   ]
  },
  {
   "cell_type": "markdown",
   "metadata": {
    "collapsed": true
   },
   "source": [
    "### 1.1 Logistic Regression Basics\n",
    "\n",
    "#### Classification algorithm\n",
    "- Example: Spam vs No Spam\n",
    "    - Input: Bunch of words\n",
    "    - Output: Probability spam or not\n",
    "\n",
    "#### Basic Comparison\n",
    "- **Linear regression**\n",
    "    - Output: numeric value given inputs\n",
    "- **Logistic regression**:\n",
    "    - Output: probability [0, 1] given input belonging to a class\n",
    "    \n",
    "    \n",
    "#### Input/Output Comparison\n",
    "- **Linear regression: Multiplication**\n",
    "    - Input: [1]\n",
    "        - Output: 2\n",
    "    - Input: [2]\n",
    "        - Output: 4\n",
    "    - Trying to model the relationship `y = 2x`\n",
    "- **Logistic regression: Spam**\n",
    "    - Input: \"Sign up to get 1 million dollars by tonight\"\n",
    "        - Output: p = 0.8\n",
    "    - Input: \"This is a receipt for your recent purchase with Amazon\"\n",
    "        - Output: p = 0.3\n",
    "    - **p: probability it is spam**\n",
    "        \n",
    "            "
   ]
  },
  {
   "cell_type": "markdown",
   "metadata": {},
   "source": [
    "### 1.2 Problems of Linear Regression\n",
    "- Example\n",
    "    - Fever\n",
    "    - **Input**: temperature\n",
    "    - **Output**: fever or no fever\n",
    "- Remember\n",
    "    - **Linear regression**: minimize error between points and line"
   ]
  },
  {
   "cell_type": "code",
   "execution_count": 1,
   "metadata": {},
   "outputs": [
    {
     "data": {
      "image/png": "[encoded data removed]",
      "text/plain": [
       "<Figure size 432x288 with 1 Axes>"
      ]
     },
     "metadata": {
      "needs_background": "light"
     },
     "output_type": "display_data"
    }
   ],
   "source": [
    "import numpy as np\n",
    "import matplotlib.pyplot as plt\n",
    "%matplotlib inline\n",
    "\n",
    "x = [1, 5, 10, 10, 25, 50, 70, 75, 100]\n",
    "y = [0, 0, 0, 0, 0, 1, 1, 1, 1]\n",
    "\n",
    "colors = np.random.rand(len(x))\n",
    "plt.plot(np.unique(x), np.poly1d(np.polyfit(x, y, 1))(np.unique(x)))\n",
    "plt.ylabel(\"Fever\")\n",
    "plt.xlabel(\"Temperature\")\n",
    "\n",
    "plt.scatter(x, y, c=colors, alpha=0.5)\n",
    "plt.show()"
   ]
  },
  {
   "cell_type": "markdown",
   "metadata": {},
   "source": [
    "**Linear Regression Problem 1**\n",
    "<br> Fever value can go negative (below 0) and positive (above 1).\n"
   ]
  },
  {
   "cell_type": "code",
   "execution_count": 2,
   "metadata": {},
   "outputs": [
    {
     "data": {
      "image/png": "[encoded data removed]",
      "text/plain": [
       "<Figure size 432x288 with 1 Axes>"
      ]
     },
     "metadata": {
      "needs_background": "light"
     },
     "output_type": "display_data"
    }
   ],
   "source": [
    "import numpy as np\n",
    "import matplotlib.pyplot as plt\n",
    "\n",
    "x = [1, 5, 10, 10, 25, 50, 70, 75, 300]\n",
    "y = [0, 0, 0, 0, 0, 1, 1, 1, 1]\n",
    "\n",
    "colors = np.random.rand(len(x))\n",
    "plt.plot(np.unique(x), np.poly1d(np.polyfit(x, y, 1))(np.unique(x)))\n",
    "plt.ylabel(\"Fever\")\n",
    "plt.xlabel(\"Temperature\")\n",
    "\n",
    "plt.scatter(x, y, c=colors, alpha=0.5)\n",
    "plt.show()"
   ]
  },
  {
   "cell_type": "markdown",
   "metadata": {},
   "source": [
    "**Linear Regression Problem 2**\n",
    "<br> Fever points not predicted with outliers."
   ]
  },
  {
   "cell_type": "markdown",
   "metadata": {},
   "source": [
    "### 1.3 Logistic Regression In-Depth\n",
    "\n",
    "#### Predicting Probability\n",
    "- Linear regression doesn't work\n",
    "- Instead of predicting direct values: **predict probability**\n",
    "\n",
    "<img src=\"./images/cross_entropy_final_4.png\" alt=\"deeplearningwizard\" style=\"width: 900px;\"/>\n",
    "\n",
    "#### Logistic Function $g()$ \n",
    "- Two-class logistic regression\n",
    "- $ y = A x + b$\n",
    "- $ g(y) = A x + b $\n",
    "- $g(y) = \\frac {1} {1 + e^{-y}} = \\frac {1} {1 + e^{-(A x + b)}}$\n",
    "- $g(y)$ = Estimated probability that $y = 1$ given $x$\n",
    "\n",
    "\n",
    "#### Softmax Function $g()$ \n",
    "- Multi-class logistic regression\n",
    "- Generalization of logistic function\n"
   ]
  },
  {
   "cell_type": "markdown",
   "metadata": {},
   "source": [
    "#### Cross Entropy Function $D()$\n",
    "- $D(S, L) = L log S - (1-L)log(1-S)$\n",
    "    - If L = 0 (label)\n",
    "        - $D(S, 0) = - log(1-S)$\n",
    "            - $- log(1-S)$: less positive if $S \\longrightarrow 0 $\n",
    "            - $- log(1-S)$: more positive if $S \\longrightarrow 1 $ (BIGGER LOSS)\n",
    "    - If L = 1 (label)\n",
    "        - $D(S, 1) = log S$\n",
    "            - $logS$: less negative if $S \\longrightarrow 1 $\n",
    "            - $logS$: more negative if $S \\longrightarrow 0 $ (BIGGER LOSS)"
   ]
  },
  {
   "cell_type": "code",
   "execution_count": 3,
   "metadata": {},
   "outputs": [
    {
     "name": "stdout",
     "output_type": "stream",
     "text": [
      "1.0000050000287824e-05\n",
      "11.51292546497478\n",
      "-1.0000050000287824e-05\n",
      "-11.512925464970229\n"
     ]
    }
   ],
   "source": [
    "import math\n",
    "print(-math.log(1 - 0.00001))\n",
    "print(-math.log(1 - 0.99999))\n",
    "\n",
    "print(math.log(0.99999))\n",
    "print(math.log(0.00001))"
   ]
  },
  {
   "cell_type": "markdown",
   "metadata": {},
   "source": [
    "#### Cross Entropy Loss $L$\n",
    "- Goal: Minimizing Cross Entropy Loss\n",
    "- $ L = \\frac {1}{N} \\sum_i D(g(Ax_i + b), L_i)$"
   ]
  },
  {
   "cell_type": "markdown",
   "metadata": {},
   "source": [
    "## 2. Building a Logistic Regression Model with PyTorch\n",
    "\n",
    "<img src=\"./images/lr2.png\" alt=\"deeplearningwizard\" style=\"width: 900px;\"/>\n",
    "\n",
    "### Steps\n",
    "- Step 1: Load Dataset\n",
    "- Step 2: Make Dataset Iterable\n",
    "- Step 3: Create Model Class\n",
    "- Step 4: Instantiate Model Class\n",
    "- Step 5: Instantiate Loss Class\n",
    "- Step 6: Instantiate Optimizer Class\n",
    "- Step 7: Train Model"
   ]
  },
  {
   "cell_type": "markdown",
   "metadata": {},
   "source": [
    "### Step 1a: Loading MNIST Train Dataset\n",
    "**Images from 1 to 9**"
   ]
  },
  {
   "cell_type": "code",
   "execution_count": 4,
   "metadata": {},
   "outputs": [],
   "source": [
    "import torch\n",
    "import torch.nn as nn\n",
    "import torchvision.transforms as transforms\n",
    "import torchvision.datasets as dsets"
   ]
  },
  {
   "cell_type": "code",
   "execution_count": 5,
   "metadata": {},
   "outputs": [],
   "source": [
    "train_dataset = dsets.MNIST(root='./data', \n",
    "                            train=True, \n",
    "                            transform=transforms.ToTensor(),\n",
    "                            download=True)"
   ]
  },
  {
   "cell_type": "code",
   "execution_count": 6,
   "metadata": {},
   "outputs": [
    {
     "data": {
      "text/plain": [
       "60000"
      ]
     },
     "execution_count": 6,
     "metadata": {},
     "output_type": "execute_result"
    }
   ],
   "source": [
    "len(train_dataset)"
   ]
  },
  {
   "cell_type": "code",
   "execution_count": 7,
   "metadata": {},
   "outputs": [
    {
     "name": "stdout",
     "output_type": "stream",
     "text": [
      "28\n",
      "tensor([0., 0., 0., 0., 0., 0., 0., 0., 0., 0., 0., 0., 0., 0., 0., 0., 0., 0., 0., 0., 0., 0., 0., 0.,\n",
      "        0., 0., 0., 0.])\n",
      "28\n"
     ]
    }
   ],
   "source": [
    "print(len(train_dataset[0][0][0]))\n",
    "print(train_dataset[0][0][0][0])\n",
    "print(len(train_dataset[0][0][0][0]))"
   ]
  },
  {
   "cell_type": "code",
   "execution_count": 8,
   "metadata": {},
   "outputs": [
    {
     "data": {
      "text/plain": [
       "tuple"
      ]
     },
     "execution_count": 8,
     "metadata": {},
     "output_type": "execute_result"
    }
   ],
   "source": [
    "type(train_dataset[0])"
   ]
  },
  {
   "cell_type": "code",
   "execution_count": 9,
   "metadata": {},
   "outputs": [
    {
     "data": {
      "text/plain": [
       "torch.Size([1, 28, 28])"
      ]
     },
     "execution_count": 9,
     "metadata": {},
     "output_type": "execute_result"
    }
   ],
   "source": [
    "# Input Matrix\n",
    "train_dataset[0][0].size()"
   ]
  },
  {
   "cell_type": "code",
   "execution_count": 10,
   "metadata": {},
   "outputs": [
    {
     "data": {
      "text/plain": [
       "5"
      ]
     },
     "execution_count": 10,
     "metadata": {},
     "output_type": "execute_result"
    }
   ],
   "source": [
    "# Label\n",
    "train_dataset[0][1]"
   ]
  },
  {
   "cell_type": "markdown",
   "metadata": {},
   "source": [
    "#### Displaying MNIST"
   ]
  },
  {
   "cell_type": "code",
   "execution_count": 11,
   "metadata": {},
   "outputs": [],
   "source": [
    "import matplotlib.pyplot as plt\n",
    "%matplotlib inline  \n",
    "import numpy as np"
   ]
  },
  {
   "cell_type": "code",
   "execution_count": 12,
   "metadata": {},
   "outputs": [
    {
     "data": {
      "text/plain": [
       "(1, 28, 28)"
      ]
     },
     "execution_count": 12,
     "metadata": {},
     "output_type": "execute_result"
    }
   ],
   "source": [
    "train_dataset[0][0].numpy().shape"
   ]
  },
  {
   "cell_type": "code",
   "execution_count": 13,
   "metadata": {},
   "outputs": [],
   "source": [
    "show_img = train_dataset[0][0].numpy().reshape(28, 28)"
   ]
  },
  {
   "cell_type": "code",
   "execution_count": 14,
   "metadata": {},
   "outputs": [
    {
     "data": {
      "text/plain": [
       "<matplotlib.image.AxesImage at 0x167ade9d080>"
      ]
     },
     "execution_count": 14,
     "metadata": {},
     "output_type": "execute_result"
    },
    {
     "data": {
      "image/png": "[encoded data removed]",
      "text/plain": [
       "<Figure size 432x288 with 1 Axes>"
      ]
     },
     "metadata": {
      "needs_background": "light"
     },
     "output_type": "display_data"
    }
   ],
   "source": [
    "plt.imshow(show_img, cmap='gray')"
   ]
  },
  {
   "cell_type": "code",
   "execution_count": 15,
   "metadata": {},
   "outputs": [
    {
     "data": {
      "text/plain": [
       "5"
      ]
     },
     "execution_count": 15,
     "metadata": {},
     "output_type": "execute_result"
    }
   ],
   "source": [
    "# Label\n",
    "train_dataset[0][1]"
   ]
  },
  {
   "cell_type": "code",
   "execution_count": 16,
   "metadata": {},
   "outputs": [],
   "source": [
    "show_img = train_dataset[1][0].numpy().reshape(28, 28)"
   ]
  },
  {
   "cell_type": "code",
   "execution_count": 17,
   "metadata": {},
   "outputs": [
    {
     "data": {
      "text/plain": [
       "<matplotlib.image.AxesImage at 0x167adde3438>"
      ]
     },
     "execution_count": 17,
     "metadata": {},
     "output_type": "execute_result"
    },
    {
     "data": {
      "image/png": "[encoded data removed]",
      "text/plain": [
       "<Figure size 432x288 with 1 Axes>"
      ]
     },
     "metadata": {
      "needs_background": "light"
     },
     "output_type": "display_data"
    }
   ],
   "source": [
    "plt.imshow(show_img, cmap='gray')"
   ]
  },
  {
   "cell_type": "code",
   "execution_count": 18,
   "metadata": {},
   "outputs": [
    {
     "data": {
      "text/plain": [
       "0"
      ]
     },
     "execution_count": 18,
     "metadata": {},
     "output_type": "execute_result"
    }
   ],
   "source": [
    "# Label\n",
    "train_dataset[1][1]"
   ]
  },
  {
   "cell_type": "markdown",
   "metadata": {},
   "source": [
    "### Step 1b: Loading MNIST Test Dataset\n",
    "- Show our algorithm works beyond the data we have trained on.\n",
    "- Out-of-sample"
   ]
  },
  {
   "cell_type": "code",
   "execution_count": 19,
   "metadata": {},
   "outputs": [],
   "source": [
    "test_dataset = dsets.MNIST(root='./data', \n",
    "                           train=False, \n",
    "                           transform=transforms.ToTensor())"
   ]
  },
  {
   "cell_type": "code",
   "execution_count": 20,
   "metadata": {},
   "outputs": [
    {
     "data": {
      "text/plain": [
       "10000"
      ]
     },
     "execution_count": 20,
     "metadata": {},
     "output_type": "execute_result"
    }
   ],
   "source": [
    "len(test_dataset)"
   ]
  },
  {
   "cell_type": "code",
   "execution_count": 21,
   "metadata": {},
   "outputs": [
    {
     "data": {
      "text/plain": [
       "tuple"
      ]
     },
     "execution_count": 21,
     "metadata": {},
     "output_type": "execute_result"
    }
   ],
   "source": [
    "type(test_dataset[0])"
   ]
  },
  {
   "cell_type": "code",
   "execution_count": 22,
   "metadata": {},
   "outputs": [
    {
     "data": {
      "text/plain": [
       "torch.Size([1, 28, 28])"
      ]
     },
     "execution_count": 22,
     "metadata": {},
     "output_type": "execute_result"
    }
   ],
   "source": [
    "# Image matrix\n",
    "test_dataset[0][0].size()"
   ]
  },
  {
   "cell_type": "code",
   "execution_count": 23,
   "metadata": {},
   "outputs": [
    {
     "data": {
      "text/plain": [
       "<matplotlib.image.AxesImage at 0x167b04fe668>"
      ]
     },
     "execution_count": 23,
     "metadata": {},
     "output_type": "execute_result"
    },
    {
     "data": {
      "image/png": "[encoded data removed]",
      "text/plain": [
       "<Figure size 432x288 with 1 Axes>"
      ]
     },
     "metadata": {
      "needs_background": "light"
     },
     "output_type": "display_data"
    }
   ],
   "source": [
    "show_img = test_dataset[0][0].numpy().reshape(28, 28)\n",
    "plt.imshow(show_img, cmap='gray')"
   ]
  },
  {
   "cell_type": "code",
   "execution_count": 24,
   "metadata": {},
   "outputs": [
    {
     "data": {
      "text/plain": [
       "7"
      ]
     },
     "execution_count": 24,
     "metadata": {},
     "output_type": "execute_result"
    }
   ],
   "source": [
    "# Label\n",
    "test_dataset[0][1]"
   ]
  },
  {
   "cell_type": "markdown",
   "metadata": {},
   "source": [
    "### Step 2: Make Dataset Iterable\n",
    "- Aim: make the dataset iterable\n",
    "- **totaldata**: 60000\n",
    "- **minibatch**: 100\n",
    "    - Number of examples in 1 iteration\n",
    "- **iterations**: 3000\n",
    "    - 1 iteration: one mini-batch forward & backward pass\n",
    "- **epochs**\n",
    "    - 1 epoch: running through the whole dataset once\n",
    "    - $epochs = iterations \\div \\frac{totaldata}{minibatch} = 3000 \\div \\frac{60000}{100} = 5 $\n",
    "    "
   ]
  },
  {
   "cell_type": "code",
   "execution_count": 25,
   "metadata": {},
   "outputs": [
    {
     "data": {
      "text/plain": [
       "60000"
      ]
     },
     "execution_count": 25,
     "metadata": {},
     "output_type": "execute_result"
    }
   ],
   "source": [
    "len(train_dataset)"
   ]
  },
  {
   "cell_type": "code",
   "execution_count": 26,
   "metadata": {},
   "outputs": [],
   "source": [
    "batch_size = 100"
   ]
  },
  {
   "cell_type": "code",
   "execution_count": 27,
   "metadata": {},
   "outputs": [],
   "source": [
    "n_iters = 3000"
   ]
  },
  {
   "cell_type": "code",
   "execution_count": 28,
   "metadata": {},
   "outputs": [
    {
     "data": {
      "text/plain": [
       "5"
      ]
     },
     "execution_count": 28,
     "metadata": {},
     "output_type": "execute_result"
    }
   ],
   "source": [
    "num_epochs = n_iters / (len(train_dataset) / batch_size)\n",
    "num_epochs = int(num_epochs)\n",
    "num_epochs"
   ]
  },
  {
   "cell_type": "markdown",
   "metadata": {},
   "source": [
    "#### Create Iterable Object: Training Dataset"
   ]
  },
  {
   "cell_type": "code",
   "execution_count": 29,
   "metadata": {},
   "outputs": [],
   "source": [
    "train_loader = torch.utils.data.DataLoader(dataset=train_dataset, \n",
    "                                           batch_size=batch_size, \n",
    "                                           shuffle=True)"
   ]
  },
  {
   "cell_type": "markdown",
   "metadata": {},
   "source": [
    "#### Check Iterability"
   ]
  },
  {
   "cell_type": "code",
   "execution_count": 30,
   "metadata": {},
   "outputs": [
    {
     "data": {
      "text/plain": [
       "True"
      ]
     },
     "execution_count": 30,
     "metadata": {},
     "output_type": "execute_result"
    }
   ],
   "source": [
    "import collections\n",
    "isinstance(train_loader, collections.Iterable)"
   ]
  },
  {
   "cell_type": "markdown",
   "metadata": {},
   "source": [
    "#### Create Iterable Object: Testing Dataset"
   ]
  },
  {
   "cell_type": "code",
   "execution_count": 31,
   "metadata": {},
   "outputs": [],
   "source": [
    "# Iterable object\n",
    "test_loader = torch.utils.data.DataLoader(dataset=test_dataset, \n",
    "                                          batch_size=batch_size, \n",
    "                                          shuffle=False)"
   ]
  },
  {
   "cell_type": "code",
   "execution_count": 32,
   "metadata": {},
   "outputs": [
    {
     "data": {
      "text/plain": [
       "100"
      ]
     },
     "execution_count": 32,
     "metadata": {},
     "output_type": "execute_result"
    }
   ],
   "source": [
    "len(test_loader)"
   ]
  },
  {
   "cell_type": "markdown",
   "metadata": {},
   "source": [
    "#### Check Iterability"
   ]
  },
  {
   "cell_type": "code",
   "execution_count": 33,
   "metadata": {},
   "outputs": [
    {
     "data": {
      "text/plain": [
       "True"
      ]
     },
     "execution_count": 33,
     "metadata": {},
     "output_type": "execute_result"
    }
   ],
   "source": [
    "isinstance(test_loader, collections.Iterable)"
   ]
  },
  {
   "cell_type": "markdown",
   "metadata": {},
   "source": [
    "#### Main Aim: Iterate Through Dataset"
   ]
  },
  {
   "cell_type": "code",
   "execution_count": 34,
   "metadata": {},
   "outputs": [],
   "source": [
    "img_1 = np.ones((28, 28))\n",
    "img_2 = np.ones((28, 28))\n",
    "lst = [img_1, img_2]"
   ]
  },
  {
   "cell_type": "code",
   "execution_count": 35,
   "metadata": {},
   "outputs": [
    {
     "name": "stdout",
     "output_type": "stream",
     "text": [
      "(28, 28)\n",
      "(28, 28)\n"
     ]
    }
   ],
   "source": [
    "# Need to iterate\n",
    "# Think of numbers as the images\n",
    "for i in lst:\n",
    "    print(i.shape)"
   ]
  },
  {
   "cell_type": "markdown",
   "metadata": {},
   "source": [
    "### Step 3: Building Model"
   ]
  },
  {
   "cell_type": "code",
   "execution_count": 38,
   "metadata": {},
   "outputs": [],
   "source": [
    "# Same as linear regression! \n",
    "class LogisticRegressionModel(nn.Module):\n",
    "    def __init__(self, input_dim, output_dim):\n",
    "        super(LogisticRegressionModel, self).__init__()\n",
    "        self.linear = nn.Linear(input_dim, output_dim)\n",
    "    \n",
    "    def forward(self, x):\n",
    "        out = self.linear(x)\n",
    "        return out"
   ]
  },
  {
   "cell_type": "markdown",
   "metadata": {},
   "source": [
    "### Step 4: Instantiate Model Class\n",
    "- Input dimension: \n",
    "    - Size of image\n",
    "    - $28 \\times 28 = 784$\n",
    "- Output dimension: 10\n",
    "    - 0, 1, 2, 3, 4, 5, 6, 7, 8, 9"
   ]
  },
  {
   "cell_type": "code",
   "execution_count": 39,
   "metadata": {},
   "outputs": [
    {
     "data": {
      "text/plain": [
       "torch.Size([1, 28, 28])"
      ]
     },
     "execution_count": 39,
     "metadata": {},
     "output_type": "execute_result"
    }
   ],
   "source": [
    "# Size of images\n",
    "train_dataset[0][0].size()"
   ]
  },
  {
   "cell_type": "code",
   "execution_count": 40,
   "metadata": {},
   "outputs": [],
   "source": [
    "input_dim = 28*28\n",
    "output_dim = 10\n",
    "\n",
    "model = LogisticRegressionModel(input_dim, output_dim)"
   ]
  },
  {
   "cell_type": "markdown",
   "metadata": {},
   "source": [
    "### Step 5: Instantiate Loss Class\n",
    "- **Logistic Regression**: Cross Entropy Loss\n",
    "    - _Linear Regression: MSE_\n",
    "   "
   ]
  },
  {
   "cell_type": "code",
   "execution_count": 41,
   "metadata": {},
   "outputs": [],
   "source": [
    "criterion = nn.CrossEntropyLoss()  "
   ]
  },
  {
   "cell_type": "markdown",
   "metadata": {},
   "source": [
    "#### What happens in `nn.CrossEntropyLoss()`?\n",
    "- Computes softmax (logistic/softmax function)\n",
    "- Computes cross entropy\n",
    "\n",
    "<img src=\"./images/cross_entropy_final_4.png\" alt=\"deeplearningwizard\" style=\"width: 900px;\"/>"
   ]
  },
  {
   "cell_type": "markdown",
   "metadata": {},
   "source": [
    "### Step 6: Instantiate Optimizer Class\n",
    "- Simplified equation\n",
    "    - $\\theta = \\theta - \\eta \\cdot \\nabla_\\theta $\n",
    "        - $\\theta$: parameters (our variables)\n",
    "        - $\\eta$: learning rate (how fast we want to learn)\n",
    "        - $\\nabla_\\theta$: parameters' gradients\n",
    "- Even simplier equation\n",
    "    - `parameters = parameters - learning_rate * parameters_gradients`\n",
    "    - **At every iteration, we update our model's parameters**"
   ]
  },
  {
   "cell_type": "code",
   "execution_count": 42,
   "metadata": {},
   "outputs": [],
   "source": [
    "learning_rate = 0.001\n",
    "\n",
    "optimizer = torch.optim.SGD(model.parameters(), lr=learning_rate)  "
   ]
  },
  {
   "cell_type": "markdown",
   "metadata": {},
   "source": [
    "### Parameters In-Depth"
   ]
  },
  {
   "cell_type": "code",
   "execution_count": 43,
   "metadata": {
    "scrolled": true
   },
   "outputs": [
    {
     "name": "stdout",
     "output_type": "stream",
     "text": [
      "<generator object Module.parameters at 0x00000167B053B8E0>\n",
      "2\n",
      "torch.Size([10, 784])\n",
      "torch.Size([10])\n"
     ]
    }
   ],
   "source": [
    "print(model.parameters())\n",
    "\n",
    "print(len(list(model.parameters())))\n",
    "\n",
    "# FC 1 Parameters \n",
    "print(list(model.parameters())[0].size())\n",
    "\n",
    "# FC 1 Bias Parameters\n",
    "print(list(model.parameters())[1].size())"
   ]
  },
  {
   "cell_type": "markdown",
   "metadata": {},
   "source": [
    "#### Quick Matrix Product Review\n",
    "- Example 1: **matrix product**\n",
    "    - $A: (100, 10)$\n",
    "    - $B: (10, 1)$\n",
    "    - $A \\cdot B = (100, 10) \\cdot (10, 1) = (100, 1)$\n",
    "- Example 2: **matrix product**\n",
    "    - $A: (50, 5)$\n",
    "    - $B: (5, 2)$\n",
    "    - $A \\cdot B = (50, 5) \\cdot (5, 2) = (50, 2)$\n",
    "- Example 3: **element-wise addition**\n",
    "    - $A: (10, 1)$\n",
    "    - $B: (10, 1)$\n",
    "    - $A + B = (10, 1)$"
   ]
  },
  {
   "cell_type": "markdown",
   "metadata": {},
   "source": [
    "<img src=\"./images/lr_params2.png\" alt=\"deeplearningwizard\" style=\"width: 900px;\"/>"
   ]
  },
  {
   "cell_type": "markdown",
   "metadata": {},
   "source": [
    "### Step 7: Train Model\n",
    "- Process \n",
    "    1. Convert inputs/labels to variables\n",
    "    2. Clear gradient buffets\n",
    "    3. Get output given inputs \n",
    "    4. Get loss\n",
    "    5. Get gradients w.r.t. parameters\n",
    "    6. Update parameters using gradients\n",
    "        - `parameters = parameters - learning_rate * parameters_gradients`\n",
    "    7. REPEAT"
   ]
  },
  {
   "cell_type": "code",
   "execution_count": 44,
   "metadata": {
    "scrolled": true
   },
   "outputs": [
    {
     "name": "stdout",
     "output_type": "stream",
     "text": [
      "0\n",
      "torch.Size([28, 28])\n"
     ]
    },
    {
     "data": {
      "image/png": "[encoded data removed]",
      "text/plain": [
       "<Figure size 432x288 with 1 Axes>"
      ]
     },
     "metadata": {
      "needs_background": "light"
     },
     "output_type": "display_data"
    },
    {
     "name": "stdout",
     "output_type": "stream",
     "text": [
      "1\n",
      "torch.Size([28, 28])\n"
     ]
    },
    {
     "data": {
      "image/png": "[encoded data removed]",
      "text/plain": [
       "<Figure size 432x288 with 1 Axes>"
      ]
     },
     "metadata": {
      "needs_background": "light"
     },
     "output_type": "display_data"
    },
    {
     "name": "stdout",
     "output_type": "stream",
     "text": [
      "2\n",
      "torch.Size([28, 28])\n"
     ]
    },
    {
     "data": {
      "image/png": "[encoded data removed]",
      "text/plain": [
       "<Figure size 432x288 with 1 Axes>"
      ]
     },
     "metadata": {
      "needs_background": "light"
     },
     "output_type": "display_data"
    },
    {
     "name": "stdout",
     "output_type": "stream",
     "text": [
      "3\n",
      "torch.Size([28, 28])\n"
     ]
    },
    {
     "data": {
      "image/png": "[encoded data removed]",
      "text/plain": [
       "<Figure size 432x288 with 1 Axes>"
      ]
     },
     "metadata": {
      "needs_background": "light"
     },
     "output_type": "display_data"
    },
    {
     "name": "stdout",
     "output_type": "stream",
     "text": [
      "4\n",
      "torch.Size([28, 28])\n"
     ]
    },
    {
     "data": {
      "image/png": "[encoded data removed]",
      "text/plain": [
       "<Figure size 432x288 with 1 Axes>"
      ]
     },
     "metadata": {
      "needs_background": "light"
     },
     "output_type": "display_data"
    },
    {
     "name": "stdout",
     "output_type": "stream",
     "text": [
      "5\n",
      "torch.Size([28, 28])\n"
     ]
    },
    {
     "data": {
      "image/png": "[encoded data removed]",
      "text/plain": [
       "<Figure size 432x288 with 1 Axes>"
      ]
     },
     "metadata": {
      "needs_background": "light"
     },
     "output_type": "display_data"
    },
    {
     "name": "stdout",
     "output_type": "stream",
     "text": [
      "6\n",
      "torch.Size([28, 28])\n"
     ]
    },
    {
     "data": {
      "image/png": "[encoded data removed]",
      "text/plain": [
       "<Figure size 432x288 with 1 Axes>"
      ]
     },
     "metadata": {
      "needs_background": "light"
     },
     "output_type": "display_data"
    },
    {
     "name": "stdout",
     "output_type": "stream",
     "text": [
      "7\n",
      "torch.Size([28, 28])\n"
     ]
    },
    {
     "data": {
      "image/png": "[encoded data removed]",
      "text/plain": [
       "<Figure size 432x288 with 1 Axes>"
      ]
     },
     "metadata": {
      "needs_background": "light"
     },
     "output_type": "display_data"
    },
    {
     "name": "stdout",
     "output_type": "stream",
     "text": [
      "8\n",
      "torch.Size([28, 28])\n"
     ]
    },
    {
     "data": {
      "image/png": "[encoded data removed]",
      "text/plain": [
       "<Figure size 432x288 with 1 Axes>"
      ]
     },
     "metadata": {
      "needs_background": "light"
     },
     "output_type": "display_data"
    },
    {
     "name": "stdout",
     "output_type": "stream",
     "text": [
      "9\n",
      "torch.Size([28, 28])\n"
     ]
    },
    {
     "data": {
      "image/png": "[encoded data removed]",
      "text/plain": [
       "<Figure size 432x288 with 1 Axes>"
      ]
     },
     "metadata": {
      "needs_background": "light"
     },
     "output_type": "display_data"
    },
    {
     "name": "stdout",
     "output_type": "stream",
     "text": [
      "10\n",
      "torch.Size([28, 28])\n"
     ]
    },
    {
     "data": {
      "image/png": "[encoded data removed]",
      "text/plain": [
       "<Figure size 432x288 with 1 Axes>"
      ]
     },
     "metadata": {
      "needs_background": "light"
     },
     "output_type": "display_data"
    },
    {
     "name": "stdout",
     "output_type": "stream",
     "text": [
      "11\n",
      "torch.Size([28, 28])\n"
     ]
    },
    {
     "data": {
      "image/png": "[encoded data removed]",
      "text/plain": [
       "<Figure size 432x288 with 1 Axes>"
      ]
     },
     "metadata": {
      "needs_background": "light"
     },
     "output_type": "display_data"
    },
    {
     "name": "stdout",
     "output_type": "stream",
     "text": [
      "12\n",
      "torch.Size([28, 28])\n"
     ]
    },
    {
     "data": {
      "image/png": "[encoded data removed]",
      "text/plain": [
       "<Figure size 432x288 with 1 Axes>"
      ]
     },
     "metadata": {
      "needs_background": "light"
     },
     "output_type": "display_data"
    },
    {
     "name": "stdout",
     "output_type": "stream",
     "text": [
      "13\n",
      "torch.Size([28, 28])\n"
     ]
    },
    {
     "data": {
      "image/png": "[encoded data removed]",
      "text/plain": [
       "<Figure size 432x288 with 1 Axes>"
      ]
     },
     "metadata": {
      "needs_background": "light"
     },
     "output_type": "display_data"
    },
    {
     "name": "stdout",
     "output_type": "stream",
     "text": [
      "14\n",
      "torch.Size([28, 28])\n"
     ]
    },
    {
     "data": {
      "image/png": "[encoded data removed]",
      "text/plain": [
       "<Figure size 432x288 with 1 Axes>"
      ]
     },
     "metadata": {
      "needs_background": "light"
     },
     "output_type": "display_data"
    },
    {
     "name": "stdout",
     "output_type": "stream",
     "text": [
      "15\n",
      "torch.Size([28, 28])\n"
     ]
    },
    {
     "data": {
      "image/png": "[encoded data removed]",
      "text/plain": [
       "<Figure size 432x288 with 1 Axes>"
      ]
     },
     "metadata": {
      "needs_background": "light"
     },
     "output_type": "display_data"
    },
    {
     "name": "stdout",
     "output_type": "stream",
     "text": [
      "16\n",
      "torch.Size([28, 28])\n"
     ]
    },
    {
     "data": {
      "image/png": "[encoded data removed]",
      "text/plain": [
       "<Figure size 432x288 with 1 Axes>"
      ]
     },
     "metadata": {
      "needs_background": "light"
     },
     "output_type": "display_data"
    },
    {
     "name": "stdout",
     "output_type": "stream",
     "text": [
      "17\n",
      "torch.Size([28, 28])\n"
     ]
    },
    {
     "data": {
      "image/png": "[encoded data removed]",
      "text/plain": [
       "<Figure size 432x288 with 1 Axes>"
      ]
     },
     "metadata": {
      "needs_background": "light"
     },
     "output_type": "display_data"
    },
    {
     "name": "stdout",
     "output_type": "stream",
     "text": [
      "18\n",
      "torch.Size([28, 28])\n"
     ]
    },
    {
     "data": {
      "image/png": "[encoded data removed]",
      "text/plain": [
       "<Figure size 432x288 with 1 Axes>"
      ]
     },
     "metadata": {
      "needs_background": "light"
     },
     "output_type": "display_data"
    },
    {
     "name": "stdout",
     "output_type": "stream",
     "text": [
      "19\n",
      "torch.Size([28, 28])\n"
     ]
    },
    {
     "data": {
      "image/png": "[encoded data removed]",
      "text/plain": [
       "<Figure size 432x288 with 1 Axes>"
      ]
     },
     "metadata": {
      "needs_background": "light"
     },
     "output_type": "display_data"
    },
    {
     "name": "stdout",
     "output_type": "stream",
     "text": [
      "20\n",
      "torch.Size([28, 28])\n"
     ]
    },
    {
     "data": {
      "image/png": "[encoded data removed]",
      "text/plain": [
       "<Figure size 432x288 with 1 Axes>"
      ]
     },
     "metadata": {
      "needs_background": "light"
     },
     "output_type": "display_data"
    },
    {
     "name": "stdout",
     "output_type": "stream",
     "text": [
      "21\n",
      "torch.Size([28, 28])\n"
     ]
    },
    {
     "data": {
      "image/png": "[encoded data removed]",
      "text/plain": [
       "<Figure size 432x288 with 1 Axes>"
      ]
     },
     "metadata": {
      "needs_background": "light"
     },
     "output_type": "display_data"
    },
    {
     "name": "stdout",
     "output_type": "stream",
     "text": [
      "22\n",
      "torch.Size([28, 28])\n"
     ]
    },
    {
     "data": {
      "image/png": "[encoded data removed]",
      "text/plain": [
       "<Figure size 432x288 with 1 Axes>"
      ]
     },
     "metadata": {
      "needs_background": "light"
     },
     "output_type": "display_data"
    },
    {
     "name": "stdout",
     "output_type": "stream",
     "text": [
      "23\n",
      "torch.Size([28, 28])\n"
     ]
    },
    {
     "data": {
      "image/png": "[encoded data removed]",
      "text/plain": [
       "<Figure size 432x288 with 1 Axes>"
      ]
     },
     "metadata": {
      "needs_background": "light"
     },
     "output_type": "display_data"
    },
    {
     "name": "stdout",
     "output_type": "stream",
     "text": [
      "24\n",
      "torch.Size([28, 28])\n"
     ]
    },
    {
     "data": {
      "image/png": "[encoded data removed]",
      "text/plain": [
       "<Figure size 432x288 with 1 Axes>"
      ]
     },
     "metadata": {
      "needs_background": "light"
     },
     "output_type": "display_data"
    },
    {
     "name": "stdout",
     "output_type": "stream",
     "text": [
      "25\n",
      "torch.Size([28, 28])\n"
     ]
    },
    {
     "data": {
      "image/png": "[encoded data removed]",
      "text/plain": [
       "<Figure size 432x288 with 1 Axes>"
      ]
     },
     "metadata": {
      "needs_background": "light"
     },
     "output_type": "display_data"
    },
    {
     "name": "stdout",
     "output_type": "stream",
     "text": [
      "26\n",
      "torch.Size([28, 28])\n"
     ]
    },
    {
     "data": {
      "image/png": "[encoded data removed]",
      "text/plain": [
       "<Figure size 432x288 with 1 Axes>"
      ]
     },
     "metadata": {
      "needs_background": "light"
     },
     "output_type": "display_data"
    },
    {
     "name": "stdout",
     "output_type": "stream",
     "text": [
      "27\n",
      "torch.Size([28, 28])\n"
     ]
    },
    {
     "data": {
      "image/png": "[encoded data removed]",
      "text/plain": [
       "<Figure size 432x288 with 1 Axes>"
      ]
     },
     "metadata": {
      "needs_background": "light"
     },
     "output_type": "display_data"
    },
    {
     "name": "stdout",
     "output_type": "stream",
     "text": [
      "28\n",
      "torch.Size([28, 28])\n"
     ]
    },
    {
     "data": {
      "image/png": "[encoded data removed]",
      "text/plain": [
       "<Figure size 432x288 with 1 Axes>"
      ]
     },
     "metadata": {
      "needs_background": "light"
     },
     "output_type": "display_data"
    },
    {
     "name": "stdout",
     "output_type": "stream",
     "text": [
      "29\n",
      "torch.Size([28, 28])\n"
     ]
    },
    {
     "data": {
      "image/png": "[encoded data removed]",
      "text/plain": [
       "<Figure size 432x288 with 1 Axes>"
      ]
     },
     "metadata": {
      "needs_background": "light"
     },
     "output_type": "display_data"
    },
    {
     "name": "stdout",
     "output_type": "stream",
     "text": [
      "30\n",
      "torch.Size([28, 28])\n"
     ]
    },
    {
     "data": {
      "image/png": "[encoded data removed]",
      "text/plain": [
       "<Figure size 432x288 with 1 Axes>"
      ]
     },
     "metadata": {
      "needs_background": "light"
     },
     "output_type": "display_data"
    },
    {
     "name": "stdout",
     "output_type": "stream",
     "text": [
      "31\n",
      "torch.Size([28, 28])\n"
     ]
    },
    {
     "data": {
      "image/png": "[encoded data removed]",
      "text/plain": [
       "<Figure size 432x288 with 1 Axes>"
      ]
     },
     "metadata": {
      "needs_background": "light"
     },
     "output_type": "display_data"
    },
    {
     "name": "stdout",
     "output_type": "stream",
     "text": [
      "32\n",
      "torch.Size([28, 28])\n"
     ]
    },
    {
     "data": {
      "image/png": "[encoded data removed]",
      "text/plain": [
       "<Figure size 432x288 with 1 Axes>"
      ]
     },
     "metadata": {
      "needs_background": "light"
     },
     "output_type": "display_data"
    },
    {
     "name": "stdout",
     "output_type": "stream",
     "text": [
      "33\n",
      "torch.Size([28, 28])\n"
     ]
    },
    {
     "data": {
      "image/png": "[encoded data removed]",
      "text/plain": [
       "<Figure size 432x288 with 1 Axes>"
      ]
     },
     "metadata": {
      "needs_background": "light"
     },
     "output_type": "display_data"
    },
    {
     "name": "stdout",
     "output_type": "stream",
     "text": [
      "34\n",
      "torch.Size([28, 28])\n"
     ]
    },
    {
     "data": {
      "image/png": "[encoded data removed]",
      "text/plain": [
       "<Figure size 432x288 with 1 Axes>"
      ]
     },
     "metadata": {
      "needs_background": "light"
     },
     "output_type": "display_data"
    },
    {
     "name": "stdout",
     "output_type": "stream",
     "text": [
      "35\n",
      "torch.Size([28, 28])\n"
     ]
    },
    {
     "data": {
      "image/png": "[encoded data removed]",
      "text/plain": [
       "<Figure size 432x288 with 1 Axes>"
      ]
     },
     "metadata": {
      "needs_background": "light"
     },
     "output_type": "display_data"
    },
    {
     "name": "stdout",
     "output_type": "stream",
     "text": [
      "36\n",
      "torch.Size([28, 28])\n"
     ]
    },
    {
     "data": {
      "image/png": "[encoded data removed]",
      "text/plain": [
       "<Figure size 432x288 with 1 Axes>"
      ]
     },
     "metadata": {
      "needs_background": "light"
     },
     "output_type": "display_data"
    },
    {
     "name": "stdout",
     "output_type": "stream",
     "text": [
      "37\n",
      "torch.Size([28, 28])\n"
     ]
    },
    {
     "data": {
      "image/png": "[encoded data removed]",
      "text/plain": [
       "<Figure size 432x288 with 1 Axes>"
      ]
     },
     "metadata": {
      "needs_background": "light"
     },
     "output_type": "display_data"
    },
    {
     "name": "stdout",
     "output_type": "stream",
     "text": [
      "38\n",
      "torch.Size([28, 28])\n"
     ]
    },
    {
     "data": {
      "image/png": "[encoded data removed]",
      "text/plain": [
       "<Figure size 432x288 with 1 Axes>"
      ]
     },
     "metadata": {
      "needs_background": "light"
     },
     "output_type": "display_data"
    },
    {
     "name": "stdout",
     "output_type": "stream",
     "text": [
      "39\n",
      "torch.Size([28, 28])\n"
     ]
    },
    {
     "data": {
      "image/png": "[encoded data removed]",
      "text/plain": [
       "<Figure size 432x288 with 1 Axes>"
      ]
     },
     "metadata": {
      "needs_background": "light"
     },
     "output_type": "display_data"
    },
    {
     "name": "stdout",
     "output_type": "stream",
     "text": [
      "40\n",
      "torch.Size([28, 28])\n"
     ]
    },
    {
     "data": {
      "image/png": "[encoded data removed]",
      "text/plain": [
       "<Figure size 432x288 with 1 Axes>"
      ]
     },
     "metadata": {
      "needs_background": "light"
     },
     "output_type": "display_data"
    },
    {
     "name": "stdout",
     "output_type": "stream",
     "text": [
      "41\n",
      "torch.Size([28, 28])\n"
     ]
    },
    {
     "data": {
      "image/png": "[encoded data removed]",
      "text/plain": [
       "<Figure size 432x288 with 1 Axes>"
      ]
     },
     "metadata": {
      "needs_background": "light"
     },
     "output_type": "display_data"
    },
    {
     "name": "stdout",
     "output_type": "stream",
     "text": [
      "42\n",
      "torch.Size([28, 28])\n"
     ]
    },
    {
     "data": {
      "image/png": "[encoded data removed]",
      "text/plain": [
       "<Figure size 432x288 with 1 Axes>"
      ]
     },
     "metadata": {
      "needs_background": "light"
     },
     "output_type": "display_data"
    },
    {
     "name": "stdout",
     "output_type": "stream",
     "text": [
      "43\n",
      "torch.Size([28, 28])\n"
     ]
    },
    {
     "data": {
      "image/png": "[encoded data removed]",
      "text/plain": [
       "<Figure size 432x288 with 1 Axes>"
      ]
     },
     "metadata": {
      "needs_background": "light"
     },
     "output_type": "display_data"
    },
    {
     "name": "stdout",
     "output_type": "stream",
     "text": [
      "44\n",
      "torch.Size([28, 28])\n"
     ]
    },
    {
     "data": {
      "image/png": "[encoded data removed]",
      "text/plain": [
       "<Figure size 432x288 with 1 Axes>"
      ]
     },
     "metadata": {
      "needs_background": "light"
     },
     "output_type": "display_data"
    },
    {
     "name": "stdout",
     "output_type": "stream",
     "text": [
      "45\n",
      "torch.Size([28, 28])\n"
     ]
    },
    {
     "data": {
      "image/png": "[encoded data removed]",
      "text/plain": [
       "<Figure size 432x288 with 1 Axes>"
      ]
     },
     "metadata": {
      "needs_background": "light"
     },
     "output_type": "display_data"
    },
    {
     "name": "stdout",
     "output_type": "stream",
     "text": [
      "46\n",
      "torch.Size([28, 28])\n"
     ]
    },
    {
     "data": {
      "image/png": "[encoded data removed]",
      "text/plain": [
       "<Figure size 432x288 with 1 Axes>"
      ]
     },
     "metadata": {
      "needs_background": "light"
     },
     "output_type": "display_data"
    },
    {
     "name": "stdout",
     "output_type": "stream",
     "text": [
      "47\n",
      "torch.Size([28, 28])\n"
     ]
    },
    {
     "data": {
      "image/png": "[encoded data removed]",
      "text/plain": [
       "<Figure size 432x288 with 1 Axes>"
      ]
     },
     "metadata": {
      "needs_background": "light"
     },
     "output_type": "display_data"
    },
    {
     "name": "stdout",
     "output_type": "stream",
     "text": [
      "48\n",
      "torch.Size([28, 28])\n"
     ]
    },
    {
     "data": {
      "image/png": "[encoded data removed]",
      "text/plain": [
       "<Figure size 432x288 with 1 Axes>"
      ]
     },
     "metadata": {
      "needs_background": "light"
     },
     "output_type": "display_data"
    },
    {
     "name": "stdout",
     "output_type": "stream",
     "text": [
      "49\n",
      "torch.Size([28, 28])\n"
     ]
    },
    {
     "data": {
      "image/png": "[encoded data removed]",
      "text/plain": [
       "<Figure size 432x288 with 1 Axes>"
      ]
     },
     "metadata": {
      "needs_background": "light"
     },
     "output_type": "display_data"
    },
    {
     "name": "stdout",
     "output_type": "stream",
     "text": [
      "50\n",
      "torch.Size([28, 28])\n"
     ]
    },
    {
     "data": {
      "image/png": "[encoded data removed]",
      "text/plain": [
       "<Figure size 432x288 with 1 Axes>"
      ]
     },
     "metadata": {
      "needs_background": "light"
     },
     "output_type": "display_data"
    },
    {
     "name": "stdout",
     "output_type": "stream",
     "text": [
      "51\n",
      "torch.Size([28, 28])\n"
     ]
    },
    {
     "data": {
      "image/png": "[encoded data removed]",
      "text/plain": [
       "<Figure size 432x288 with 1 Axes>"
      ]
     },
     "metadata": {
      "needs_background": "light"
     },
     "output_type": "display_data"
    },
    {
     "name": "stdout",
     "output_type": "stream",
     "text": [
      "52\n",
      "torch.Size([28, 28])\n"
     ]
    },
    {
     "data": {
      "image/png": "[encoded data removed]",
      "text/plain": [
       "<Figure size 432x288 with 1 Axes>"
      ]
     },
     "metadata": {
      "needs_background": "light"
     },
     "output_type": "display_data"
    },
    {
     "name": "stdout",
     "output_type": "stream",
     "text": [
      "53\n",
      "torch.Size([28, 28])\n"
     ]
    },
    {
     "data": {
      "image/png": "[encoded data removed]",
      "text/plain": [
       "<Figure size 432x288 with 1 Axes>"
      ]
     },
     "metadata": {
      "needs_background": "light"
     },
     "output_type": "display_data"
    },
    {
     "name": "stdout",
     "output_type": "stream",
     "text": [
      "54\n",
      "torch.Size([28, 28])\n"
     ]
    },
    {
     "data": {
      "image/png": "[encoded data removed]",
      "text/plain": [
       "<Figure size 432x288 with 1 Axes>"
      ]
     },
     "metadata": {
      "needs_background": "light"
     },
     "output_type": "display_data"
    },
    {
     "name": "stdout",
     "output_type": "stream",
     "text": [
      "55\n",
      "torch.Size([28, 28])\n"
     ]
    },
    {
     "data": {
      "image/png": "[encoded data removed]",
      "text/plain": [
       "<Figure size 432x288 with 1 Axes>"
      ]
     },
     "metadata": {
      "needs_background": "light"
     },
     "output_type": "display_data"
    },
    {
     "name": "stdout",
     "output_type": "stream",
     "text": [
      "56\n",
      "torch.Size([28, 28])\n"
     ]
    },
    {
     "data": {
      "image/png": "[encoded data removed]",
      "text/plain": [
       "<Figure size 432x288 with 1 Axes>"
      ]
     },
     "metadata": {
      "needs_background": "light"
     },
     "output_type": "display_data"
    },
    {
     "name": "stdout",
     "output_type": "stream",
     "text": [
      "57\n",
      "torch.Size([28, 28])\n"
     ]
    },
    {
     "data": {
      "image/png": "[encoded data removed]",
      "text/plain": [
       "<Figure size 432x288 with 1 Axes>"
      ]
     },
     "metadata": {
      "needs_background": "light"
     },
     "output_type": "display_data"
    },
    {
     "name": "stdout",
     "output_type": "stream",
     "text": [
      "58\n",
      "torch.Size([28, 28])\n"
     ]
    },
    {
     "data": {
      "image/png": "[encoded data removed]",
      "text/plain": [
       "<Figure size 432x288 with 1 Axes>"
      ]
     },
     "metadata": {
      "needs_background": "light"
     },
     "output_type": "display_data"
    },
    {
     "name": "stdout",
     "output_type": "stream",
     "text": [
      "59\n",
      "torch.Size([28, 28])\n"
     ]
    },
    {
     "data": {
      "image/png": "[encoded data removed]",
      "text/plain": [
       "<Figure size 432x288 with 1 Axes>"
      ]
     },
     "metadata": {
      "needs_background": "light"
     },
     "output_type": "display_data"
    },
    {
     "name": "stdout",
     "output_type": "stream",
     "text": [
      "60\n",
      "torch.Size([28, 28])\n"
     ]
    },
    {
     "data": {
      "image/png": "[encoded data removed]",
      "text/plain": [
       "<Figure size 432x288 with 1 Axes>"
      ]
     },
     "metadata": {
      "needs_background": "light"
     },
     "output_type": "display_data"
    },
    {
     "name": "stdout",
     "output_type": "stream",
     "text": [
      "61\n",
      "torch.Size([28, 28])\n"
     ]
    },
    {
     "data": {
      "image/png": "[encoded data removed]",
      "text/plain": [
       "<Figure size 432x288 with 1 Axes>"
      ]
     },
     "metadata": {
      "needs_background": "light"
     },
     "output_type": "display_data"
    },
    {
     "name": "stdout",
     "output_type": "stream",
     "text": [
      "62\n",
      "torch.Size([28, 28])\n"
     ]
    },
    {
     "data": {
      "image/png": "[encoded data removed]",
      "text/plain": [
       "<Figure size 432x288 with 1 Axes>"
      ]
     },
     "metadata": {
      "needs_background": "light"
     },
     "output_type": "display_data"
    },
    {
     "name": "stdout",
     "output_type": "stream",
     "text": [
      "63\n",
      "torch.Size([28, 28])\n"
     ]
    },
    {
     "data": {
      "image/png": "[encoded data removed]",
      "text/plain": [
       "<Figure size 432x288 with 1 Axes>"
      ]
     },
     "metadata": {
      "needs_background": "light"
     },
     "output_type": "display_data"
    },
    {
     "name": "stdout",
     "output_type": "stream",
     "text": [
      "64\n",
      "torch.Size([28, 28])\n"
     ]
    },
    {
     "data": {
      "image/png": "[encoded data removed]",
      "text/plain": [
       "<Figure size 432x288 with 1 Axes>"
      ]
     },
     "metadata": {
      "needs_background": "light"
     },
     "output_type": "display_data"
    },
    {
     "name": "stdout",
     "output_type": "stream",
     "text": [
      "65\n",
      "torch.Size([28, 28])\n"
     ]
    },
    {
     "data": {
      "image/png": "[encoded data removed]",
      "text/plain": [
       "<Figure size 432x288 with 1 Axes>"
      ]
     },
     "metadata": {
      "needs_background": "light"
     },
     "output_type": "display_data"
    },
    {
     "name": "stdout",
     "output_type": "stream",
     "text": [
      "66\n",
      "torch.Size([28, 28])\n"
     ]
    },
    {
     "data": {
      "image/png": "[encoded data removed]",
      "text/plain": [
       "<Figure size 432x288 with 1 Axes>"
      ]
     },
     "metadata": {
      "needs_background": "light"
     },
     "output_type": "display_data"
    },
    {
     "name": "stdout",
     "output_type": "stream",
     "text": [
      "67\n",
      "torch.Size([28, 28])\n"
     ]
    },
    {
     "data": {
      "image/png": "[encoded data removed]",
      "text/plain": [
       "<Figure size 432x288 with 1 Axes>"
      ]
     },
     "metadata": {
      "needs_background": "light"
     },
     "output_type": "display_data"
    },
    {
     "name": "stdout",
     "output_type": "stream",
     "text": [
      "68\n",
      "torch.Size([28, 28])\n"
     ]
    },
    {
     "data": {
      "image/png": "[encoded data removed]",
      "text/plain": [
       "<Figure size 432x288 with 1 Axes>"
      ]
     },
     "metadata": {
      "needs_background": "light"
     },
     "output_type": "display_data"
    },
    {
     "name": "stdout",
     "output_type": "stream",
     "text": [
      "69\n",
      "torch.Size([28, 28])\n"
     ]
    },
    {
     "data": {
      "image/png": "[encoded data removed]",
      "text/plain": [
       "<Figure size 432x288 with 1 Axes>"
      ]
     },
     "metadata": {
      "needs_background": "light"
     },
     "output_type": "display_data"
    },
    {
     "name": "stdout",
     "output_type": "stream",
     "text": [
      "70\n",
      "torch.Size([28, 28])\n"
     ]
    },
    {
     "data": {
      "image/png": "[encoded data removed]",
      "text/plain": [
       "<Figure size 432x288 with 1 Axes>"
      ]
     },
     "metadata": {
      "needs_background": "light"
     },
     "output_type": "display_data"
    },
    {
     "name": "stdout",
     "output_type": "stream",
     "text": [
      "71\n",
      "torch.Size([28, 28])\n"
     ]
    },
    {
     "data": {
      "image/png": "[encoded data removed]",
      "text/plain": [
       "<Figure size 432x288 with 1 Axes>"
      ]
     },
     "metadata": {
      "needs_background": "light"
     },
     "output_type": "display_data"
    },
    {
     "name": "stdout",
     "output_type": "stream",
     "text": [
      "72\n",
      "torch.Size([28, 28])\n"
     ]
    },
    {
     "data": {
      "image/png": "[encoded data removed]",
      "text/plain": [
       "<Figure size 432x288 with 1 Axes>"
      ]
     },
     "metadata": {
      "needs_background": "light"
     },
     "output_type": "display_data"
    },
    {
     "name": "stdout",
     "output_type": "stream",
     "text": [
      "73\n",
      "torch.Size([28, 28])\n"
     ]
    },
    {
     "data": {
      "image/png": "[encoded data removed]",
      "text/plain": [
       "<Figure size 432x288 with 1 Axes>"
      ]
     },
     "metadata": {
      "needs_background": "light"
     },
     "output_type": "display_data"
    },
    {
     "name": "stdout",
     "output_type": "stream",
     "text": [
      "74\n",
      "torch.Size([28, 28])\n"
     ]
    },
    {
     "data": {
      "image/png": "[encoded data removed]",
      "text/plain": [
       "<Figure size 432x288 with 1 Axes>"
      ]
     },
     "metadata": {
      "needs_background": "light"
     },
     "output_type": "display_data"
    },
    {
     "name": "stdout",
     "output_type": "stream",
     "text": [
      "75\n",
      "torch.Size([28, 28])\n"
     ]
    },
    {
     "data": {
      "image/png": "[encoded data removed]",
      "text/plain": [
       "<Figure size 432x288 with 1 Axes>"
      ]
     },
     "metadata": {
      "needs_background": "light"
     },
     "output_type": "display_data"
    },
    {
     "name": "stdout",
     "output_type": "stream",
     "text": [
      "76\n",
      "torch.Size([28, 28])\n"
     ]
    },
    {
     "data": {
      "image/png": "[encoded data removed]",
      "text/plain": [
       "<Figure size 432x288 with 1 Axes>"
      ]
     },
     "metadata": {
      "needs_background": "light"
     },
     "output_type": "display_data"
    },
    {
     "name": "stdout",
     "output_type": "stream",
     "text": [
      "77\n",
      "torch.Size([28, 28])\n"
     ]
    },
    {
     "data": {
      "image/png": "[encoded data removed]",
      "text/plain": [
       "<Figure size 432x288 with 1 Axes>"
      ]
     },
     "metadata": {
      "needs_background": "light"
     },
     "output_type": "display_data"
    },
    {
     "name": "stdout",
     "output_type": "stream",
     "text": [
      "78\n",
      "torch.Size([28, 28])\n"
     ]
    },
    {
     "data": {
      "image/png": "[encoded data removed]",
      "text/plain": [
       "<Figure size 432x288 with 1 Axes>"
      ]
     },
     "metadata": {
      "needs_background": "light"
     },
     "output_type": "display_data"
    },
    {
     "name": "stdout",
     "output_type": "stream",
     "text": [
      "79\n",
      "torch.Size([28, 28])\n"
     ]
    },
    {
     "data": {
      "image/png": "[encoded data removed]",
      "text/plain": [
       "<Figure size 432x288 with 1 Axes>"
      ]
     },
     "metadata": {
      "needs_background": "light"
     },
     "output_type": "display_data"
    },
    {
     "name": "stdout",
     "output_type": "stream",
     "text": [
      "80\n",
      "torch.Size([28, 28])\n"
     ]
    },
    {
     "data": {
      "image/png": "[encoded data removed]",
      "text/plain": [
       "<Figure size 432x288 with 1 Axes>"
      ]
     },
     "metadata": {
      "needs_background": "light"
     },
     "output_type": "display_data"
    },
    {
     "name": "stdout",
     "output_type": "stream",
     "text": [
      "81\n",
      "torch.Size([28, 28])\n"
     ]
    },
    {
     "data": {
      "image/png": "[encoded data removed]",
      "text/plain": [
       "<Figure size 432x288 with 1 Axes>"
      ]
     },
     "metadata": {
      "needs_background": "light"
     },
     "output_type": "display_data"
    },
    {
     "name": "stdout",
     "output_type": "stream",
     "text": [
      "82\n",
      "torch.Size([28, 28])\n"
     ]
    },
    {
     "data": {
      "image/png": "[encoded data removed]",
      "text/plain": [
       "<Figure size 432x288 with 1 Axes>"
      ]
     },
     "metadata": {
      "needs_background": "light"
     },
     "output_type": "display_data"
    },
    {
     "name": "stdout",
     "output_type": "stream",
     "text": [
      "83\n",
      "torch.Size([28, 28])\n"
     ]
    },
    {
     "data": {
      "image/png": "[encoded data removed]",
      "text/plain": [
       "<Figure size 432x288 with 1 Axes>"
      ]
     },
     "metadata": {
      "needs_background": "light"
     },
     "output_type": "display_data"
    },
    {
     "name": "stdout",
     "output_type": "stream",
     "text": [
      "84\n",
      "torch.Size([28, 28])\n"
     ]
    },
    {
     "data": {
      "image/png": "[encoded data removed]",
      "text/plain": [
       "<Figure size 432x288 with 1 Axes>"
      ]
     },
     "metadata": {
      "needs_background": "light"
     },
     "output_type": "display_data"
    },
    {
     "name": "stdout",
     "output_type": "stream",
     "text": [
      "85\n",
      "torch.Size([28, 28])\n"
     ]
    },
    {
     "data": {
      "image/png": "[encoded data removed]",
      "text/plain": [
       "<Figure size 432x288 with 1 Axes>"
      ]
     },
     "metadata": {
      "needs_background": "light"
     },
     "output_type": "display_data"
    },
    {
     "name": "stdout",
     "output_type": "stream",
     "text": [
      "86\n",
      "torch.Size([28, 28])\n"
     ]
    },
    {
     "data": {
      "image/png": "[encoded data removed]",
      "text/plain": [
       "<Figure size 432x288 with 1 Axes>"
      ]
     },
     "metadata": {
      "needs_background": "light"
     },
     "output_type": "display_data"
    },
    {
     "name": "stdout",
     "output_type": "stream",
     "text": [
      "87\n",
      "torch.Size([28, 28])\n"
     ]
    },
    {
     "data": {
      "image/png": "[encoded data removed]",
      "text/plain": [
       "<Figure size 432x288 with 1 Axes>"
      ]
     },
     "metadata": {
      "needs_background": "light"
     },
     "output_type": "display_data"
    },
    {
     "name": "stdout",
     "output_type": "stream",
     "text": [
      "88\n",
      "torch.Size([28, 28])\n"
     ]
    },
    {
     "data": {
      "image/png": "[encoded data removed]",
      "text/plain": [
       "<Figure size 432x288 with 1 Axes>"
      ]
     },
     "metadata": {
      "needs_background": "light"
     },
     "output_type": "display_data"
    },
    {
     "name": "stdout",
     "output_type": "stream",
     "text": [
      "89\n",
      "torch.Size([28, 28])\n"
     ]
    },
    {
     "data": {
      "image/png": "[encoded data removed]",
      "text/plain": [
       "<Figure size 432x288 with 1 Axes>"
      ]
     },
     "metadata": {
      "needs_background": "light"
     },
     "output_type": "display_data"
    },
    {
     "name": "stdout",
     "output_type": "stream",
     "text": [
      "90\n",
      "torch.Size([28, 28])\n"
     ]
    },
    {
     "data": {
      "image/png": "[encoded data removed]",
      "text/plain": [
       "<Figure size 432x288 with 1 Axes>"
      ]
     },
     "metadata": {
      "needs_background": "light"
     },
     "output_type": "display_data"
    },
    {
     "name": "stdout",
     "output_type": "stream",
     "text": [
      "91\n",
      "torch.Size([28, 28])\n"
     ]
    },
    {
     "data": {
      "image/png": "[encoded data removed]",
      "text/plain": [
       "<Figure size 432x288 with 1 Axes>"
      ]
     },
     "metadata": {
      "needs_background": "light"
     },
     "output_type": "display_data"
    },
    {
     "name": "stdout",
     "output_type": "stream",
     "text": [
      "92\n",
      "torch.Size([28, 28])\n"
     ]
    },
    {
     "data": {
      "image/png": "[encoded data removed]",
      "text/plain": [
       "<Figure size 432x288 with 1 Axes>"
      ]
     },
     "metadata": {
      "needs_background": "light"
     },
     "output_type": "display_data"
    },
    {
     "name": "stdout",
     "output_type": "stream",
     "text": [
      "93\n",
      "torch.Size([28, 28])\n"
     ]
    },
    {
     "data": {
      "image/png": "[encoded data removed]",
      "text/plain": [
       "<Figure size 432x288 with 1 Axes>"
      ]
     },
     "metadata": {
      "needs_background": "light"
     },
     "output_type": "display_data"
    },
    {
     "name": "stdout",
     "output_type": "stream",
     "text": [
      "94\n",
      "torch.Size([28, 28])\n"
     ]
    },
    {
     "data": {
      "image/png": "[encoded data removed]",
      "text/plain": [
       "<Figure size 432x288 with 1 Axes>"
      ]
     },
     "metadata": {
      "needs_background": "light"
     },
     "output_type": "display_data"
    },
    {
     "name": "stdout",
     "output_type": "stream",
     "text": [
      "95\n",
      "torch.Size([28, 28])\n"
     ]
    },
    {
     "data": {
      "image/png": "[encoded data removed]",
      "text/plain": [
       "<Figure size 432x288 with 1 Axes>"
      ]
     },
     "metadata": {
      "needs_background": "light"
     },
     "output_type": "display_data"
    },
    {
     "name": "stdout",
     "output_type": "stream",
     "text": [
      "96\n",
      "torch.Size([28, 28])\n"
     ]
    },
    {
     "data": {
      "image/png": "[encoded data removed]",
      "text/plain": [
       "<Figure size 432x288 with 1 Axes>"
      ]
     },
     "metadata": {
      "needs_background": "light"
     },
     "output_type": "display_data"
    },
    {
     "name": "stdout",
     "output_type": "stream",
     "text": [
      "97\n",
      "torch.Size([28, 28])\n"
     ]
    },
    {
     "data": {
      "image/png": "[encoded data removed]",
      "text/plain": [
       "<Figure size 432x288 with 1 Axes>"
      ]
     },
     "metadata": {
      "needs_background": "light"
     },
     "output_type": "display_data"
    },
    {
     "name": "stdout",
     "output_type": "stream",
     "text": [
      "98\n",
      "torch.Size([28, 28])\n"
     ]
    },
    {
     "data": {
      "image/png": "[encoded data removed]",
      "text/plain": [
       "<Figure size 432x288 with 1 Axes>"
      ]
     },
     "metadata": {
      "needs_background": "light"
     },
     "output_type": "display_data"
    },
    {
     "name": "stdout",
     "output_type": "stream",
     "text": [
      "99\n",
      "torch.Size([28, 28])\n"
     ]
    },
    {
     "data": {
      "image/png": "[encoded data removed]",
      "text/plain": [
       "<Figure size 432x288 with 1 Axes>"
      ]
     },
     "metadata": {
      "needs_background": "light"
     },
     "output_type": "display_data"
    }
   ],
   "source": [
    "iter=0\n",
    "for i, (images,labels) in enumerate(test_loader):\n",
    "    print(i)\n",
    "    print(images[0][0].shape)\n",
    "    plt.imshow(images[0].numpy().reshape(28,28),cmap='gray')\n",
    "    plt.show()"
   ]
  },
  {
   "cell_type": "code",
   "execution_count": 45,
   "metadata": {},
   "outputs": [
    {
     "ename": "NameError",
     "evalue": "name 'Variable' is not defined",
     "output_type": "error",
     "traceback": [
      "\u001b[1;31m---------------------------------------------------------------------------\u001b[0m",
      "\u001b[1;31mNameError\u001b[0m                                 Traceback (most recent call last)",
      "\u001b[1;32m<ipython-input-45-4282c7ebe8a5>\u001b[0m in \u001b[0;36m<module>\u001b[1;34m\u001b[0m\n\u001b[1;32m----> 1\u001b[1;33m \u001b[0mx\u001b[0m \u001b[1;33m=\u001b[0m \u001b[0mVariable\u001b[0m\u001b[1;33m(\u001b[0m\u001b[0mtorch\u001b[0m\u001b[1;33m.\u001b[0m\u001b[0mrandn\u001b[0m\u001b[1;33m(\u001b[0m\u001b[1;36m1\u001b[0m\u001b[1;33m,\u001b[0m\u001b[1;36m3\u001b[0m\u001b[1;33m)\u001b[0m\u001b[1;33m,\u001b[0m\u001b[0mrequires_grad\u001b[0m\u001b[1;33m=\u001b[0m\u001b[1;32mTrue\u001b[0m\u001b[1;33m)\u001b[0m\u001b[1;33m\u001b[0m\u001b[1;33m\u001b[0m\u001b[0m\n\u001b[0m",
      "\u001b[1;31mNameError\u001b[0m: name 'Variable' is not defined"
     ]
    }
   ],
   "source": [
    "x = Variable(torch.randn(1,3),requires_grad=True)\n"
   ]
  },
  {
   "cell_type": "code",
   "execution_count": 142,
   "metadata": {},
   "outputs": [
    {
     "name": "stdout",
     "output_type": "stream",
     "text": [
      "Shape of images torch.Size([100, 1, 28, 28])\n",
      "torch.Size([100, 10])\n",
      "Predicted values is torch.Size([100])\n",
      "Shape of images torch.Size([100, 1, 28, 28])\n",
      "torch.Size([100, 10])\n",
      "Predicted values is torch.Size([100])\n",
      "Shape of images torch.Size([100, 1, 28, 28])\n",
      "torch.Size([100, 10])\n",
      "Predicted values is torch.Size([100])\n",
      "Shape of images torch.Size([100, 1, 28, 28])\n",
      "torch.Size([100, 10])\n",
      "Predicted values is torch.Size([100])\n",
      "Shape of images torch.Size([100, 1, 28, 28])\n",
      "torch.Size([100, 10])\n",
      "Predicted values is torch.Size([100])\n",
      "Shape of images torch.Size([100, 1, 28, 28])\n",
      "torch.Size([100, 10])\n",
      "Predicted values is torch.Size([100])\n",
      "Shape of images torch.Size([100, 1, 28, 28])\n",
      "torch.Size([100, 10])\n",
      "Predicted values is torch.Size([100])\n",
      "Shape of images torch.Size([100, 1, 28, 28])\n",
      "torch.Size([100, 10])\n",
      "Predicted values is torch.Size([100])\n",
      "Shape of images torch.Size([100, 1, 28, 28])\n",
      "torch.Size([100, 10])\n",
      "Predicted values is torch.Size([100])\n",
      "Shape of images torch.Size([100, 1, 28, 28])\n",
      "torch.Size([100, 10])\n",
      "Predicted values is torch.Size([100])\n",
      "Shape of images torch.Size([100, 1, 28, 28])\n",
      "torch.Size([100, 10])\n",
      "Predicted values is torch.Size([100])\n",
      "Shape of images torch.Size([100, 1, 28, 28])\n",
      "torch.Size([100, 10])\n",
      "Predicted values is torch.Size([100])\n",
      "Shape of images torch.Size([100, 1, 28, 28])\n",
      "torch.Size([100, 10])\n",
      "Predicted values is torch.Size([100])\n",
      "Shape of images torch.Size([100, 1, 28, 28])\n",
      "torch.Size([100, 10])\n",
      "Predicted values is torch.Size([100])\n",
      "Shape of images torch.Size([100, 1, 28, 28])\n",
      "torch.Size([100, 10])\n",
      "Predicted values is torch.Size([100])\n",
      "Shape of images torch.Size([100, 1, 28, 28])\n",
      "torch.Size([100, 10])\n",
      "Predicted values is torch.Size([100])\n",
      "Shape of images torch.Size([100, 1, 28, 28])\n",
      "torch.Size([100, 10])\n",
      "Predicted values is torch.Size([100])\n",
      "Shape of images torch.Size([100, 1, 28, 28])\n",
      "torch.Size([100, 10])\n",
      "Predicted values is torch.Size([100])\n",
      "Shape of images torch.Size([100, 1, 28, 28])\n",
      "torch.Size([100, 10])\n",
      "Predicted values is torch.Size([100])\n",
      "Shape of images torch.Size([100, 1, 28, 28])\n",
      "torch.Size([100, 10])\n",
      "Predicted values is torch.Size([100])\n",
      "Shape of images torch.Size([100, 1, 28, 28])\n",
      "torch.Size([100, 10])\n",
      "Predicted values is torch.Size([100])\n",
      "Shape of images torch.Size([100, 1, 28, 28])\n",
      "torch.Size([100, 10])\n",
      "Predicted values is torch.Size([100])\n",
      "Shape of images torch.Size([100, 1, 28, 28])\n",
      "torch.Size([100, 10])\n",
      "Predicted values is torch.Size([100])\n",
      "Shape of images torch.Size([100, 1, 28, 28])\n",
      "torch.Size([100, 10])\n",
      "Predicted values is torch.Size([100])\n",
      "Shape of images torch.Size([100, 1, 28, 28])\n",
      "torch.Size([100, 10])\n",
      "Predicted values is torch.Size([100])\n",
      "Shape of images torch.Size([100, 1, 28, 28])\n",
      "torch.Size([100, 10])\n",
      "Predicted values is torch.Size([100])\n",
      "Shape of images torch.Size([100, 1, 28, 28])\n",
      "torch.Size([100, 10])\n",
      "Predicted values is torch.Size([100])\n",
      "Shape of images torch.Size([100, 1, 28, 28])\n",
      "torch.Size([100, 10])\n",
      "Predicted values is torch.Size([100])\n",
      "Shape of images torch.Size([100, 1, 28, 28])\n",
      "torch.Size([100, 10])\n",
      "Predicted values is torch.Size([100])\n",
      "Shape of images torch.Size([100, 1, 28, 28])\n",
      "torch.Size([100, 10])\n",
      "Predicted values is torch.Size([100])\n",
      "Shape of images torch.Size([100, 1, 28, 28])\n",
      "torch.Size([100, 10])\n",
      "Predicted values is torch.Size([100])\n",
      "Shape of images torch.Size([100, 1, 28, 28])\n",
      "torch.Size([100, 10])\n",
      "Predicted values is torch.Size([100])\n",
      "Shape of images torch.Size([100, 1, 28, 28])\n",
      "torch.Size([100, 10])\n",
      "Predicted values is torch.Size([100])\n",
      "Shape of images torch.Size([100, 1, 28, 28])\n",
      "torch.Size([100, 10])\n",
      "Predicted values is torch.Size([100])\n",
      "Shape of images torch.Size([100, 1, 28, 28])\n",
      "torch.Size([100, 10])\n",
      "Predicted values is torch.Size([100])\n",
      "Shape of images torch.Size([100, 1, 28, 28])\n",
      "torch.Size([100, 10])\n",
      "Predicted values is torch.Size([100])\n",
      "Shape of images torch.Size([100, 1, 28, 28])\n",
      "torch.Size([100, 10])\n",
      "Predicted values is torch.Size([100])\n",
      "Shape of images torch.Size([100, 1, 28, 28])\n",
      "torch.Size([100, 10])\n",
      "Predicted values is torch.Size([100])\n",
      "Shape of images torch.Size([100, 1, 28, 28])\n",
      "torch.Size([100, 10])\n",
      "Predicted values is torch.Size([100])\n",
      "Shape of images torch.Size([100, 1, 28, 28])\n",
      "torch.Size([100, 10])\n",
      "Predicted values is torch.Size([100])\n",
      "Shape of images torch.Size([100, 1, 28, 28])\n",
      "torch.Size([100, 10])\n",
      "Predicted values is torch.Size([100])\n",
      "Shape of images torch.Size([100, 1, 28, 28])\n",
      "torch.Size([100, 10])\n",
      "Predicted values is torch.Size([100])\n",
      "Shape of images torch.Size([100, 1, 28, 28])\n",
      "torch.Size([100, 10])\n",
      "Predicted values is torch.Size([100])\n",
      "Shape of images torch.Size([100, 1, 28, 28])\n",
      "torch.Size([100, 10])\n",
      "Predicted values is torch.Size([100])\n",
      "Shape of images torch.Size([100, 1, 28, 28])\n",
      "torch.Size([100, 10])\n",
      "Predicted values is torch.Size([100])\n",
      "Shape of images torch.Size([100, 1, 28, 28])\n",
      "torch.Size([100, 10])\n",
      "Predicted values is torch.Size([100])\n",
      "Shape of images torch.Size([100, 1, 28, 28])\n",
      "torch.Size([100, 10])\n",
      "Predicted values is torch.Size([100])\n",
      "Shape of images torch.Size([100, 1, 28, 28])\n",
      "torch.Size([100, 10])\n",
      "Predicted values is torch.Size([100])\n",
      "Shape of images torch.Size([100, 1, 28, 28])\n",
      "torch.Size([100, 10])\n",
      "Predicted values is torch.Size([100])\n",
      "Shape of images torch.Size([100, 1, 28, 28])\n",
      "torch.Size([100, 10])\n",
      "Predicted values is torch.Size([100])\n",
      "Shape of images torch.Size([100, 1, 28, 28])\n",
      "torch.Size([100, 10])\n",
      "Predicted values is torch.Size([100])\n",
      "Shape of images torch.Size([100, 1, 28, 28])\n",
      "torch.Size([100, 10])\n",
      "Predicted values is torch.Size([100])\n",
      "Shape of images torch.Size([100, 1, 28, 28])\n",
      "torch.Size([100, 10])\n",
      "Predicted values is torch.Size([100])\n",
      "Shape of images torch.Size([100, 1, 28, 28])\n",
      "torch.Size([100, 10])\n",
      "Predicted values is torch.Size([100])\n",
      "Shape of images torch.Size([100, 1, 28, 28])\n",
      "torch.Size([100, 10])\n",
      "Predicted values is torch.Size([100])\n",
      "Shape of images torch.Size([100, 1, 28, 28])\n",
      "torch.Size([100, 10])\n",
      "Predicted values is torch.Size([100])\n",
      "Shape of images torch.Size([100, 1, 28, 28])\n",
      "torch.Size([100, 10])\n",
      "Predicted values is torch.Size([100])\n",
      "Shape of images torch.Size([100, 1, 28, 28])\n",
      "torch.Size([100, 10])\n",
      "Predicted values is torch.Size([100])\n",
      "Shape of images torch.Size([100, 1, 28, 28])\n",
      "torch.Size([100, 10])\n",
      "Predicted values is torch.Size([100])\n",
      "Shape of images torch.Size([100, 1, 28, 28])\n",
      "torch.Size([100, 10])\n",
      "Predicted values is torch.Size([100])\n",
      "Shape of images torch.Size([100, 1, 28, 28])\n",
      "torch.Size([100, 10])\n",
      "Predicted values is torch.Size([100])\n",
      "Shape of images torch.Size([100, 1, 28, 28])\n",
      "torch.Size([100, 10])\n",
      "Predicted values is torch.Size([100])\n",
      "Shape of images torch.Size([100, 1, 28, 28])\n",
      "torch.Size([100, 10])\n",
      "Predicted values is torch.Size([100])\n",
      "Shape of images torch.Size([100, 1, 28, 28])\n",
      "torch.Size([100, 10])\n",
      "Predicted values is torch.Size([100])\n",
      "Shape of images torch.Size([100, 1, 28, 28])\n",
      "torch.Size([100, 10])\n",
      "Predicted values is torch.Size([100])\n",
      "Shape of images torch.Size([100, 1, 28, 28])\n",
      "torch.Size([100, 10])\n",
      "Predicted values is torch.Size([100])\n",
      "Shape of images torch.Size([100, 1, 28, 28])\n",
      "torch.Size([100, 10])\n",
      "Predicted values is torch.Size([100])\n",
      "Shape of images torch.Size([100, 1, 28, 28])\n",
      "torch.Size([100, 10])\n",
      "Predicted values is torch.Size([100])\n",
      "Shape of images torch.Size([100, 1, 28, 28])\n",
      "torch.Size([100, 10])\n",
      "Predicted values is torch.Size([100])\n",
      "Shape of images torch.Size([100, 1, 28, 28])\n",
      "torch.Size([100, 10])\n",
      "Predicted values is torch.Size([100])\n",
      "Shape of images torch.Size([100, 1, 28, 28])\n",
      "torch.Size([100, 10])\n",
      "Predicted values is torch.Size([100])\n",
      "Shape of images torch.Size([100, 1, 28, 28])\n",
      "torch.Size([100, 10])\n",
      "Predicted values is torch.Size([100])\n",
      "Shape of images torch.Size([100, 1, 28, 28])\n",
      "torch.Size([100, 10])\n",
      "Predicted values is torch.Size([100])\n",
      "Shape of images torch.Size([100, 1, 28, 28])\n",
      "torch.Size([100, 10])\n",
      "Predicted values is torch.Size([100])\n",
      "Shape of images torch.Size([100, 1, 28, 28])\n",
      "torch.Size([100, 10])\n",
      "Predicted values is torch.Size([100])\n",
      "Shape of images torch.Size([100, 1, 28, 28])\n",
      "torch.Size([100, 10])\n",
      "Predicted values is torch.Size([100])\n",
      "Shape of images torch.Size([100, 1, 28, 28])\n",
      "torch.Size([100, 10])\n",
      "Predicted values is torch.Size([100])\n",
      "Shape of images torch.Size([100, 1, 28, 28])\n",
      "torch.Size([100, 10])\n",
      "Predicted values is torch.Size([100])\n",
      "Shape of images torch.Size([100, 1, 28, 28])\n",
      "torch.Size([100, 10])\n",
      "Predicted values is torch.Size([100])\n",
      "Shape of images torch.Size([100, 1, 28, 28])\n",
      "torch.Size([100, 10])\n",
      "Predicted values is torch.Size([100])\n",
      "Shape of images torch.Size([100, 1, 28, 28])\n",
      "torch.Size([100, 10])\n",
      "Predicted values is torch.Size([100])\n",
      "Shape of images torch.Size([100, 1, 28, 28])\n",
      "torch.Size([100, 10])\n",
      "Predicted values is torch.Size([100])\n",
      "Shape of images torch.Size([100, 1, 28, 28])\n",
      "torch.Size([100, 10])\n",
      "Predicted values is torch.Size([100])\n",
      "Shape of images torch.Size([100, 1, 28, 28])\n",
      "torch.Size([100, 10])\n",
      "Predicted values is torch.Size([100])\n",
      "Shape of images torch.Size([100, 1, 28, 28])\n",
      "torch.Size([100, 10])\n",
      "Predicted values is torch.Size([100])\n",
      "Shape of images torch.Size([100, 1, 28, 28])\n",
      "torch.Size([100, 10])\n",
      "Predicted values is torch.Size([100])\n",
      "Shape of images torch.Size([100, 1, 28, 28])\n"
     ]
    },
    {
     "name": "stdout",
     "output_type": "stream",
     "text": [
      "torch.Size([100, 10])\n",
      "Predicted values is torch.Size([100])\n",
      "Shape of images torch.Size([100, 1, 28, 28])\n",
      "torch.Size([100, 10])\n",
      "Predicted values is torch.Size([100])\n",
      "Shape of images torch.Size([100, 1, 28, 28])\n",
      "torch.Size([100, 10])\n",
      "Predicted values is torch.Size([100])\n",
      "Shape of images torch.Size([100, 1, 28, 28])\n",
      "torch.Size([100, 10])\n",
      "Predicted values is torch.Size([100])\n",
      "Shape of images torch.Size([100, 1, 28, 28])\n",
      "torch.Size([100, 10])\n",
      "Predicted values is torch.Size([100])\n",
      "Shape of images torch.Size([100, 1, 28, 28])\n",
      "torch.Size([100, 10])\n",
      "Predicted values is torch.Size([100])\n",
      "Shape of images torch.Size([100, 1, 28, 28])\n",
      "torch.Size([100, 10])\n",
      "Predicted values is torch.Size([100])\n",
      "Shape of images torch.Size([100, 1, 28, 28])\n",
      "torch.Size([100, 10])\n",
      "Predicted values is torch.Size([100])\n",
      "Shape of images torch.Size([100, 1, 28, 28])\n",
      "torch.Size([100, 10])\n",
      "Predicted values is torch.Size([100])\n",
      "Shape of images torch.Size([100, 1, 28, 28])\n",
      "torch.Size([100, 10])\n",
      "Predicted values is torch.Size([100])\n",
      "Shape of images torch.Size([100, 1, 28, 28])\n",
      "torch.Size([100, 10])\n",
      "Predicted values is torch.Size([100])\n",
      "Shape of images torch.Size([100, 1, 28, 28])\n",
      "torch.Size([100, 10])\n",
      "Predicted values is torch.Size([100])\n",
      "Shape of images torch.Size([100, 1, 28, 28])\n",
      "torch.Size([100, 10])\n",
      "Predicted values is torch.Size([100])\n",
      "Shape of images torch.Size([100, 1, 28, 28])\n",
      "torch.Size([100, 10])\n",
      "Predicted values is torch.Size([100])\n",
      "Iteration: 500. Loss: 0.42002350091934204. Accuracy: 89\n",
      "Shape of images torch.Size([100, 1, 28, 28])\n",
      "torch.Size([100, 10])\n",
      "Predicted values is torch.Size([100])\n",
      "Shape of images torch.Size([100, 1, 28, 28])\n",
      "torch.Size([100, 10])\n",
      "Predicted values is torch.Size([100])\n",
      "Shape of images torch.Size([100, 1, 28, 28])\n",
      "torch.Size([100, 10])\n",
      "Predicted values is torch.Size([100])\n",
      "Shape of images torch.Size([100, 1, 28, 28])\n",
      "torch.Size([100, 10])\n",
      "Predicted values is torch.Size([100])\n",
      "Shape of images torch.Size([100, 1, 28, 28])\n",
      "torch.Size([100, 10])\n",
      "Predicted values is torch.Size([100])\n",
      "Shape of images torch.Size([100, 1, 28, 28])\n",
      "torch.Size([100, 10])\n",
      "Predicted values is torch.Size([100])\n",
      "Shape of images torch.Size([100, 1, 28, 28])\n",
      "torch.Size([100, 10])\n",
      "Predicted values is torch.Size([100])\n",
      "Shape of images torch.Size([100, 1, 28, 28])\n",
      "torch.Size([100, 10])\n",
      "Predicted values is torch.Size([100])\n",
      "Shape of images torch.Size([100, 1, 28, 28])\n",
      "torch.Size([100, 10])\n",
      "Predicted values is torch.Size([100])\n",
      "Shape of images torch.Size([100, 1, 28, 28])\n",
      "torch.Size([100, 10])\n",
      "Predicted values is torch.Size([100])\n",
      "Shape of images torch.Size([100, 1, 28, 28])\n",
      "torch.Size([100, 10])\n",
      "Predicted values is torch.Size([100])\n",
      "Shape of images torch.Size([100, 1, 28, 28])\n",
      "torch.Size([100, 10])\n",
      "Predicted values is torch.Size([100])\n",
      "Shape of images torch.Size([100, 1, 28, 28])\n",
      "torch.Size([100, 10])\n",
      "Predicted values is torch.Size([100])\n",
      "Shape of images torch.Size([100, 1, 28, 28])\n",
      "torch.Size([100, 10])\n",
      "Predicted values is torch.Size([100])\n",
      "Shape of images torch.Size([100, 1, 28, 28])\n",
      "torch.Size([100, 10])\n",
      "Predicted values is torch.Size([100])\n",
      "Shape of images torch.Size([100, 1, 28, 28])\n",
      "torch.Size([100, 10])\n",
      "Predicted values is torch.Size([100])\n",
      "Shape of images torch.Size([100, 1, 28, 28])\n",
      "torch.Size([100, 10])\n",
      "Predicted values is torch.Size([100])\n",
      "Shape of images torch.Size([100, 1, 28, 28])\n",
      "torch.Size([100, 10])\n",
      "Predicted values is torch.Size([100])\n",
      "Shape of images torch.Size([100, 1, 28, 28])\n",
      "torch.Size([100, 10])\n",
      "Predicted values is torch.Size([100])\n",
      "Shape of images torch.Size([100, 1, 28, 28])\n",
      "torch.Size([100, 10])\n",
      "Predicted values is torch.Size([100])\n",
      "Shape of images torch.Size([100, 1, 28, 28])\n",
      "torch.Size([100, 10])\n",
      "Predicted values is torch.Size([100])\n",
      "Shape of images torch.Size([100, 1, 28, 28])\n",
      "torch.Size([100, 10])\n",
      "Predicted values is torch.Size([100])\n",
      "Shape of images torch.Size([100, 1, 28, 28])\n",
      "torch.Size([100, 10])\n",
      "Predicted values is torch.Size([100])\n",
      "Shape of images torch.Size([100, 1, 28, 28])\n",
      "torch.Size([100, 10])\n",
      "Predicted values is torch.Size([100])\n",
      "Shape of images torch.Size([100, 1, 28, 28])\n",
      "torch.Size([100, 10])\n",
      "Predicted values is torch.Size([100])\n",
      "Shape of images torch.Size([100, 1, 28, 28])\n",
      "torch.Size([100, 10])\n",
      "Predicted values is torch.Size([100])\n",
      "Shape of images torch.Size([100, 1, 28, 28])\n",
      "torch.Size([100, 10])\n",
      "Predicted values is torch.Size([100])\n",
      "Shape of images torch.Size([100, 1, 28, 28])\n",
      "torch.Size([100, 10])\n",
      "Predicted values is torch.Size([100])\n",
      "Shape of images torch.Size([100, 1, 28, 28])\n",
      "torch.Size([100, 10])\n",
      "Predicted values is torch.Size([100])\n",
      "Shape of images torch.Size([100, 1, 28, 28])\n",
      "torch.Size([100, 10])\n",
      "Predicted values is torch.Size([100])\n",
      "Shape of images torch.Size([100, 1, 28, 28])\n",
      "torch.Size([100, 10])\n",
      "Predicted values is torch.Size([100])\n",
      "Shape of images torch.Size([100, 1, 28, 28])\n",
      "torch.Size([100, 10])\n",
      "Predicted values is torch.Size([100])\n",
      "Shape of images torch.Size([100, 1, 28, 28])\n",
      "torch.Size([100, 10])\n",
      "Predicted values is torch.Size([100])\n",
      "Shape of images torch.Size([100, 1, 28, 28])\n",
      "torch.Size([100, 10])\n",
      "Predicted values is torch.Size([100])\n",
      "Shape of images torch.Size([100, 1, 28, 28])\n",
      "torch.Size([100, 10])\n",
      "Predicted values is torch.Size([100])\n",
      "Shape of images torch.Size([100, 1, 28, 28])\n",
      "torch.Size([100, 10])\n",
      "Predicted values is torch.Size([100])\n",
      "Shape of images torch.Size([100, 1, 28, 28])\n",
      "torch.Size([100, 10])\n",
      "Predicted values is torch.Size([100])\n",
      "Shape of images torch.Size([100, 1, 28, 28])\n",
      "torch.Size([100, 10])\n",
      "Predicted values is torch.Size([100])\n",
      "Shape of images torch.Size([100, 1, 28, 28])\n",
      "torch.Size([100, 10])\n",
      "Predicted values is torch.Size([100])\n",
      "Shape of images torch.Size([100, 1, 28, 28])\n",
      "torch.Size([100, 10])\n",
      "Predicted values is torch.Size([100])\n",
      "Shape of images torch.Size([100, 1, 28, 28])\n",
      "torch.Size([100, 10])\n",
      "Predicted values is torch.Size([100])\n",
      "Shape of images torch.Size([100, 1, 28, 28])\n",
      "torch.Size([100, 10])\n",
      "Predicted values is torch.Size([100])\n",
      "Shape of images torch.Size([100, 1, 28, 28])\n",
      "torch.Size([100, 10])\n",
      "Predicted values is torch.Size([100])\n",
      "Shape of images torch.Size([100, 1, 28, 28])\n",
      "torch.Size([100, 10])\n",
      "Predicted values is torch.Size([100])\n",
      "Shape of images torch.Size([100, 1, 28, 28])\n",
      "torch.Size([100, 10])\n",
      "Predicted values is torch.Size([100])\n",
      "Shape of images torch.Size([100, 1, 28, 28])\n",
      "torch.Size([100, 10])\n",
      "Predicted values is torch.Size([100])\n",
      "Shape of images torch.Size([100, 1, 28, 28])\n",
      "torch.Size([100, 10])\n",
      "Predicted values is torch.Size([100])\n",
      "Shape of images torch.Size([100, 1, 28, 28])\n",
      "torch.Size([100, 10])\n",
      "Predicted values is torch.Size([100])\n",
      "Shape of images torch.Size([100, 1, 28, 28])\n",
      "torch.Size([100, 10])\n",
      "Predicted values is torch.Size([100])\n",
      "Shape of images torch.Size([100, 1, 28, 28])\n",
      "torch.Size([100, 10])\n",
      "Predicted values is torch.Size([100])\n",
      "Shape of images torch.Size([100, 1, 28, 28])\n",
      "torch.Size([100, 10])\n",
      "Predicted values is torch.Size([100])\n",
      "Shape of images torch.Size([100, 1, 28, 28])\n",
      "torch.Size([100, 10])\n",
      "Predicted values is torch.Size([100])\n",
      "Shape of images torch.Size([100, 1, 28, 28])\n",
      "torch.Size([100, 10])\n",
      "Predicted values is torch.Size([100])\n",
      "Shape of images torch.Size([100, 1, 28, 28])\n",
      "torch.Size([100, 10])\n",
      "Predicted values is torch.Size([100])\n",
      "Shape of images torch.Size([100, 1, 28, 28])\n",
      "torch.Size([100, 10])\n",
      "Predicted values is torch.Size([100])\n",
      "Shape of images torch.Size([100, 1, 28, 28])\n",
      "torch.Size([100, 10])\n",
      "Predicted values is torch.Size([100])\n",
      "Shape of images torch.Size([100, 1, 28, 28])\n",
      "torch.Size([100, 10])\n",
      "Predicted values is torch.Size([100])\n",
      "Shape of images torch.Size([100, 1, 28, 28])\n",
      "torch.Size([100, 10])\n",
      "Predicted values is torch.Size([100])\n",
      "Shape of images torch.Size([100, 1, 28, 28])\n",
      "torch.Size([100, 10])\n",
      "Predicted values is torch.Size([100])\n",
      "Shape of images torch.Size([100, 1, 28, 28])\n",
      "torch.Size([100, 10])\n",
      "Predicted values is torch.Size([100])\n",
      "Shape of images torch.Size([100, 1, 28, 28])\n",
      "torch.Size([100, 10])\n",
      "Predicted values is torch.Size([100])\n",
      "Shape of images torch.Size([100, 1, 28, 28])\n",
      "torch.Size([100, 10])\n",
      "Predicted values is torch.Size([100])\n",
      "Shape of images torch.Size([100, 1, 28, 28])\n",
      "torch.Size([100, 10])\n",
      "Predicted values is torch.Size([100])\n",
      "Shape of images torch.Size([100, 1, 28, 28])\n",
      "torch.Size([100, 10])\n",
      "Predicted values is torch.Size([100])\n",
      "Shape of images torch.Size([100, 1, 28, 28])\n",
      "torch.Size([100, 10])\n",
      "Predicted values is torch.Size([100])\n",
      "Shape of images torch.Size([100, 1, 28, 28])\n",
      "torch.Size([100, 10])\n",
      "Predicted values is torch.Size([100])\n",
      "Shape of images torch.Size([100, 1, 28, 28])\n",
      "torch.Size([100, 10])\n",
      "Predicted values is torch.Size([100])\n",
      "Shape of images torch.Size([100, 1, 28, 28])\n",
      "torch.Size([100, 10])\n",
      "Predicted values is torch.Size([100])\n",
      "Shape of images torch.Size([100, 1, 28, 28])\n",
      "torch.Size([100, 10])\n",
      "Predicted values is torch.Size([100])\n",
      "Shape of images torch.Size([100, 1, 28, 28])\n"
     ]
    },
    {
     "name": "stdout",
     "output_type": "stream",
     "text": [
      "torch.Size([100, 10])\n",
      "Predicted values is torch.Size([100])\n",
      "Shape of images torch.Size([100, 1, 28, 28])\n",
      "torch.Size([100, 10])\n",
      "Predicted values is torch.Size([100])\n",
      "Shape of images torch.Size([100, 1, 28, 28])\n",
      "torch.Size([100, 10])\n",
      "Predicted values is torch.Size([100])\n",
      "Shape of images torch.Size([100, 1, 28, 28])\n",
      "torch.Size([100, 10])\n",
      "Predicted values is torch.Size([100])\n",
      "Shape of images torch.Size([100, 1, 28, 28])\n",
      "torch.Size([100, 10])\n",
      "Predicted values is torch.Size([100])\n",
      "Shape of images torch.Size([100, 1, 28, 28])\n",
      "torch.Size([100, 10])\n",
      "Predicted values is torch.Size([100])\n",
      "Shape of images torch.Size([100, 1, 28, 28])\n",
      "torch.Size([100, 10])\n",
      "Predicted values is torch.Size([100])\n",
      "Shape of images torch.Size([100, 1, 28, 28])\n",
      "torch.Size([100, 10])\n",
      "Predicted values is torch.Size([100])\n",
      "Shape of images torch.Size([100, 1, 28, 28])\n",
      "torch.Size([100, 10])\n",
      "Predicted values is torch.Size([100])\n",
      "Shape of images torch.Size([100, 1, 28, 28])\n",
      "torch.Size([100, 10])\n",
      "Predicted values is torch.Size([100])\n",
      "Shape of images torch.Size([100, 1, 28, 28])\n",
      "torch.Size([100, 10])\n",
      "Predicted values is torch.Size([100])\n",
      "Shape of images torch.Size([100, 1, 28, 28])\n",
      "torch.Size([100, 10])\n",
      "Predicted values is torch.Size([100])\n",
      "Shape of images torch.Size([100, 1, 28, 28])\n",
      "torch.Size([100, 10])\n",
      "Predicted values is torch.Size([100])\n",
      "Shape of images torch.Size([100, 1, 28, 28])\n",
      "torch.Size([100, 10])\n",
      "Predicted values is torch.Size([100])\n",
      "Shape of images torch.Size([100, 1, 28, 28])\n",
      "torch.Size([100, 10])\n",
      "Predicted values is torch.Size([100])\n",
      "Shape of images torch.Size([100, 1, 28, 28])\n",
      "torch.Size([100, 10])\n",
      "Predicted values is torch.Size([100])\n",
      "Shape of images torch.Size([100, 1, 28, 28])\n",
      "torch.Size([100, 10])\n",
      "Predicted values is torch.Size([100])\n",
      "Shape of images torch.Size([100, 1, 28, 28])\n",
      "torch.Size([100, 10])\n",
      "Predicted values is torch.Size([100])\n",
      "Shape of images torch.Size([100, 1, 28, 28])\n",
      "torch.Size([100, 10])\n",
      "Predicted values is torch.Size([100])\n",
      "Shape of images torch.Size([100, 1, 28, 28])\n",
      "torch.Size([100, 10])\n",
      "Predicted values is torch.Size([100])\n",
      "Shape of images torch.Size([100, 1, 28, 28])\n",
      "torch.Size([100, 10])\n",
      "Predicted values is torch.Size([100])\n",
      "Shape of images torch.Size([100, 1, 28, 28])\n",
      "torch.Size([100, 10])\n",
      "Predicted values is torch.Size([100])\n",
      "Shape of images torch.Size([100, 1, 28, 28])\n",
      "torch.Size([100, 10])\n",
      "Predicted values is torch.Size([100])\n",
      "Shape of images torch.Size([100, 1, 28, 28])\n",
      "torch.Size([100, 10])\n",
      "Predicted values is torch.Size([100])\n",
      "Shape of images torch.Size([100, 1, 28, 28])\n",
      "torch.Size([100, 10])\n",
      "Predicted values is torch.Size([100])\n",
      "Shape of images torch.Size([100, 1, 28, 28])\n",
      "torch.Size([100, 10])\n",
      "Predicted values is torch.Size([100])\n",
      "Shape of images torch.Size([100, 1, 28, 28])\n",
      "torch.Size([100, 10])\n",
      "Predicted values is torch.Size([100])\n",
      "Shape of images torch.Size([100, 1, 28, 28])\n",
      "torch.Size([100, 10])\n",
      "Predicted values is torch.Size([100])\n",
      "Shape of images torch.Size([100, 1, 28, 28])\n",
      "torch.Size([100, 10])\n",
      "Predicted values is torch.Size([100])\n",
      "Shape of images torch.Size([100, 1, 28, 28])\n",
      "torch.Size([100, 10])\n",
      "Predicted values is torch.Size([100])\n",
      "Shape of images torch.Size([100, 1, 28, 28])\n",
      "torch.Size([100, 10])\n",
      "Predicted values is torch.Size([100])\n",
      "Iteration: 1000. Loss: 0.5699675679206848. Accuracy: 89\n",
      "Shape of images torch.Size([100, 1, 28, 28])\n",
      "torch.Size([100, 10])\n",
      "Predicted values is torch.Size([100])\n",
      "Shape of images torch.Size([100, 1, 28, 28])\n",
      "torch.Size([100, 10])\n",
      "Predicted values is torch.Size([100])\n",
      "Shape of images torch.Size([100, 1, 28, 28])\n",
      "torch.Size([100, 10])\n",
      "Predicted values is torch.Size([100])\n",
      "Shape of images torch.Size([100, 1, 28, 28])\n",
      "torch.Size([100, 10])\n",
      "Predicted values is torch.Size([100])\n",
      "Shape of images torch.Size([100, 1, 28, 28])\n",
      "torch.Size([100, 10])\n",
      "Predicted values is torch.Size([100])\n",
      "Shape of images torch.Size([100, 1, 28, 28])\n",
      "torch.Size([100, 10])\n",
      "Predicted values is torch.Size([100])\n",
      "Shape of images torch.Size([100, 1, 28, 28])\n",
      "torch.Size([100, 10])\n",
      "Predicted values is torch.Size([100])\n",
      "Shape of images torch.Size([100, 1, 28, 28])\n",
      "torch.Size([100, 10])\n",
      "Predicted values is torch.Size([100])\n",
      "Shape of images torch.Size([100, 1, 28, 28])\n",
      "torch.Size([100, 10])\n",
      "Predicted values is torch.Size([100])\n",
      "Shape of images torch.Size([100, 1, 28, 28])\n",
      "torch.Size([100, 10])\n",
      "Predicted values is torch.Size([100])\n",
      "Shape of images torch.Size([100, 1, 28, 28])\n",
      "torch.Size([100, 10])\n",
      "Predicted values is torch.Size([100])\n",
      "Shape of images torch.Size([100, 1, 28, 28])\n",
      "torch.Size([100, 10])\n",
      "Predicted values is torch.Size([100])\n",
      "Shape of images torch.Size([100, 1, 28, 28])\n",
      "torch.Size([100, 10])\n",
      "Predicted values is torch.Size([100])\n",
      "Shape of images torch.Size([100, 1, 28, 28])\n",
      "torch.Size([100, 10])\n",
      "Predicted values is torch.Size([100])\n",
      "Shape of images torch.Size([100, 1, 28, 28])\n",
      "torch.Size([100, 10])\n",
      "Predicted values is torch.Size([100])\n",
      "Shape of images torch.Size([100, 1, 28, 28])\n",
      "torch.Size([100, 10])\n",
      "Predicted values is torch.Size([100])\n",
      "Shape of images torch.Size([100, 1, 28, 28])\n",
      "torch.Size([100, 10])\n",
      "Predicted values is torch.Size([100])\n",
      "Shape of images torch.Size([100, 1, 28, 28])\n",
      "torch.Size([100, 10])\n",
      "Predicted values is torch.Size([100])\n",
      "Shape of images torch.Size([100, 1, 28, 28])\n",
      "torch.Size([100, 10])\n",
      "Predicted values is torch.Size([100])\n",
      "Shape of images torch.Size([100, 1, 28, 28])\n",
      "torch.Size([100, 10])\n",
      "Predicted values is torch.Size([100])\n",
      "Shape of images torch.Size([100, 1, 28, 28])\n",
      "torch.Size([100, 10])\n",
      "Predicted values is torch.Size([100])\n",
      "Shape of images torch.Size([100, 1, 28, 28])\n",
      "torch.Size([100, 10])\n",
      "Predicted values is torch.Size([100])\n",
      "Shape of images torch.Size([100, 1, 28, 28])\n",
      "torch.Size([100, 10])\n",
      "Predicted values is torch.Size([100])\n",
      "Shape of images torch.Size([100, 1, 28, 28])\n",
      "torch.Size([100, 10])\n",
      "Predicted values is torch.Size([100])\n",
      "Shape of images torch.Size([100, 1, 28, 28])\n",
      "torch.Size([100, 10])\n",
      "Predicted values is torch.Size([100])\n",
      "Shape of images torch.Size([100, 1, 28, 28])\n",
      "torch.Size([100, 10])\n",
      "Predicted values is torch.Size([100])\n",
      "Shape of images torch.Size([100, 1, 28, 28])\n",
      "torch.Size([100, 10])\n",
      "Predicted values is torch.Size([100])\n",
      "Shape of images torch.Size([100, 1, 28, 28])\n",
      "torch.Size([100, 10])\n",
      "Predicted values is torch.Size([100])\n",
      "Shape of images torch.Size([100, 1, 28, 28])\n",
      "torch.Size([100, 10])\n",
      "Predicted values is torch.Size([100])\n",
      "Shape of images torch.Size([100, 1, 28, 28])\n",
      "torch.Size([100, 10])\n",
      "Predicted values is torch.Size([100])\n",
      "Shape of images torch.Size([100, 1, 28, 28])\n",
      "torch.Size([100, 10])\n",
      "Predicted values is torch.Size([100])\n",
      "Shape of images torch.Size([100, 1, 28, 28])\n",
      "torch.Size([100, 10])\n",
      "Predicted values is torch.Size([100])\n",
      "Shape of images torch.Size([100, 1, 28, 28])\n",
      "torch.Size([100, 10])\n",
      "Predicted values is torch.Size([100])\n",
      "Shape of images torch.Size([100, 1, 28, 28])\n",
      "torch.Size([100, 10])\n",
      "Predicted values is torch.Size([100])\n",
      "Shape of images torch.Size([100, 1, 28, 28])\n",
      "torch.Size([100, 10])\n",
      "Predicted values is torch.Size([100])\n",
      "Shape of images torch.Size([100, 1, 28, 28])\n",
      "torch.Size([100, 10])\n",
      "Predicted values is torch.Size([100])\n",
      "Shape of images torch.Size([100, 1, 28, 28])\n",
      "torch.Size([100, 10])\n",
      "Predicted values is torch.Size([100])\n",
      "Shape of images torch.Size([100, 1, 28, 28])\n",
      "torch.Size([100, 10])\n",
      "Predicted values is torch.Size([100])\n",
      "Shape of images torch.Size([100, 1, 28, 28])\n",
      "torch.Size([100, 10])\n",
      "Predicted values is torch.Size([100])\n",
      "Shape of images torch.Size([100, 1, 28, 28])\n",
      "torch.Size([100, 10])\n",
      "Predicted values is torch.Size([100])\n",
      "Shape of images torch.Size([100, 1, 28, 28])\n",
      "torch.Size([100, 10])\n",
      "Predicted values is torch.Size([100])\n",
      "Shape of images torch.Size([100, 1, 28, 28])\n",
      "torch.Size([100, 10])\n",
      "Predicted values is torch.Size([100])\n",
      "Shape of images torch.Size([100, 1, 28, 28])\n",
      "torch.Size([100, 10])\n",
      "Predicted values is torch.Size([100])\n",
      "Shape of images torch.Size([100, 1, 28, 28])\n",
      "torch.Size([100, 10])\n",
      "Predicted values is torch.Size([100])\n",
      "Shape of images torch.Size([100, 1, 28, 28])\n",
      "torch.Size([100, 10])\n",
      "Predicted values is torch.Size([100])\n",
      "Shape of images torch.Size([100, 1, 28, 28])\n",
      "torch.Size([100, 10])\n",
      "Predicted values is torch.Size([100])\n",
      "Shape of images torch.Size([100, 1, 28, 28])\n",
      "torch.Size([100, 10])\n",
      "Predicted values is torch.Size([100])\n",
      "Shape of images torch.Size([100, 1, 28, 28])\n",
      "torch.Size([100, 10])\n",
      "Predicted values is torch.Size([100])\n",
      "Shape of images torch.Size([100, 1, 28, 28])\n",
      "torch.Size([100, 10])\n",
      "Predicted values is torch.Size([100])\n",
      "Shape of images torch.Size([100, 1, 28, 28])\n",
      "torch.Size([100, 10])\n",
      "Predicted values is torch.Size([100])\n",
      "Shape of images torch.Size([100, 1, 28, 28])\n",
      "torch.Size([100, 10])\n",
      "Predicted values is torch.Size([100])\n",
      "Shape of images torch.Size([100, 1, 28, 28])\n"
     ]
    },
    {
     "name": "stdout",
     "output_type": "stream",
     "text": [
      "torch.Size([100, 10])\n",
      "Predicted values is torch.Size([100])\n",
      "Shape of images torch.Size([100, 1, 28, 28])\n",
      "torch.Size([100, 10])\n",
      "Predicted values is torch.Size([100])\n",
      "Shape of images torch.Size([100, 1, 28, 28])\n",
      "torch.Size([100, 10])\n",
      "Predicted values is torch.Size([100])\n",
      "Shape of images torch.Size([100, 1, 28, 28])\n",
      "torch.Size([100, 10])\n",
      "Predicted values is torch.Size([100])\n",
      "Shape of images torch.Size([100, 1, 28, 28])\n",
      "torch.Size([100, 10])\n",
      "Predicted values is torch.Size([100])\n",
      "Shape of images torch.Size([100, 1, 28, 28])\n",
      "torch.Size([100, 10])\n",
      "Predicted values is torch.Size([100])\n",
      "Shape of images torch.Size([100, 1, 28, 28])\n",
      "torch.Size([100, 10])\n",
      "Predicted values is torch.Size([100])\n",
      "Shape of images torch.Size([100, 1, 28, 28])\n",
      "torch.Size([100, 10])\n",
      "Predicted values is torch.Size([100])\n",
      "Shape of images torch.Size([100, 1, 28, 28])\n",
      "torch.Size([100, 10])\n",
      "Predicted values is torch.Size([100])\n",
      "Shape of images torch.Size([100, 1, 28, 28])\n",
      "torch.Size([100, 10])\n",
      "Predicted values is torch.Size([100])\n",
      "Shape of images torch.Size([100, 1, 28, 28])\n",
      "torch.Size([100, 10])\n",
      "Predicted values is torch.Size([100])\n",
      "Shape of images torch.Size([100, 1, 28, 28])\n",
      "torch.Size([100, 10])\n",
      "Predicted values is torch.Size([100])\n",
      "Shape of images torch.Size([100, 1, 28, 28])\n",
      "torch.Size([100, 10])\n",
      "Predicted values is torch.Size([100])\n",
      "Shape of images torch.Size([100, 1, 28, 28])\n",
      "torch.Size([100, 10])\n",
      "Predicted values is torch.Size([100])\n",
      "Shape of images torch.Size([100, 1, 28, 28])\n",
      "torch.Size([100, 10])\n",
      "Predicted values is torch.Size([100])\n",
      "Shape of images torch.Size([100, 1, 28, 28])\n",
      "torch.Size([100, 10])\n",
      "Predicted values is torch.Size([100])\n",
      "Shape of images torch.Size([100, 1, 28, 28])\n",
      "torch.Size([100, 10])\n",
      "Predicted values is torch.Size([100])\n",
      "Shape of images torch.Size([100, 1, 28, 28])\n",
      "torch.Size([100, 10])\n",
      "Predicted values is torch.Size([100])\n",
      "Shape of images torch.Size([100, 1, 28, 28])\n",
      "torch.Size([100, 10])\n",
      "Predicted values is torch.Size([100])\n",
      "Shape of images torch.Size([100, 1, 28, 28])\n",
      "torch.Size([100, 10])\n",
      "Predicted values is torch.Size([100])\n",
      "Shape of images torch.Size([100, 1, 28, 28])\n",
      "torch.Size([100, 10])\n",
      "Predicted values is torch.Size([100])\n",
      "Shape of images torch.Size([100, 1, 28, 28])\n",
      "torch.Size([100, 10])\n",
      "Predicted values is torch.Size([100])\n",
      "Shape of images torch.Size([100, 1, 28, 28])\n",
      "torch.Size([100, 10])\n",
      "Predicted values is torch.Size([100])\n",
      "Shape of images torch.Size([100, 1, 28, 28])\n",
      "torch.Size([100, 10])\n",
      "Predicted values is torch.Size([100])\n",
      "Shape of images torch.Size([100, 1, 28, 28])\n",
      "torch.Size([100, 10])\n",
      "Predicted values is torch.Size([100])\n",
      "Shape of images torch.Size([100, 1, 28, 28])\n",
      "torch.Size([100, 10])\n",
      "Predicted values is torch.Size([100])\n",
      "Shape of images torch.Size([100, 1, 28, 28])\n",
      "torch.Size([100, 10])\n",
      "Predicted values is torch.Size([100])\n",
      "Shape of images torch.Size([100, 1, 28, 28])\n",
      "torch.Size([100, 10])\n",
      "Predicted values is torch.Size([100])\n",
      "Shape of images torch.Size([100, 1, 28, 28])\n",
      "torch.Size([100, 10])\n",
      "Predicted values is torch.Size([100])\n",
      "Shape of images torch.Size([100, 1, 28, 28])\n",
      "torch.Size([100, 10])\n",
      "Predicted values is torch.Size([100])\n",
      "Shape of images torch.Size([100, 1, 28, 28])\n",
      "torch.Size([100, 10])\n",
      "Predicted values is torch.Size([100])\n",
      "Shape of images torch.Size([100, 1, 28, 28])\n",
      "torch.Size([100, 10])\n",
      "Predicted values is torch.Size([100])\n",
      "Shape of images torch.Size([100, 1, 28, 28])\n",
      "torch.Size([100, 10])\n",
      "Predicted values is torch.Size([100])\n",
      "Shape of images torch.Size([100, 1, 28, 28])\n",
      "torch.Size([100, 10])\n",
      "Predicted values is torch.Size([100])\n",
      "Shape of images torch.Size([100, 1, 28, 28])\n",
      "torch.Size([100, 10])\n",
      "Predicted values is torch.Size([100])\n",
      "Shape of images torch.Size([100, 1, 28, 28])\n",
      "torch.Size([100, 10])\n",
      "Predicted values is torch.Size([100])\n",
      "Shape of images torch.Size([100, 1, 28, 28])\n",
      "torch.Size([100, 10])\n",
      "Predicted values is torch.Size([100])\n",
      "Shape of images torch.Size([100, 1, 28, 28])\n",
      "torch.Size([100, 10])\n",
      "Predicted values is torch.Size([100])\n",
      "Shape of images torch.Size([100, 1, 28, 28])\n",
      "torch.Size([100, 10])\n",
      "Predicted values is torch.Size([100])\n",
      "Shape of images torch.Size([100, 1, 28, 28])\n",
      "torch.Size([100, 10])\n",
      "Predicted values is torch.Size([100])\n",
      "Shape of images torch.Size([100, 1, 28, 28])\n",
      "torch.Size([100, 10])\n",
      "Predicted values is torch.Size([100])\n",
      "Shape of images torch.Size([100, 1, 28, 28])\n",
      "torch.Size([100, 10])\n",
      "Predicted values is torch.Size([100])\n",
      "Shape of images torch.Size([100, 1, 28, 28])\n",
      "torch.Size([100, 10])\n",
      "Predicted values is torch.Size([100])\n",
      "Shape of images torch.Size([100, 1, 28, 28])\n",
      "torch.Size([100, 10])\n",
      "Predicted values is torch.Size([100])\n",
      "Shape of images torch.Size([100, 1, 28, 28])\n",
      "torch.Size([100, 10])\n",
      "Predicted values is torch.Size([100])\n",
      "Shape of images torch.Size([100, 1, 28, 28])\n",
      "torch.Size([100, 10])\n",
      "Predicted values is torch.Size([100])\n",
      "Shape of images torch.Size([100, 1, 28, 28])\n",
      "torch.Size([100, 10])\n",
      "Predicted values is torch.Size([100])\n",
      "Shape of images torch.Size([100, 1, 28, 28])\n",
      "torch.Size([100, 10])\n",
      "Predicted values is torch.Size([100])\n",
      "Shape of images torch.Size([100, 1, 28, 28])\n",
      "torch.Size([100, 10])\n",
      "Predicted values is torch.Size([100])\n",
      "Iteration: 1500. Loss: 0.5520718097686768. Accuracy: 89\n",
      "Shape of images torch.Size([100, 1, 28, 28])\n",
      "torch.Size([100, 10])\n",
      "Predicted values is torch.Size([100])\n",
      "Shape of images torch.Size([100, 1, 28, 28])\n",
      "torch.Size([100, 10])\n",
      "Predicted values is torch.Size([100])\n",
      "Shape of images torch.Size([100, 1, 28, 28])\n",
      "torch.Size([100, 10])\n",
      "Predicted values is torch.Size([100])\n",
      "Shape of images torch.Size([100, 1, 28, 28])\n",
      "torch.Size([100, 10])\n",
      "Predicted values is torch.Size([100])\n",
      "Shape of images torch.Size([100, 1, 28, 28])\n",
      "torch.Size([100, 10])\n",
      "Predicted values is torch.Size([100])\n",
      "Shape of images torch.Size([100, 1, 28, 28])\n",
      "torch.Size([100, 10])\n",
      "Predicted values is torch.Size([100])\n",
      "Shape of images torch.Size([100, 1, 28, 28])\n",
      "torch.Size([100, 10])\n",
      "Predicted values is torch.Size([100])\n",
      "Shape of images torch.Size([100, 1, 28, 28])\n",
      "torch.Size([100, 10])\n",
      "Predicted values is torch.Size([100])\n",
      "Shape of images torch.Size([100, 1, 28, 28])\n",
      "torch.Size([100, 10])\n",
      "Predicted values is torch.Size([100])\n",
      "Shape of images torch.Size([100, 1, 28, 28])\n",
      "torch.Size([100, 10])\n",
      "Predicted values is torch.Size([100])\n",
      "Shape of images torch.Size([100, 1, 28, 28])\n",
      "torch.Size([100, 10])\n",
      "Predicted values is torch.Size([100])\n",
      "Shape of images torch.Size([100, 1, 28, 28])\n",
      "torch.Size([100, 10])\n",
      "Predicted values is torch.Size([100])\n",
      "Shape of images torch.Size([100, 1, 28, 28])\n",
      "torch.Size([100, 10])\n",
      "Predicted values is torch.Size([100])\n",
      "Shape of images torch.Size([100, 1, 28, 28])\n",
      "torch.Size([100, 10])\n",
      "Predicted values is torch.Size([100])\n",
      "Shape of images torch.Size([100, 1, 28, 28])\n",
      "torch.Size([100, 10])\n",
      "Predicted values is torch.Size([100])\n",
      "Shape of images torch.Size([100, 1, 28, 28])\n",
      "torch.Size([100, 10])\n",
      "Predicted values is torch.Size([100])\n",
      "Shape of images torch.Size([100, 1, 28, 28])\n",
      "torch.Size([100, 10])\n",
      "Predicted values is torch.Size([100])\n",
      "Shape of images torch.Size([100, 1, 28, 28])\n",
      "torch.Size([100, 10])\n",
      "Predicted values is torch.Size([100])\n",
      "Shape of images torch.Size([100, 1, 28, 28])\n",
      "torch.Size([100, 10])\n",
      "Predicted values is torch.Size([100])\n",
      "Shape of images torch.Size([100, 1, 28, 28])\n",
      "torch.Size([100, 10])\n",
      "Predicted values is torch.Size([100])\n",
      "Shape of images torch.Size([100, 1, 28, 28])\n",
      "torch.Size([100, 10])\n",
      "Predicted values is torch.Size([100])\n",
      "Shape of images torch.Size([100, 1, 28, 28])\n",
      "torch.Size([100, 10])\n",
      "Predicted values is torch.Size([100])\n",
      "Shape of images torch.Size([100, 1, 28, 28])\n",
      "torch.Size([100, 10])\n",
      "Predicted values is torch.Size([100])\n",
      "Shape of images torch.Size([100, 1, 28, 28])\n",
      "torch.Size([100, 10])\n",
      "Predicted values is torch.Size([100])\n",
      "Shape of images torch.Size([100, 1, 28, 28])\n",
      "torch.Size([100, 10])\n",
      "Predicted values is torch.Size([100])\n",
      "Shape of images torch.Size([100, 1, 28, 28])\n",
      "torch.Size([100, 10])\n",
      "Predicted values is torch.Size([100])\n",
      "Shape of images torch.Size([100, 1, 28, 28])\n",
      "torch.Size([100, 10])\n",
      "Predicted values is torch.Size([100])\n",
      "Shape of images torch.Size([100, 1, 28, 28])\n",
      "torch.Size([100, 10])\n",
      "Predicted values is torch.Size([100])\n",
      "Shape of images torch.Size([100, 1, 28, 28])\n",
      "torch.Size([100, 10])\n",
      "Predicted values is torch.Size([100])\n",
      "Shape of images torch.Size([100, 1, 28, 28])\n",
      "torch.Size([100, 10])\n",
      "Predicted values is torch.Size([100])\n",
      "Shape of images torch.Size([100, 1, 28, 28])\n",
      "torch.Size([100, 10])\n",
      "Predicted values is torch.Size([100])\n",
      "Shape of images torch.Size([100, 1, 28, 28])\n",
      "torch.Size([100, 10])\n",
      "Predicted values is torch.Size([100])\n",
      "Shape of images torch.Size([100, 1, 28, 28])\n"
     ]
    },
    {
     "name": "stdout",
     "output_type": "stream",
     "text": [
      "torch.Size([100, 10])\n",
      "Predicted values is torch.Size([100])\n",
      "Shape of images torch.Size([100, 1, 28, 28])\n",
      "torch.Size([100, 10])\n",
      "Predicted values is torch.Size([100])\n",
      "Shape of images torch.Size([100, 1, 28, 28])\n",
      "torch.Size([100, 10])\n",
      "Predicted values is torch.Size([100])\n",
      "Shape of images torch.Size([100, 1, 28, 28])\n",
      "torch.Size([100, 10])\n",
      "Predicted values is torch.Size([100])\n",
      "Shape of images torch.Size([100, 1, 28, 28])\n",
      "torch.Size([100, 10])\n",
      "Predicted values is torch.Size([100])\n",
      "Shape of images torch.Size([100, 1, 28, 28])\n",
      "torch.Size([100, 10])\n",
      "Predicted values is torch.Size([100])\n",
      "Shape of images torch.Size([100, 1, 28, 28])\n",
      "torch.Size([100, 10])\n",
      "Predicted values is torch.Size([100])\n",
      "Shape of images torch.Size([100, 1, 28, 28])\n",
      "torch.Size([100, 10])\n",
      "Predicted values is torch.Size([100])\n",
      "Shape of images torch.Size([100, 1, 28, 28])\n",
      "torch.Size([100, 10])\n",
      "Predicted values is torch.Size([100])\n",
      "Shape of images torch.Size([100, 1, 28, 28])\n",
      "torch.Size([100, 10])\n",
      "Predicted values is torch.Size([100])\n",
      "Shape of images torch.Size([100, 1, 28, 28])\n",
      "torch.Size([100, 10])\n",
      "Predicted values is torch.Size([100])\n",
      "Shape of images torch.Size([100, 1, 28, 28])\n",
      "torch.Size([100, 10])\n",
      "Predicted values is torch.Size([100])\n",
      "Shape of images torch.Size([100, 1, 28, 28])\n",
      "torch.Size([100, 10])\n",
      "Predicted values is torch.Size([100])\n",
      "Shape of images torch.Size([100, 1, 28, 28])\n",
      "torch.Size([100, 10])\n",
      "Predicted values is torch.Size([100])\n",
      "Shape of images torch.Size([100, 1, 28, 28])\n",
      "torch.Size([100, 10])\n",
      "Predicted values is torch.Size([100])\n",
      "Shape of images torch.Size([100, 1, 28, 28])\n",
      "torch.Size([100, 10])\n",
      "Predicted values is torch.Size([100])\n",
      "Shape of images torch.Size([100, 1, 28, 28])\n",
      "torch.Size([100, 10])\n",
      "Predicted values is torch.Size([100])\n",
      "Shape of images torch.Size([100, 1, 28, 28])\n",
      "torch.Size([100, 10])\n",
      "Predicted values is torch.Size([100])\n",
      "Shape of images torch.Size([100, 1, 28, 28])\n",
      "torch.Size([100, 10])\n",
      "Predicted values is torch.Size([100])\n",
      "Shape of images torch.Size([100, 1, 28, 28])\n",
      "torch.Size([100, 10])\n",
      "Predicted values is torch.Size([100])\n",
      "Shape of images torch.Size([100, 1, 28, 28])\n",
      "torch.Size([100, 10])\n",
      "Predicted values is torch.Size([100])\n",
      "Shape of images torch.Size([100, 1, 28, 28])\n",
      "torch.Size([100, 10])\n",
      "Predicted values is torch.Size([100])\n",
      "Shape of images torch.Size([100, 1, 28, 28])\n",
      "torch.Size([100, 10])\n",
      "Predicted values is torch.Size([100])\n",
      "Shape of images torch.Size([100, 1, 28, 28])\n",
      "torch.Size([100, 10])\n",
      "Predicted values is torch.Size([100])\n",
      "Shape of images torch.Size([100, 1, 28, 28])\n",
      "torch.Size([100, 10])\n",
      "Predicted values is torch.Size([100])\n",
      "Shape of images torch.Size([100, 1, 28, 28])\n",
      "torch.Size([100, 10])\n",
      "Predicted values is torch.Size([100])\n",
      "Shape of images torch.Size([100, 1, 28, 28])\n",
      "torch.Size([100, 10])\n",
      "Predicted values is torch.Size([100])\n",
      "Shape of images torch.Size([100, 1, 28, 28])\n",
      "torch.Size([100, 10])\n",
      "Predicted values is torch.Size([100])\n",
      "Shape of images torch.Size([100, 1, 28, 28])\n",
      "torch.Size([100, 10])\n",
      "Predicted values is torch.Size([100])\n",
      "Shape of images torch.Size([100, 1, 28, 28])\n",
      "torch.Size([100, 10])\n",
      "Predicted values is torch.Size([100])\n",
      "Shape of images torch.Size([100, 1, 28, 28])\n",
      "torch.Size([100, 10])\n",
      "Predicted values is torch.Size([100])\n",
      "Shape of images torch.Size([100, 1, 28, 28])\n",
      "torch.Size([100, 10])\n",
      "Predicted values is torch.Size([100])\n",
      "Shape of images torch.Size([100, 1, 28, 28])\n",
      "torch.Size([100, 10])\n",
      "Predicted values is torch.Size([100])\n",
      "Shape of images torch.Size([100, 1, 28, 28])\n",
      "torch.Size([100, 10])\n",
      "Predicted values is torch.Size([100])\n",
      "Shape of images torch.Size([100, 1, 28, 28])\n",
      "torch.Size([100, 10])\n",
      "Predicted values is torch.Size([100])\n",
      "Shape of images torch.Size([100, 1, 28, 28])\n",
      "torch.Size([100, 10])\n",
      "Predicted values is torch.Size([100])\n",
      "Shape of images torch.Size([100, 1, 28, 28])\n",
      "torch.Size([100, 10])\n",
      "Predicted values is torch.Size([100])\n",
      "Shape of images torch.Size([100, 1, 28, 28])\n",
      "torch.Size([100, 10])\n",
      "Predicted values is torch.Size([100])\n",
      "Shape of images torch.Size([100, 1, 28, 28])\n",
      "torch.Size([100, 10])\n",
      "Predicted values is torch.Size([100])\n",
      "Shape of images torch.Size([100, 1, 28, 28])\n",
      "torch.Size([100, 10])\n",
      "Predicted values is torch.Size([100])\n",
      "Shape of images torch.Size([100, 1, 28, 28])\n",
      "torch.Size([100, 10])\n",
      "Predicted values is torch.Size([100])\n",
      "Shape of images torch.Size([100, 1, 28, 28])\n",
      "torch.Size([100, 10])\n",
      "Predicted values is torch.Size([100])\n",
      "Shape of images torch.Size([100, 1, 28, 28])\n",
      "torch.Size([100, 10])\n",
      "Predicted values is torch.Size([100])\n",
      "Shape of images torch.Size([100, 1, 28, 28])\n",
      "torch.Size([100, 10])\n",
      "Predicted values is torch.Size([100])\n",
      "Shape of images torch.Size([100, 1, 28, 28])\n",
      "torch.Size([100, 10])\n",
      "Predicted values is torch.Size([100])\n",
      "Shape of images torch.Size([100, 1, 28, 28])\n",
      "torch.Size([100, 10])\n",
      "Predicted values is torch.Size([100])\n",
      "Shape of images torch.Size([100, 1, 28, 28])\n",
      "torch.Size([100, 10])\n",
      "Predicted values is torch.Size([100])\n",
      "Shape of images torch.Size([100, 1, 28, 28])\n",
      "torch.Size([100, 10])\n",
      "Predicted values is torch.Size([100])\n",
      "Shape of images torch.Size([100, 1, 28, 28])\n",
      "torch.Size([100, 10])\n",
      "Predicted values is torch.Size([100])\n",
      "Shape of images torch.Size([100, 1, 28, 28])\n",
      "torch.Size([100, 10])\n",
      "Predicted values is torch.Size([100])\n",
      "Shape of images torch.Size([100, 1, 28, 28])\n",
      "torch.Size([100, 10])\n",
      "Predicted values is torch.Size([100])\n",
      "Shape of images torch.Size([100, 1, 28, 28])\n",
      "torch.Size([100, 10])\n",
      "Predicted values is torch.Size([100])\n",
      "Shape of images torch.Size([100, 1, 28, 28])\n",
      "torch.Size([100, 10])\n",
      "Predicted values is torch.Size([100])\n",
      "Shape of images torch.Size([100, 1, 28, 28])\n",
      "torch.Size([100, 10])\n",
      "Predicted values is torch.Size([100])\n",
      "Shape of images torch.Size([100, 1, 28, 28])\n",
      "torch.Size([100, 10])\n",
      "Predicted values is torch.Size([100])\n",
      "Shape of images torch.Size([100, 1, 28, 28])\n",
      "torch.Size([100, 10])\n",
      "Predicted values is torch.Size([100])\n",
      "Shape of images torch.Size([100, 1, 28, 28])\n",
      "torch.Size([100, 10])\n",
      "Predicted values is torch.Size([100])\n",
      "Shape of images torch.Size([100, 1, 28, 28])\n",
      "torch.Size([100, 10])\n",
      "Predicted values is torch.Size([100])\n",
      "Shape of images torch.Size([100, 1, 28, 28])\n",
      "torch.Size([100, 10])\n",
      "Predicted values is torch.Size([100])\n",
      "Shape of images torch.Size([100, 1, 28, 28])\n",
      "torch.Size([100, 10])\n",
      "Predicted values is torch.Size([100])\n",
      "Shape of images torch.Size([100, 1, 28, 28])\n",
      "torch.Size([100, 10])\n",
      "Predicted values is torch.Size([100])\n",
      "Shape of images torch.Size([100, 1, 28, 28])\n",
      "torch.Size([100, 10])\n",
      "Predicted values is torch.Size([100])\n",
      "Shape of images torch.Size([100, 1, 28, 28])\n",
      "torch.Size([100, 10])\n",
      "Predicted values is torch.Size([100])\n",
      "Shape of images torch.Size([100, 1, 28, 28])\n",
      "torch.Size([100, 10])\n",
      "Predicted values is torch.Size([100])\n",
      "Shape of images torch.Size([100, 1, 28, 28])\n",
      "torch.Size([100, 10])\n",
      "Predicted values is torch.Size([100])\n",
      "Shape of images torch.Size([100, 1, 28, 28])\n",
      "torch.Size([100, 10])\n",
      "Predicted values is torch.Size([100])\n",
      "Shape of images torch.Size([100, 1, 28, 28])\n",
      "torch.Size([100, 10])\n",
      "Predicted values is torch.Size([100])\n",
      "Shape of images torch.Size([100, 1, 28, 28])\n",
      "torch.Size([100, 10])\n",
      "Predicted values is torch.Size([100])\n",
      "Iteration: 2000. Loss: 0.418925940990448. Accuracy: 89\n",
      "Shape of images torch.Size([100, 1, 28, 28])\n",
      "torch.Size([100, 10])\n",
      "Predicted values is torch.Size([100])\n",
      "Shape of images torch.Size([100, 1, 28, 28])\n",
      "torch.Size([100, 10])\n",
      "Predicted values is torch.Size([100])\n",
      "Shape of images torch.Size([100, 1, 28, 28])\n",
      "torch.Size([100, 10])\n",
      "Predicted values is torch.Size([100])\n",
      "Shape of images torch.Size([100, 1, 28, 28])\n",
      "torch.Size([100, 10])\n",
      "Predicted values is torch.Size([100])\n",
      "Shape of images torch.Size([100, 1, 28, 28])\n",
      "torch.Size([100, 10])\n",
      "Predicted values is torch.Size([100])\n",
      "Shape of images torch.Size([100, 1, 28, 28])\n",
      "torch.Size([100, 10])\n",
      "Predicted values is torch.Size([100])\n",
      "Shape of images torch.Size([100, 1, 28, 28])\n",
      "torch.Size([100, 10])\n",
      "Predicted values is torch.Size([100])\n",
      "Shape of images torch.Size([100, 1, 28, 28])\n",
      "torch.Size([100, 10])\n",
      "Predicted values is torch.Size([100])\n",
      "Shape of images torch.Size([100, 1, 28, 28])\n",
      "torch.Size([100, 10])\n",
      "Predicted values is torch.Size([100])\n",
      "Shape of images torch.Size([100, 1, 28, 28])\n",
      "torch.Size([100, 10])\n",
      "Predicted values is torch.Size([100])\n",
      "Shape of images torch.Size([100, 1, 28, 28])\n",
      "torch.Size([100, 10])\n",
      "Predicted values is torch.Size([100])\n",
      "Shape of images torch.Size([100, 1, 28, 28])\n",
      "torch.Size([100, 10])\n",
      "Predicted values is torch.Size([100])\n",
      "Shape of images torch.Size([100, 1, 28, 28])\n",
      "torch.Size([100, 10])\n",
      "Predicted values is torch.Size([100])\n",
      "Shape of images torch.Size([100, 1, 28, 28])\n",
      "torch.Size([100, 10])\n",
      "Predicted values is torch.Size([100])\n"
     ]
    },
    {
     "name": "stdout",
     "output_type": "stream",
     "text": [
      "Shape of images torch.Size([100, 1, 28, 28])\n",
      "torch.Size([100, 10])\n",
      "Predicted values is torch.Size([100])\n",
      "Shape of images torch.Size([100, 1, 28, 28])\n",
      "torch.Size([100, 10])\n",
      "Predicted values is torch.Size([100])\n",
      "Shape of images torch.Size([100, 1, 28, 28])\n",
      "torch.Size([100, 10])\n",
      "Predicted values is torch.Size([100])\n",
      "Shape of images torch.Size([100, 1, 28, 28])\n",
      "torch.Size([100, 10])\n",
      "Predicted values is torch.Size([100])\n",
      "Shape of images torch.Size([100, 1, 28, 28])\n",
      "torch.Size([100, 10])\n",
      "Predicted values is torch.Size([100])\n",
      "Shape of images torch.Size([100, 1, 28, 28])\n",
      "torch.Size([100, 10])\n",
      "Predicted values is torch.Size([100])\n",
      "Shape of images torch.Size([100, 1, 28, 28])\n",
      "torch.Size([100, 10])\n",
      "Predicted values is torch.Size([100])\n",
      "Shape of images torch.Size([100, 1, 28, 28])\n",
      "torch.Size([100, 10])\n",
      "Predicted values is torch.Size([100])\n",
      "Shape of images torch.Size([100, 1, 28, 28])\n",
      "torch.Size([100, 10])\n",
      "Predicted values is torch.Size([100])\n",
      "Shape of images torch.Size([100, 1, 28, 28])\n",
      "torch.Size([100, 10])\n",
      "Predicted values is torch.Size([100])\n",
      "Shape of images torch.Size([100, 1, 28, 28])\n",
      "torch.Size([100, 10])\n",
      "Predicted values is torch.Size([100])\n",
      "Shape of images torch.Size([100, 1, 28, 28])\n",
      "torch.Size([100, 10])\n",
      "Predicted values is torch.Size([100])\n",
      "Shape of images torch.Size([100, 1, 28, 28])\n",
      "torch.Size([100, 10])\n",
      "Predicted values is torch.Size([100])\n",
      "Shape of images torch.Size([100, 1, 28, 28])\n",
      "torch.Size([100, 10])\n",
      "Predicted values is torch.Size([100])\n",
      "Shape of images torch.Size([100, 1, 28, 28])\n",
      "torch.Size([100, 10])\n",
      "Predicted values is torch.Size([100])\n",
      "Shape of images torch.Size([100, 1, 28, 28])\n",
      "torch.Size([100, 10])\n",
      "Predicted values is torch.Size([100])\n",
      "Shape of images torch.Size([100, 1, 28, 28])\n",
      "torch.Size([100, 10])\n",
      "Predicted values is torch.Size([100])\n",
      "Shape of images torch.Size([100, 1, 28, 28])\n",
      "torch.Size([100, 10])\n",
      "Predicted values is torch.Size([100])\n",
      "Shape of images torch.Size([100, 1, 28, 28])\n",
      "torch.Size([100, 10])\n",
      "Predicted values is torch.Size([100])\n",
      "Shape of images torch.Size([100, 1, 28, 28])\n",
      "torch.Size([100, 10])\n",
      "Predicted values is torch.Size([100])\n",
      "Shape of images torch.Size([100, 1, 28, 28])\n",
      "torch.Size([100, 10])\n",
      "Predicted values is torch.Size([100])\n",
      "Shape of images torch.Size([100, 1, 28, 28])\n",
      "torch.Size([100, 10])\n",
      "Predicted values is torch.Size([100])\n",
      "Shape of images torch.Size([100, 1, 28, 28])\n",
      "torch.Size([100, 10])\n",
      "Predicted values is torch.Size([100])\n",
      "Shape of images torch.Size([100, 1, 28, 28])\n",
      "torch.Size([100, 10])\n",
      "Predicted values is torch.Size([100])\n",
      "Shape of images torch.Size([100, 1, 28, 28])\n",
      "torch.Size([100, 10])\n",
      "Predicted values is torch.Size([100])\n",
      "Shape of images torch.Size([100, 1, 28, 28])\n",
      "torch.Size([100, 10])\n",
      "Predicted values is torch.Size([100])\n",
      "Shape of images torch.Size([100, 1, 28, 28])\n",
      "torch.Size([100, 10])\n",
      "Predicted values is torch.Size([100])\n",
      "Shape of images torch.Size([100, 1, 28, 28])\n",
      "torch.Size([100, 10])\n",
      "Predicted values is torch.Size([100])\n",
      "Shape of images torch.Size([100, 1, 28, 28])\n",
      "torch.Size([100, 10])\n",
      "Predicted values is torch.Size([100])\n",
      "Shape of images torch.Size([100, 1, 28, 28])\n",
      "torch.Size([100, 10])\n",
      "Predicted values is torch.Size([100])\n",
      "Shape of images torch.Size([100, 1, 28, 28])\n",
      "torch.Size([100, 10])\n",
      "Predicted values is torch.Size([100])\n",
      "Shape of images torch.Size([100, 1, 28, 28])\n",
      "torch.Size([100, 10])\n",
      "Predicted values is torch.Size([100])\n",
      "Shape of images torch.Size([100, 1, 28, 28])\n",
      "torch.Size([100, 10])\n",
      "Predicted values is torch.Size([100])\n",
      "Shape of images torch.Size([100, 1, 28, 28])\n",
      "torch.Size([100, 10])\n",
      "Predicted values is torch.Size([100])\n",
      "Shape of images torch.Size([100, 1, 28, 28])\n",
      "torch.Size([100, 10])\n",
      "Predicted values is torch.Size([100])\n",
      "Shape of images torch.Size([100, 1, 28, 28])\n",
      "torch.Size([100, 10])\n",
      "Predicted values is torch.Size([100])\n",
      "Shape of images torch.Size([100, 1, 28, 28])\n",
      "torch.Size([100, 10])\n",
      "Predicted values is torch.Size([100])\n",
      "Shape of images torch.Size([100, 1, 28, 28])\n",
      "torch.Size([100, 10])\n",
      "Predicted values is torch.Size([100])\n",
      "Shape of images torch.Size([100, 1, 28, 28])\n",
      "torch.Size([100, 10])\n",
      "Predicted values is torch.Size([100])\n",
      "Shape of images torch.Size([100, 1, 28, 28])\n",
      "torch.Size([100, 10])\n",
      "Predicted values is torch.Size([100])\n",
      "Shape of images torch.Size([100, 1, 28, 28])\n",
      "torch.Size([100, 10])\n",
      "Predicted values is torch.Size([100])\n",
      "Shape of images torch.Size([100, 1, 28, 28])\n",
      "torch.Size([100, 10])\n",
      "Predicted values is torch.Size([100])\n",
      "Shape of images torch.Size([100, 1, 28, 28])\n",
      "torch.Size([100, 10])\n",
      "Predicted values is torch.Size([100])\n",
      "Shape of images torch.Size([100, 1, 28, 28])\n",
      "torch.Size([100, 10])\n",
      "Predicted values is torch.Size([100])\n",
      "Shape of images torch.Size([100, 1, 28, 28])\n",
      "torch.Size([100, 10])\n",
      "Predicted values is torch.Size([100])\n",
      "Shape of images torch.Size([100, 1, 28, 28])\n",
      "torch.Size([100, 10])\n",
      "Predicted values is torch.Size([100])\n",
      "Shape of images torch.Size([100, 1, 28, 28])\n",
      "torch.Size([100, 10])\n",
      "Predicted values is torch.Size([100])\n",
      "Shape of images torch.Size([100, 1, 28, 28])\n",
      "torch.Size([100, 10])\n",
      "Predicted values is torch.Size([100])\n",
      "Shape of images torch.Size([100, 1, 28, 28])\n",
      "torch.Size([100, 10])\n",
      "Predicted values is torch.Size([100])\n",
      "Shape of images torch.Size([100, 1, 28, 28])\n",
      "torch.Size([100, 10])\n",
      "Predicted values is torch.Size([100])\n",
      "Shape of images torch.Size([100, 1, 28, 28])\n",
      "torch.Size([100, 10])\n",
      "Predicted values is torch.Size([100])\n",
      "Shape of images torch.Size([100, 1, 28, 28])\n",
      "torch.Size([100, 10])\n",
      "Predicted values is torch.Size([100])\n",
      "Shape of images torch.Size([100, 1, 28, 28])\n",
      "torch.Size([100, 10])\n",
      "Predicted values is torch.Size([100])\n",
      "Shape of images torch.Size([100, 1, 28, 28])\n",
      "torch.Size([100, 10])\n",
      "Predicted values is torch.Size([100])\n",
      "Shape of images torch.Size([100, 1, 28, 28])\n",
      "torch.Size([100, 10])\n",
      "Predicted values is torch.Size([100])\n",
      "Shape of images torch.Size([100, 1, 28, 28])\n",
      "torch.Size([100, 10])\n",
      "Predicted values is torch.Size([100])\n",
      "Shape of images torch.Size([100, 1, 28, 28])\n",
      "torch.Size([100, 10])\n",
      "Predicted values is torch.Size([100])\n",
      "Shape of images torch.Size([100, 1, 28, 28])\n",
      "torch.Size([100, 10])\n",
      "Predicted values is torch.Size([100])\n",
      "Shape of images torch.Size([100, 1, 28, 28])\n",
      "torch.Size([100, 10])\n",
      "Predicted values is torch.Size([100])\n",
      "Shape of images torch.Size([100, 1, 28, 28])\n",
      "torch.Size([100, 10])\n",
      "Predicted values is torch.Size([100])\n",
      "Shape of images torch.Size([100, 1, 28, 28])\n",
      "torch.Size([100, 10])\n",
      "Predicted values is torch.Size([100])\n",
      "Shape of images torch.Size([100, 1, 28, 28])\n",
      "torch.Size([100, 10])\n",
      "Predicted values is torch.Size([100])\n",
      "Shape of images torch.Size([100, 1, 28, 28])\n",
      "torch.Size([100, 10])\n",
      "Predicted values is torch.Size([100])\n",
      "Shape of images torch.Size([100, 1, 28, 28])\n",
      "torch.Size([100, 10])\n",
      "Predicted values is torch.Size([100])\n",
      "Shape of images torch.Size([100, 1, 28, 28])\n",
      "torch.Size([100, 10])\n",
      "Predicted values is torch.Size([100])\n",
      "Shape of images torch.Size([100, 1, 28, 28])\n",
      "torch.Size([100, 10])\n",
      "Predicted values is torch.Size([100])\n",
      "Shape of images torch.Size([100, 1, 28, 28])\n",
      "torch.Size([100, 10])\n",
      "Predicted values is torch.Size([100])\n",
      "Shape of images torch.Size([100, 1, 28, 28])\n",
      "torch.Size([100, 10])\n",
      "Predicted values is torch.Size([100])\n",
      "Shape of images torch.Size([100, 1, 28, 28])\n",
      "torch.Size([100, 10])\n",
      "Predicted values is torch.Size([100])\n",
      "Shape of images torch.Size([100, 1, 28, 28])\n",
      "torch.Size([100, 10])\n",
      "Predicted values is torch.Size([100])\n",
      "Shape of images torch.Size([100, 1, 28, 28])\n",
      "torch.Size([100, 10])\n",
      "Predicted values is torch.Size([100])\n",
      "Shape of images torch.Size([100, 1, 28, 28])\n",
      "torch.Size([100, 10])\n",
      "Predicted values is torch.Size([100])\n",
      "Shape of images torch.Size([100, 1, 28, 28])\n",
      "torch.Size([100, 10])\n",
      "Predicted values is torch.Size([100])\n",
      "Shape of images torch.Size([100, 1, 28, 28])\n",
      "torch.Size([100, 10])\n",
      "Predicted values is torch.Size([100])\n",
      "Shape of images torch.Size([100, 1, 28, 28])\n",
      "torch.Size([100, 10])\n",
      "Predicted values is torch.Size([100])\n",
      "Shape of images torch.Size([100, 1, 28, 28])\n",
      "torch.Size([100, 10])\n",
      "Predicted values is torch.Size([100])\n",
      "Shape of images torch.Size([100, 1, 28, 28])\n",
      "torch.Size([100, 10])\n",
      "Predicted values is torch.Size([100])\n",
      "Shape of images torch.Size([100, 1, 28, 28])\n",
      "torch.Size([100, 10])\n",
      "Predicted values is torch.Size([100])\n",
      "Shape of images torch.Size([100, 1, 28, 28])\n",
      "torch.Size([100, 10])\n",
      "Predicted values is torch.Size([100])\n",
      "Shape of images torch.Size([100, 1, 28, 28])\n",
      "torch.Size([100, 10])\n",
      "Predicted values is torch.Size([100])\n",
      "Shape of images torch.Size([100, 1, 28, 28])\n",
      "torch.Size([100, 10])\n",
      "Predicted values is torch.Size([100])\n",
      "Shape of images torch.Size([100, 1, 28, 28])\n",
      "torch.Size([100, 10])\n",
      "Predicted values is torch.Size([100])\n",
      "Shape of images torch.Size([100, 1, 28, 28])\n",
      "torch.Size([100, 10])\n",
      "Predicted values is torch.Size([100])\n",
      "Shape of images torch.Size([100, 1, 28, 28])\n"
     ]
    },
    {
     "name": "stdout",
     "output_type": "stream",
     "text": [
      "torch.Size([100, 10])\n",
      "Predicted values is torch.Size([100])\n",
      "Shape of images torch.Size([100, 1, 28, 28])\n",
      "torch.Size([100, 10])\n",
      "Predicted values is torch.Size([100])\n",
      "Shape of images torch.Size([100, 1, 28, 28])\n",
      "torch.Size([100, 10])\n",
      "Predicted values is torch.Size([100])\n",
      "Iteration: 2500. Loss: 0.49664387106895447. Accuracy: 89\n",
      "Shape of images torch.Size([100, 1, 28, 28])\n",
      "torch.Size([100, 10])\n",
      "Predicted values is torch.Size([100])\n",
      "Shape of images torch.Size([100, 1, 28, 28])\n",
      "torch.Size([100, 10])\n",
      "Predicted values is torch.Size([100])\n",
      "Shape of images torch.Size([100, 1, 28, 28])\n",
      "torch.Size([100, 10])\n",
      "Predicted values is torch.Size([100])\n",
      "Shape of images torch.Size([100, 1, 28, 28])\n",
      "torch.Size([100, 10])\n",
      "Predicted values is torch.Size([100])\n",
      "Shape of images torch.Size([100, 1, 28, 28])\n",
      "torch.Size([100, 10])\n",
      "Predicted values is torch.Size([100])\n",
      "Shape of images torch.Size([100, 1, 28, 28])\n",
      "torch.Size([100, 10])\n",
      "Predicted values is torch.Size([100])\n",
      "Shape of images torch.Size([100, 1, 28, 28])\n",
      "torch.Size([100, 10])\n",
      "Predicted values is torch.Size([100])\n",
      "Shape of images torch.Size([100, 1, 28, 28])\n",
      "torch.Size([100, 10])\n",
      "Predicted values is torch.Size([100])\n",
      "Shape of images torch.Size([100, 1, 28, 28])\n",
      "torch.Size([100, 10])\n",
      "Predicted values is torch.Size([100])\n",
      "Shape of images torch.Size([100, 1, 28, 28])\n",
      "torch.Size([100, 10])\n",
      "Predicted values is torch.Size([100])\n",
      "Shape of images torch.Size([100, 1, 28, 28])\n",
      "torch.Size([100, 10])\n",
      "Predicted values is torch.Size([100])\n",
      "Shape of images torch.Size([100, 1, 28, 28])\n",
      "torch.Size([100, 10])\n",
      "Predicted values is torch.Size([100])\n",
      "Shape of images torch.Size([100, 1, 28, 28])\n",
      "torch.Size([100, 10])\n",
      "Predicted values is torch.Size([100])\n",
      "Shape of images torch.Size([100, 1, 28, 28])\n",
      "torch.Size([100, 10])\n",
      "Predicted values is torch.Size([100])\n",
      "Shape of images torch.Size([100, 1, 28, 28])\n",
      "torch.Size([100, 10])\n",
      "Predicted values is torch.Size([100])\n",
      "Shape of images torch.Size([100, 1, 28, 28])\n",
      "torch.Size([100, 10])\n",
      "Predicted values is torch.Size([100])\n",
      "Shape of images torch.Size([100, 1, 28, 28])\n",
      "torch.Size([100, 10])\n",
      "Predicted values is torch.Size([100])\n",
      "Shape of images torch.Size([100, 1, 28, 28])\n",
      "torch.Size([100, 10])\n",
      "Predicted values is torch.Size([100])\n",
      "Shape of images torch.Size([100, 1, 28, 28])\n",
      "torch.Size([100, 10])\n",
      "Predicted values is torch.Size([100])\n",
      "Shape of images torch.Size([100, 1, 28, 28])\n",
      "torch.Size([100, 10])\n",
      "Predicted values is torch.Size([100])\n",
      "Shape of images torch.Size([100, 1, 28, 28])\n",
      "torch.Size([100, 10])\n",
      "Predicted values is torch.Size([100])\n",
      "Shape of images torch.Size([100, 1, 28, 28])\n",
      "torch.Size([100, 10])\n",
      "Predicted values is torch.Size([100])\n",
      "Shape of images torch.Size([100, 1, 28, 28])\n",
      "torch.Size([100, 10])\n",
      "Predicted values is torch.Size([100])\n",
      "Shape of images torch.Size([100, 1, 28, 28])\n",
      "torch.Size([100, 10])\n",
      "Predicted values is torch.Size([100])\n",
      "Shape of images torch.Size([100, 1, 28, 28])\n",
      "torch.Size([100, 10])\n",
      "Predicted values is torch.Size([100])\n",
      "Shape of images torch.Size([100, 1, 28, 28])\n",
      "torch.Size([100, 10])\n",
      "Predicted values is torch.Size([100])\n",
      "Shape of images torch.Size([100, 1, 28, 28])\n",
      "torch.Size([100, 10])\n",
      "Predicted values is torch.Size([100])\n",
      "Shape of images torch.Size([100, 1, 28, 28])\n",
      "torch.Size([100, 10])\n",
      "Predicted values is torch.Size([100])\n",
      "Shape of images torch.Size([100, 1, 28, 28])\n",
      "torch.Size([100, 10])\n",
      "Predicted values is torch.Size([100])\n",
      "Shape of images torch.Size([100, 1, 28, 28])\n",
      "torch.Size([100, 10])\n",
      "Predicted values is torch.Size([100])\n",
      "Shape of images torch.Size([100, 1, 28, 28])\n",
      "torch.Size([100, 10])\n",
      "Predicted values is torch.Size([100])\n",
      "Shape of images torch.Size([100, 1, 28, 28])\n",
      "torch.Size([100, 10])\n",
      "Predicted values is torch.Size([100])\n",
      "Shape of images torch.Size([100, 1, 28, 28])\n",
      "torch.Size([100, 10])\n",
      "Predicted values is torch.Size([100])\n",
      "Shape of images torch.Size([100, 1, 28, 28])\n",
      "torch.Size([100, 10])\n",
      "Predicted values is torch.Size([100])\n",
      "Shape of images torch.Size([100, 1, 28, 28])\n",
      "torch.Size([100, 10])\n",
      "Predicted values is torch.Size([100])\n",
      "Shape of images torch.Size([100, 1, 28, 28])\n",
      "torch.Size([100, 10])\n",
      "Predicted values is torch.Size([100])\n",
      "Shape of images torch.Size([100, 1, 28, 28])\n",
      "torch.Size([100, 10])\n",
      "Predicted values is torch.Size([100])\n",
      "Shape of images torch.Size([100, 1, 28, 28])\n",
      "torch.Size([100, 10])\n",
      "Predicted values is torch.Size([100])\n",
      "Shape of images torch.Size([100, 1, 28, 28])\n",
      "torch.Size([100, 10])\n",
      "Predicted values is torch.Size([100])\n",
      "Shape of images torch.Size([100, 1, 28, 28])\n",
      "torch.Size([100, 10])\n",
      "Predicted values is torch.Size([100])\n",
      "Shape of images torch.Size([100, 1, 28, 28])\n",
      "torch.Size([100, 10])\n",
      "Predicted values is torch.Size([100])\n",
      "Shape of images torch.Size([100, 1, 28, 28])\n",
      "torch.Size([100, 10])\n",
      "Predicted values is torch.Size([100])\n",
      "Shape of images torch.Size([100, 1, 28, 28])\n",
      "torch.Size([100, 10])\n",
      "Predicted values is torch.Size([100])\n",
      "Shape of images torch.Size([100, 1, 28, 28])\n",
      "torch.Size([100, 10])\n",
      "Predicted values is torch.Size([100])\n",
      "Shape of images torch.Size([100, 1, 28, 28])\n",
      "torch.Size([100, 10])\n",
      "Predicted values is torch.Size([100])\n",
      "Shape of images torch.Size([100, 1, 28, 28])\n",
      "torch.Size([100, 10])\n",
      "Predicted values is torch.Size([100])\n",
      "Shape of images torch.Size([100, 1, 28, 28])\n",
      "torch.Size([100, 10])\n",
      "Predicted values is torch.Size([100])\n",
      "Shape of images torch.Size([100, 1, 28, 28])\n",
      "torch.Size([100, 10])\n",
      "Predicted values is torch.Size([100])\n",
      "Shape of images torch.Size([100, 1, 28, 28])\n",
      "torch.Size([100, 10])\n",
      "Predicted values is torch.Size([100])\n",
      "Shape of images torch.Size([100, 1, 28, 28])\n",
      "torch.Size([100, 10])\n",
      "Predicted values is torch.Size([100])\n",
      "Shape of images torch.Size([100, 1, 28, 28])\n",
      "torch.Size([100, 10])\n",
      "Predicted values is torch.Size([100])\n",
      "Shape of images torch.Size([100, 1, 28, 28])\n",
      "torch.Size([100, 10])\n",
      "Predicted values is torch.Size([100])\n",
      "Shape of images torch.Size([100, 1, 28, 28])\n",
      "torch.Size([100, 10])\n",
      "Predicted values is torch.Size([100])\n",
      "Shape of images torch.Size([100, 1, 28, 28])\n",
      "torch.Size([100, 10])\n",
      "Predicted values is torch.Size([100])\n",
      "Shape of images torch.Size([100, 1, 28, 28])\n",
      "torch.Size([100, 10])\n",
      "Predicted values is torch.Size([100])\n",
      "Shape of images torch.Size([100, 1, 28, 28])\n",
      "torch.Size([100, 10])\n",
      "Predicted values is torch.Size([100])\n",
      "Shape of images torch.Size([100, 1, 28, 28])\n",
      "torch.Size([100, 10])\n",
      "Predicted values is torch.Size([100])\n",
      "Shape of images torch.Size([100, 1, 28, 28])\n",
      "torch.Size([100, 10])\n",
      "Predicted values is torch.Size([100])\n",
      "Shape of images torch.Size([100, 1, 28, 28])\n",
      "torch.Size([100, 10])\n",
      "Predicted values is torch.Size([100])\n",
      "Shape of images torch.Size([100, 1, 28, 28])\n",
      "torch.Size([100, 10])\n",
      "Predicted values is torch.Size([100])\n",
      "Shape of images torch.Size([100, 1, 28, 28])\n",
      "torch.Size([100, 10])\n",
      "Predicted values is torch.Size([100])\n",
      "Shape of images torch.Size([100, 1, 28, 28])\n",
      "torch.Size([100, 10])\n",
      "Predicted values is torch.Size([100])\n",
      "Shape of images torch.Size([100, 1, 28, 28])\n",
      "torch.Size([100, 10])\n",
      "Predicted values is torch.Size([100])\n",
      "Shape of images torch.Size([100, 1, 28, 28])\n",
      "torch.Size([100, 10])\n",
      "Predicted values is torch.Size([100])\n",
      "Shape of images torch.Size([100, 1, 28, 28])\n",
      "torch.Size([100, 10])\n",
      "Predicted values is torch.Size([100])\n",
      "Shape of images torch.Size([100, 1, 28, 28])\n",
      "torch.Size([100, 10])\n",
      "Predicted values is torch.Size([100])\n",
      "Shape of images torch.Size([100, 1, 28, 28])\n",
      "torch.Size([100, 10])\n",
      "Predicted values is torch.Size([100])\n",
      "Shape of images torch.Size([100, 1, 28, 28])\n",
      "torch.Size([100, 10])\n",
      "Predicted values is torch.Size([100])\n",
      "Shape of images torch.Size([100, 1, 28, 28])\n",
      "torch.Size([100, 10])\n",
      "Predicted values is torch.Size([100])\n",
      "Shape of images torch.Size([100, 1, 28, 28])\n",
      "torch.Size([100, 10])\n",
      "Predicted values is torch.Size([100])\n",
      "Shape of images torch.Size([100, 1, 28, 28])\n",
      "torch.Size([100, 10])\n",
      "Predicted values is torch.Size([100])\n",
      "Shape of images torch.Size([100, 1, 28, 28])\n",
      "torch.Size([100, 10])\n",
      "Predicted values is torch.Size([100])\n",
      "Shape of images torch.Size([100, 1, 28, 28])\n",
      "torch.Size([100, 10])\n",
      "Predicted values is torch.Size([100])\n",
      "Shape of images torch.Size([100, 1, 28, 28])\n",
      "torch.Size([100, 10])\n",
      "Predicted values is torch.Size([100])\n",
      "Shape of images torch.Size([100, 1, 28, 28])\n",
      "torch.Size([100, 10])\n",
      "Predicted values is torch.Size([100])\n"
     ]
    },
    {
     "name": "stdout",
     "output_type": "stream",
     "text": [
      "Shape of images torch.Size([100, 1, 28, 28])\n",
      "torch.Size([100, 10])\n",
      "Predicted values is torch.Size([100])\n",
      "Shape of images torch.Size([100, 1, 28, 28])\n",
      "torch.Size([100, 10])\n",
      "Predicted values is torch.Size([100])\n",
      "Shape of images torch.Size([100, 1, 28, 28])\n",
      "torch.Size([100, 10])\n",
      "Predicted values is torch.Size([100])\n",
      "Shape of images torch.Size([100, 1, 28, 28])\n",
      "torch.Size([100, 10])\n",
      "Predicted values is torch.Size([100])\n",
      "Shape of images torch.Size([100, 1, 28, 28])\n",
      "torch.Size([100, 10])\n",
      "Predicted values is torch.Size([100])\n",
      "Shape of images torch.Size([100, 1, 28, 28])\n",
      "torch.Size([100, 10])\n",
      "Predicted values is torch.Size([100])\n",
      "Shape of images torch.Size([100, 1, 28, 28])\n",
      "torch.Size([100, 10])\n",
      "Predicted values is torch.Size([100])\n",
      "Shape of images torch.Size([100, 1, 28, 28])\n",
      "torch.Size([100, 10])\n",
      "Predicted values is torch.Size([100])\n",
      "Shape of images torch.Size([100, 1, 28, 28])\n",
      "torch.Size([100, 10])\n",
      "Predicted values is torch.Size([100])\n",
      "Shape of images torch.Size([100, 1, 28, 28])\n",
      "torch.Size([100, 10])\n",
      "Predicted values is torch.Size([100])\n",
      "Shape of images torch.Size([100, 1, 28, 28])\n",
      "torch.Size([100, 10])\n",
      "Predicted values is torch.Size([100])\n",
      "Shape of images torch.Size([100, 1, 28, 28])\n",
      "torch.Size([100, 10])\n",
      "Predicted values is torch.Size([100])\n",
      "Shape of images torch.Size([100, 1, 28, 28])\n",
      "torch.Size([100, 10])\n",
      "Predicted values is torch.Size([100])\n",
      "Shape of images torch.Size([100, 1, 28, 28])\n",
      "torch.Size([100, 10])\n",
      "Predicted values is torch.Size([100])\n",
      "Shape of images torch.Size([100, 1, 28, 28])\n",
      "torch.Size([100, 10])\n",
      "Predicted values is torch.Size([100])\n",
      "Shape of images torch.Size([100, 1, 28, 28])\n",
      "torch.Size([100, 10])\n",
      "Predicted values is torch.Size([100])\n",
      "Shape of images torch.Size([100, 1, 28, 28])\n",
      "torch.Size([100, 10])\n",
      "Predicted values is torch.Size([100])\n",
      "Shape of images torch.Size([100, 1, 28, 28])\n",
      "torch.Size([100, 10])\n",
      "Predicted values is torch.Size([100])\n",
      "Shape of images torch.Size([100, 1, 28, 28])\n",
      "torch.Size([100, 10])\n",
      "Predicted values is torch.Size([100])\n",
      "Shape of images torch.Size([100, 1, 28, 28])\n",
      "torch.Size([100, 10])\n",
      "Predicted values is torch.Size([100])\n",
      "Shape of images torch.Size([100, 1, 28, 28])\n",
      "torch.Size([100, 10])\n",
      "Predicted values is torch.Size([100])\n",
      "Shape of images torch.Size([100, 1, 28, 28])\n",
      "torch.Size([100, 10])\n",
      "Predicted values is torch.Size([100])\n",
      "Shape of images torch.Size([100, 1, 28, 28])\n",
      "torch.Size([100, 10])\n",
      "Predicted values is torch.Size([100])\n",
      "Shape of images torch.Size([100, 1, 28, 28])\n",
      "torch.Size([100, 10])\n",
      "Predicted values is torch.Size([100])\n",
      "Shape of images torch.Size([100, 1, 28, 28])\n",
      "torch.Size([100, 10])\n",
      "Predicted values is torch.Size([100])\n",
      "Iteration: 3000. Loss: 0.4318906366825104. Accuracy: 89\n"
     ]
    }
   ],
   "source": [
    "iter = 0\n",
    "for epoch in range(num_epochs):\n",
    "    for i, (images, labels) in enumerate(train_loader):\n",
    "        # Load images as Variable\n",
    "        #plt.imshow(images[0].numpy().reshape(28,28),cmap='gray')\n",
    "        #plt.show()\n",
    "        images = images.view(-1, 28*28).requires_grad_()\n",
    "        labels = labels\n",
    "        \n",
    "        # Clear gradients w.r.t. parameters\n",
    "        optimizer.zero_grad()\n",
    "        \n",
    "        # Forward pass to get output/logits\n",
    "        outputs = model(images)\n",
    "        \n",
    "        # Calculate Loss: softmax --> cross entropy loss\n",
    "        loss = criterion(outputs, labels)\n",
    "        \n",
    "        # Getting gradients w.r.t. parameters\n",
    "        loss.backward()\n",
    "        \n",
    "        # Updating parameters\n",
    "        optimizer.step()\n",
    "        \n",
    "        iter += 1\n",
    "        \n",
    "        if iter % 500 == 0:\n",
    "            # Calculate Accuracy         \n",
    "            correct = 0\n",
    "            total = 0\n",
    "            # Iterate through test dataset\n",
    "            for images, labels in test_loader:\n",
    "                # Load images to a Torch Variable\n",
    "                print(\"Shape of images\", images.shape)\n",
    "                images = images.view(-1, 28*28).requires_grad_()\n",
    "                \n",
    "                # Forward pass only to get logits/output\n",
    "                outputs = model(images)\n",
    "                print(outputs.shape)\n",
    "                \n",
    "                # Get predictions from the maximum value\n",
    "                _, predicted = torch.max(outputs.data, 1)\n",
    "                print(\"Predicted values is\",predicted.shape)\n",
    "                \n",
    "                # Total number of labels\n",
    "                total += labels.size(0)\n",
    "                \n",
    "                # Total correct predictions\n",
    "                correct += (predicted == labels).sum()\n",
    "            \n",
    "            accuracy = 100 * correct / total\n",
    "            \n",
    "            # Print Loss\n",
    "            print('Iteration: {}. Loss: {}. Accuracy: {}'.format(iter, loss.item(), accuracy))"
   ]
  },
  {
   "cell_type": "markdown",
   "metadata": {},
   "source": [
    "#### Break Down Accuracy Calculation"
   ]
  },
  {
   "cell_type": "code",
   "execution_count": 47,
   "metadata": {},
   "outputs": [
    {
     "name": "stdout",
     "output_type": "stream",
     "text": [
      "OUTPUTS\n",
      "tensor([[ 1.0936e-01,  1.1378e-01,  3.3055e-01,  1.2946e-01,  3.1078e-01,\n",
      "          9.1696e-02,  2.2044e-01,  1.6160e-01, -5.4521e-02, -2.4372e-02],\n",
      "        [ 3.3586e-01,  1.3931e-02, -8.3766e-02,  2.4749e-02,  7.6240e-02,\n",
      "         -5.0165e-02, -1.8769e-02, -9.7634e-02, -1.5312e-01,  1.5977e-01],\n",
      "        [ 7.9018e-02,  4.8199e-02,  2.9650e-02,  9.8763e-02, -5.3170e-02,\n",
      "          3.8478e-03, -5.6036e-02, -1.7351e-01,  1.1691e-01, -2.1271e-01],\n",
      "        [-3.2425e-02,  4.0465e-01,  2.5912e-01, -1.9355e-01, -2.5573e-02,\n",
      "          1.0704e-02, -1.4890e-01,  7.3976e-03, -8.9167e-02, -2.2751e-01],\n",
      "        [ 6.4851e-02,  2.1679e-01,  2.3384e-01, -3.9545e-02, -1.1718e-01,\n",
      "         -7.1640e-03,  1.0483e-01, -1.1139e-01,  6.5435e-02, -1.4987e-01],\n",
      "        [ 1.6487e-01,  1.6728e-01,  1.7156e-01,  1.8531e-01, -8.8641e-02,\n",
      "          1.0702e-01,  8.7283e-02, -1.6689e-01,  5.5464e-02, -2.2464e-01],\n",
      "        [ 1.7251e-01,  2.0572e-01,  2.4003e-01,  1.4042e-01,  2.1114e-01,\n",
      "         -2.7981e-02,  1.7802e-01,  2.1358e-02, -1.7191e-01, -9.4113e-02],\n",
      "        [ 2.1995e-01,  1.8993e-01,  1.3536e-01,  2.9332e-01, -1.5256e-01,\n",
      "         -2.0527e-01,  4.5484e-02, -9.8478e-03,  4.7937e-02, -3.9873e-02],\n",
      "        [ 2.4223e-01,  3.8718e-01,  1.4453e-01, -1.7449e-01, -1.1859e-02,\n",
      "         -2.7493e-01, -1.5277e-01,  5.3176e-02, -4.3062e-02, -1.7229e-01],\n",
      "        [ 1.5409e-01,  2.1541e-01,  4.3703e-01,  8.5233e-02,  2.3718e-01,\n",
      "          1.1115e-01,  2.4200e-01,  9.5757e-02,  9.3382e-02, -2.7662e-01],\n",
      "        [ 2.7767e-02,  3.6850e-01, -1.2032e-01, -1.1643e-01, -2.0746e-01,\n",
      "         -5.1689e-01,  5.4387e-02,  2.7418e-01, -2.3338e-01, -1.8555e-01],\n",
      "        [ 1.6119e-01,  4.0990e-01,  2.0954e-01,  3.5926e-02, -2.5765e-01,\n",
      "         -3.7032e-01, -8.6897e-02,  4.6170e-02, -1.8914e-02, -1.8796e-01],\n",
      "        [ 2.9973e-01,  4.3834e-01,  2.4430e-01, -9.1415e-02,  2.0285e-01,\n",
      "          1.0967e-01,  2.1132e-01,  1.2360e-01, -1.2007e-02, -6.0090e-02],\n",
      "        [ 2.1246e-02,  5.5873e-01,  5.3836e-02, -1.2369e-01, -1.3211e-01,\n",
      "          1.5689e-02,  1.7840e-01,  1.2585e-01,  1.2405e-01, -7.3483e-02],\n",
      "        [ 1.4402e-02, -7.4950e-03,  1.1419e-01,  4.5016e-02, -2.4436e-03,\n",
      "          3.0379e-02,  9.4667e-02, -6.7261e-02,  5.5271e-02, -2.7766e-01],\n",
      "        [-1.8427e-02, -8.8616e-02, -4.2228e-02,  5.5566e-02, -9.5058e-03,\n",
      "          2.6421e-02,  7.1136e-02, -7.7778e-02, -7.6510e-02, -1.4349e-02],\n",
      "        [ 2.2581e-01,  4.0896e-01,  1.3434e-01, -1.3731e-01, -2.4889e-02,\n",
      "          1.0013e-01,  1.0856e-01, -3.1572e-02, -1.0953e-01, -1.2279e-01],\n",
      "        [ 1.4573e-01,  1.7427e-02,  2.4427e-01,  5.0274e-02,  2.9685e-01,\n",
      "          2.5796e-02,  7.5395e-02,  1.1628e-01, -2.1110e-01,  1.0160e-01],\n",
      "        [ 3.5358e-01, -2.2176e-01, -2.3028e-02,  1.1654e-01,  2.5786e-01,\n",
      "          1.0046e-01,  2.2856e-01, -1.5857e-01,  6.1178e-02, -3.6307e-01],\n",
      "        [ 1.8863e-01,  2.3508e-01,  3.8027e-01,  3.2120e-02,  1.8437e-02,\n",
      "         -7.8712e-02,  1.7224e-01,  1.1283e-01, -1.0352e-02, -7.5051e-03],\n",
      "        [ 2.5307e-01,  3.0879e-01,  4.4592e-01,  1.6962e-01,  2.0686e-01,\n",
      "          1.0095e-01,  3.1789e-01, -1.1446e-01,  4.7821e-02, -3.1145e-01],\n",
      "        [ 7.9417e-02,  1.0327e-01,  2.5276e-01,  1.4829e-01, -2.3947e-01,\n",
      "          8.8799e-02, -9.2500e-02, -5.8743e-02, -8.9244e-02, -1.5259e-01],\n",
      "        [ 1.1472e-01,  1.8541e-01,  2.0097e-01,  7.0492e-02, -1.7363e-01,\n",
      "         -1.9708e-03, -3.0490e-01, -1.5459e-01, -1.5184e-02, -1.7892e-01],\n",
      "        [ 1.2357e-01,  2.3398e-01, -9.7906e-02, -6.8831e-02, -1.6382e-01,\n",
      "         -6.5877e-02, -5.8362e-02, -3.6041e-02,  9.6697e-02,  7.0722e-02],\n",
      "        [ 2.2767e-01,  1.3137e-01,  2.5644e-01, -7.7954e-02, -1.7131e-01,\n",
      "         -2.0275e-01,  9.3495e-02, -7.6093e-02, -1.9150e-01, -1.3157e-01],\n",
      "        [ 9.6493e-02,  6.5911e-01,  2.2015e-01, -1.5389e-01, -7.5521e-02,\n",
      "         -2.8088e-01, -3.0756e-01,  1.4959e-01, -3.1875e-02, -2.5100e-01],\n",
      "        [ 4.9389e-02, -6.0776e-02,  2.5955e-01,  1.6370e-01, -1.0247e-02,\n",
      "         -7.3297e-02,  9.1445e-02, -6.2147e-02, -1.8851e-01,  6.7741e-02],\n",
      "        [ 2.4669e-01,  2.5197e-01,  3.2587e-01, -4.2060e-02, -7.7072e-02,\n",
      "          8.6276e-02,  5.5207e-02, -7.2614e-03,  1.1501e-01, -1.8207e-01],\n",
      "        [ 1.3274e-01,  3.6139e-01,  1.2264e-01, -4.1373e-02, -1.2488e-01,\n",
      "          2.5830e-01,  2.0362e-01,  9.2709e-02, -7.4078e-03, -1.0034e-01],\n",
      "        [-5.4916e-02, -6.1851e-02, -4.3468e-02,  2.4049e-01,  1.2881e-01,\n",
      "          7.4885e-02, -1.7065e-02,  3.1762e-02,  2.1420e-02, -1.9190e-01],\n",
      "        [ 8.9378e-02,  6.1591e-02,  7.2922e-02,  2.4495e-01, -9.6891e-02,\n",
      "         -2.0704e-03,  2.0466e-01, -9.2344e-02,  4.2832e-02, -9.1887e-02],\n",
      "        [ 8.6650e-02, -1.3751e-01,  3.1705e-02,  2.3912e-01,  8.7219e-02,\n",
      "          1.0347e-02,  1.4895e-01,  2.9077e-02,  9.6075e-02, -1.4835e-01],\n",
      "        [ 1.4501e-01, -1.3235e-01,  2.6860e-02,  2.7896e-01,  3.9348e-02,\n",
      "         -1.2787e-01,  9.9979e-02, -1.2753e-01, -1.2144e-01,  9.5364e-02],\n",
      "        [ 6.0058e-02,  2.5461e-01, -5.4055e-02, -1.9606e-02,  1.8182e-01,\n",
      "         -2.3006e-01, -1.2323e-01,  1.7487e-01,  8.3356e-02, -2.3823e-01],\n",
      "        [ 1.9260e-01,  3.0261e-01,  3.8818e-01,  9.4007e-02,  1.4554e-01,\n",
      "          5.6429e-02,  3.3432e-01,  1.4882e-01,  4.4193e-02, -3.1611e-01],\n",
      "        [ 7.2225e-02, -1.0567e-01,  2.4179e-02,  2.7725e-01,  6.8164e-03,\n",
      "         -1.6625e-02, -2.1093e-01, -1.3560e-01, -2.7216e-01,  9.8025e-02],\n",
      "        [ 2.1457e-01,  1.9052e-01,  2.1869e-01,  5.8758e-03,  2.2946e-01,\n",
      "          1.7039e-01,  7.8986e-02,  3.9373e-02, -7.2842e-02,  3.0796e-02],\n",
      "        [ 1.9165e-02, -5.8990e-02,  1.8202e-02,  1.6890e-01,  4.7619e-02,\n",
      "          1.0351e-01, -1.4537e-02,  5.4046e-02,  3.4169e-02, -1.5366e-01],\n",
      "        [ 2.1969e-01,  1.4732e-01,  6.1840e-03,  8.4449e-02, -3.4752e-01,\n",
      "          2.0227e-01,  1.0114e-01,  8.0277e-03,  6.0472e-02, -1.4035e-01],\n",
      "        [ 7.6927e-02,  2.1097e-01,  1.0999e-01,  4.0552e-02,  1.0343e-02,\n",
      "          1.4555e-01, -5.7462e-02, -1.6704e-01, -6.2380e-02, -2.6266e-01],\n",
      "        [ 5.8519e-02, -8.4894e-02,  3.8760e-02,  7.2466e-02, -2.0646e-02,\n",
      "          5.4639e-04, -1.2714e-02,  2.9724e-02,  1.8005e-03, -1.6285e-01],\n",
      "        [ 7.6970e-02,  1.4080e-01,  2.6116e-01,  2.1706e-01,  1.5215e-01,\n",
      "         -9.6530e-02,  9.0658e-02,  5.8860e-02, -1.7033e-01,  7.9724e-02],\n",
      "        [ 2.8789e-01,  3.7061e-01,  3.8671e-01,  6.9274e-02, -5.0155e-02,\n",
      "         -7.3446e-02,  3.7722e-01,  8.1014e-02,  6.3785e-02, -1.5509e-01],\n",
      "        [ 2.0845e-01,  2.0125e-01,  2.0266e-01,  1.9296e-01, -1.4884e-01,\n",
      "          2.5106e-01,  2.1913e-01, -5.4340e-02,  6.7434e-02, -1.3175e-01],\n",
      "        [ 3.0264e-02, -4.0047e-02, -4.9117e-02,  1.5123e-01,  1.4037e-01,\n",
      "          1.3147e-01, -1.9971e-02, -7.3563e-02, -7.6077e-02, -1.0960e-01],\n",
      "        [ 2.6635e-02,  6.9162e-02,  2.1590e-01,  2.6076e-01, -3.0007e-01,\n",
      "         -1.1236e-01,  5.2499e-02, -5.3473e-02, -1.9285e-01, -4.9785e-02],\n",
      "        [ 1.2651e-01, -1.8982e-01, -1.4509e-01,  4.1626e-01, -8.2787e-02,\n",
      "         -7.3701e-02,  8.1441e-02, -8.7470e-02,  4.4777e-03, -1.2433e-01],\n",
      "        [-5.1351e-03,  1.5958e-01,  2.1391e-01,  4.8692e-02, -2.2003e-02,\n",
      "         -6.6574e-02, -6.2196e-02,  4.0429e-02, -3.7284e-02,  1.1006e-01],\n",
      "        [ 3.8871e-01,  2.9797e-01,  4.0979e-01,  1.5904e-01, -2.2436e-01,\n",
      "         -1.1861e-01,  1.9929e-01, -6.1472e-02, -1.1842e-01, -1.7287e-01],\n",
      "        [ 3.4915e-01,  2.6769e-01,  2.3393e-01, -7.9261e-02, -8.5634e-02,\n",
      "          6.4496e-02,  1.2953e-01, -4.8666e-02,  1.8440e-01,  1.0686e-01],\n",
      "        [ 1.8179e-01,  7.3849e-03, -1.3272e-01, -1.3900e-01, -3.1386e-03,\n",
      "          3.0065e-02, -4.0025e-02, -1.0212e-01, -1.2826e-01,  8.4737e-02],\n",
      "        [ 4.2938e-01,  4.9790e-02,  7.2977e-02,  2.7400e-01,  4.5686e-02,\n",
      "         -2.0787e-01,  1.4220e-01,  1.3721e-01,  4.0759e-03, -2.8356e-01],\n",
      "        [ 4.6030e-02,  2.9169e-01,  1.3632e-01,  5.7753e-02, -2.0993e-01,\n",
      "         -3.0986e-01,  1.5753e-01, -6.3482e-02,  7.6783e-02, -5.6900e-02],\n",
      "        [ 1.1260e-01, -5.0020e-02, -1.2054e-03,  1.8864e-01,  6.0227e-02,\n",
      "         -1.1414e-01,  1.0373e-01,  9.0628e-02, -4.9922e-02, -6.9926e-02],\n",
      "        [ 3.8827e-01,  8.0789e-02,  7.4174e-02,  2.7174e-01,  2.3254e-01,\n",
      "         -2.7741e-01, -5.1687e-02, -3.7412e-01, -1.5421e-01,  1.9968e-01],\n",
      "        [ 8.0566e-02,  2.3336e-01, -1.3296e-02, -4.3941e-02, -2.5164e-01,\n",
      "          1.8673e-01, -1.9895e-02,  9.5347e-02,  2.3540e-02, -3.4570e-02],\n",
      "        [ 1.6064e-01,  2.9977e-01,  2.9703e-01, -1.7612e-01, -2.2821e-01,\n",
      "         -1.0115e-01,  8.0094e-03, -2.4459e-01, -3.3004e-02, -5.3859e-02],\n",
      "        [ 6.6038e-02,  1.0026e-01,  8.1463e-02,  3.9602e-02, -8.4280e-02,\n",
      "          9.3048e-03, -9.8666e-03, -1.9656e-01,  6.8176e-02, -1.9412e-01],\n",
      "        [ 2.5311e-01,  1.9279e-01,  1.9162e-01, -2.1167e-01, -1.4519e-01,\n",
      "         -2.0126e-02,  2.2294e-01,  2.6292e-02, -6.7258e-02, -4.6138e-02],\n",
      "        [ 1.0155e-01,  1.2111e-01,  1.1697e-01, -7.4639e-02, -8.3767e-02,\n",
      "         -1.8806e-01, -6.8342e-02, -9.5165e-02,  2.5104e-01, -3.1603e-01],\n",
      "        [-1.2839e-01, -1.2373e-01, -1.1304e-02,  3.1577e-01,  4.4302e-02,\n",
      "         -2.7838e-01,  1.8689e-01, -1.2251e-01, -2.4570e-01,  1.2782e-01],\n",
      "        [ 1.6945e-01,  2.5075e-01, -2.0297e-02,  2.3662e-01,  3.0135e-01,\n",
      "          3.3574e-01, -2.4695e-01,  7.6769e-02,  2.3911e-01, -4.0670e-01],\n",
      "        [ 2.3822e-01,  2.4557e-01,  2.4485e-01,  8.2584e-03,  2.7924e-02,\n",
      "         -4.2825e-02,  1.1187e-01, -5.0354e-02,  6.0354e-03, -2.0228e-01],\n",
      "        [ 2.8197e-01, -4.1419e-02,  3.0730e-01,  3.2240e-02,  1.6657e-01,\n",
      "          1.7724e-01,  5.7720e-02, -6.7330e-02, -6.0174e-02, -1.8126e-01],\n",
      "        [ 1.5560e-01,  1.1766e-01,  3.2902e-01,  1.4405e-01,  2.8132e-01,\n",
      "          1.2233e-01,  1.0292e-01,  2.9157e-01,  2.0816e-01, -3.2972e-01],\n",
      "        [ 2.1644e-01,  4.4132e-02,  1.1689e-01,  1.8286e-01, -4.1220e-02,\n",
      "         -1.0466e-01,  1.4804e-01, -5.5045e-02, -1.5835e-01, -1.4863e-01],\n",
      "        [ 2.2214e-02,  1.0372e-01,  1.4547e-01,  1.8795e-01, -1.1656e-01,\n",
      "         -3.2505e-01, -5.8358e-02,  3.4555e-02,  9.9160e-02, -1.2422e-01],\n",
      "        [ 1.7631e-01,  2.6333e-01,  1.9111e-01,  2.6906e-02, -1.1414e-02,\n",
      "         -1.6896e-01,  2.6070e-01,  8.6288e-02,  1.1608e-01, -1.0376e-01],\n",
      "        [ 3.5849e-01,  1.6462e-01,  1.9439e-01,  1.9717e-01, -2.3752e-01,\n",
      "          2.7563e-02,  1.0196e-01, -6.8941e-02, -7.8197e-02, -4.5911e-02],\n",
      "        [ 2.3257e-01,  3.0724e-01, -7.0478e-02, -9.8482e-03, -1.3485e-01,\n",
      "         -2.7648e-01, -1.0124e-01,  5.1864e-02,  5.7389e-02, -2.0766e-01],\n",
      "        [-1.3871e-02,  5.7617e-02,  8.7224e-02,  5.2318e-02,  1.7953e-01,\n",
      "         -1.7102e-02,  8.5156e-02,  2.2113e-02,  7.1913e-03,  3.3962e-02],\n",
      "        [ 8.0379e-02,  5.8930e-01, -7.0392e-02, -3.8233e-02, -1.6534e-01,\n",
      "         -5.3296e-01,  9.5217e-03,  2.7187e-01, -1.3565e-02, -1.6910e-01],\n",
      "        [ 1.1458e-01,  3.2197e-03,  5.0872e-02, -1.5776e-01, -3.0498e-02,\n",
      "          1.1619e-01, -3.8751e-02, -4.1862e-02, -1.7259e-01, -1.1668e-01],\n",
      "        [ 1.8646e-01,  2.8648e-01,  1.4249e-01,  2.4938e-01, -2.9183e-02,\n",
      "          3.5464e-01,  1.9110e-01, -3.0305e-02,  1.7023e-01, -3.6087e-01],\n",
      "        [-1.3221e-02, -3.0499e-02,  3.3887e-02,  9.4471e-02,  1.9419e-02,\n",
      "          1.2354e-01,  3.3877e-02,  7.4626e-04,  8.0491e-03, -2.2338e-01],\n",
      "        [ 2.1996e-01,  2.4961e-01,  2.3457e-01,  2.4173e-01,  1.2504e-01,\n",
      "         -1.0021e-01,  2.7727e-01,  1.2767e-01,  1.4065e-01, -9.1021e-02],\n",
      "        [ 3.4054e-02,  2.7444e-02,  9.5819e-02,  3.2344e-01, -2.8056e-01,\n",
      "         -8.3595e-02,  5.7293e-04, -7.9749e-02, -3.5020e-01,  4.1232e-02],\n",
      "        [ 9.9991e-02, -4.1151e-02,  2.5778e-01,  2.7260e-01,  9.1303e-02,\n",
      "         -8.8770e-02, -1.0869e-01,  2.7617e-03,  1.0999e-01, -7.5133e-03],\n",
      "        [ 1.9961e-01,  8.6974e-02,  1.7528e-01,  1.9098e-01,  8.3808e-03,\n",
      "         -3.6813e-04,  1.4068e-01, -1.6944e-01,  1.2402e-01, -1.4987e-01],\n",
      "        [ 1.9012e-01,  2.8529e-01,  3.4251e-01,  2.3733e-01,  1.1186e-01,\n",
      "          7.6274e-02,  1.2323e-01, -8.3613e-02,  1.8455e-01, -1.7106e-01],\n",
      "        [ 2.0404e-01,  8.6476e-02,  3.3239e-01,  1.7377e-01,  7.2190e-02,\n",
      "         -2.6784e-01,  5.3812e-02, -2.1008e-01, -2.7600e-01, -1.1425e-01],\n",
      "        [ 1.8779e-02,  2.0358e-01,  1.4954e-02,  1.7005e-01,  2.2688e-02,\n",
      "          3.1401e-01, -1.1577e-01,  8.1259e-02, -2.2783e-01, -1.1518e-01],\n",
      "        [ 9.9636e-02,  2.3756e-01,  1.2477e-01, -8.4548e-02,  3.2260e-02,\n",
      "          4.1485e-01,  2.3167e-01,  2.0911e-01, -1.4849e-01, -1.5206e-01],\n",
      "        [ 2.1936e-01,  1.2367e-01,  1.9599e-01,  6.6582e-02,  2.9444e-02,\n",
      "         -1.8228e-01,  2.8022e-01,  8.8787e-02, -2.7006e-01,  2.4363e-02],\n",
      "        [ 3.5136e-01,  4.5863e-01,  2.8656e-01,  1.1957e-01, -3.4365e-01,\n",
      "         -2.7292e-01,  5.2051e-02, -1.5191e-01,  1.1584e-01, -7.0459e-02],\n",
      "        [ 3.7449e-01,  4.9553e-01,  5.3592e-01,  4.0285e-02, -2.9531e-02,\n",
      "         -2.9508e-01,  1.2926e-01, -1.2682e-02, -3.9632e-02,  4.0508e-03],\n",
      "        [ 1.6475e-01,  2.0869e-01,  3.7506e-01,  1.8801e-01,  2.2251e-01,\n",
      "          3.9529e-02,  1.6479e-01, -3.8635e-02,  6.9625e-02, -3.2459e-01],\n",
      "        [-1.3622e-01, -5.9287e-02, -8.5203e-02,  1.8255e-02, -7.7580e-02,\n",
      "         -1.2027e-01,  1.6450e-03, -1.5543e-01, -2.3763e-01, -5.8260e-02],\n",
      "        [ 2.4566e-02,  2.1502e-01,  2.0376e-01,  1.3365e-01, -1.3902e-01,\n",
      "          2.0488e-01, -2.8487e-01,  1.2740e-01,  4.8771e-02, -2.9464e-01],\n",
      "        [ 2.1563e-01,  4.1316e-02,  2.1031e-01,  2.4109e-01, -8.8041e-02,\n",
      "          2.2591e-01, -1.5373e-02, -7.9625e-02,  1.1791e-01, -2.2575e-01],\n",
      "        [ 7.9427e-02,  2.7705e-01,  1.8943e-01,  2.0461e-01, -2.7095e-01,\n",
      "         -5.6993e-02,  1.9255e-01,  8.2499e-02, -3.6372e-01, -4.4103e-02],\n",
      "        [ 7.0740e-02,  1.3219e-01,  6.5889e-02,  1.5006e-01, -2.3451e-01,\n",
      "          2.1133e-01, -2.3206e-01, -9.8864e-02, -1.2737e-01, -2.5600e-01],\n",
      "        [ 1.2463e-01,  1.1252e-01,  6.5846e-02,  4.3244e-02,  9.4319e-03,\n",
      "          5.1122e-02,  3.7129e-02, -4.2053e-03,  1.5527e-01, -2.7773e-01],\n",
      "        [ 1.7745e-01,  6.4579e-02,  2.4658e-01,  3.6596e-01, -6.7440e-02,\n",
      "         -4.8308e-03,  1.7294e-01, -1.1852e-01, -2.6928e-01, -6.2797e-02],\n",
      "        [ 1.4085e-01, -2.3939e-02,  7.2241e-02,  3.4617e-01, -3.2976e-02,\n",
      "          1.8470e-02, -2.1725e-02, -9.0158e-02,  5.0075e-02, -3.6854e-01],\n",
      "        [ 3.1616e-01,  4.6276e-01,  4.8152e-01,  1.1933e-01, -7.5311e-02,\n",
      "         -8.1553e-02,  1.1818e-01,  8.7598e-02,  9.9990e-02, -3.4896e-01],\n",
      "        [ 1.0156e-01, -1.1399e-01, -1.3110e-01,  2.9297e-01,  9.3342e-03,\n",
      "          4.9007e-02,  5.6496e-02, -4.1260e-02,  4.5361e-02, -2.1500e-01],\n",
      "        [ 3.8193e-01,  2.1634e-01,  3.0245e-01,  1.4628e-01, -2.7723e-02,\n",
      "          1.7622e-01,  1.0907e-02, -2.5639e-01,  3.0465e-02, -2.0849e-01],\n",
      "        [ 6.6745e-02,  6.5487e-02, -2.2531e-02, -4.4312e-02,  1.2956e-01,\n",
      "         -1.5453e-01, -3.1682e-01, -1.7036e-02, -8.3731e-02,  1.8875e-02],\n",
      "        [ 5.7706e-01,  2.8134e-01,  2.9790e-01,  5.7224e-02, -2.1259e-01,\n",
      "          9.2285e-02,  1.5907e-01, -2.3116e-01, -1.4054e-01, -1.1720e-01]],\n",
      "       grad_fn=<AddmmBackward>)\n",
      "torch.Size([100, 10])\n",
      "torch.Size([100])\n",
      "torch.Size([100])\n",
      "torch.Size([100])\n",
      "torch.Size([100])\n",
      "torch.Size([100])\n",
      "torch.Size([100])\n",
      "torch.Size([100])\n",
      "torch.Size([100])\n",
      "torch.Size([100])\n",
      "torch.Size([100])\n"
     ]
    },
    {
     "name": "stdout",
     "output_type": "stream",
     "text": [
      "torch.Size([100])\n",
      "torch.Size([100])\n",
      "torch.Size([100])\n",
      "torch.Size([100])\n",
      "torch.Size([100])\n",
      "torch.Size([100])\n",
      "torch.Size([100])\n",
      "torch.Size([100])\n",
      "torch.Size([100])\n",
      "torch.Size([100])\n",
      "torch.Size([100])\n",
      "torch.Size([100])\n",
      "torch.Size([100])\n",
      "torch.Size([100])\n",
      "torch.Size([100])\n",
      "torch.Size([100])\n",
      "torch.Size([100])\n",
      "torch.Size([100])\n",
      "torch.Size([100])\n",
      "torch.Size([100])\n",
      "torch.Size([100])\n",
      "torch.Size([100])\n",
      "torch.Size([100])\n",
      "torch.Size([100])\n",
      "torch.Size([100])\n",
      "torch.Size([100])\n",
      "torch.Size([100])\n",
      "torch.Size([100])\n",
      "torch.Size([100])\n",
      "torch.Size([100])\n",
      "torch.Size([100])\n",
      "torch.Size([100])\n",
      "torch.Size([100])\n",
      "torch.Size([100])\n",
      "torch.Size([100])\n",
      "torch.Size([100])\n",
      "torch.Size([100])\n",
      "torch.Size([100])\n",
      "torch.Size([100])\n",
      "torch.Size([100])\n",
      "torch.Size([100])\n",
      "torch.Size([100])\n",
      "torch.Size([100])\n",
      "torch.Size([100])\n",
      "torch.Size([100])\n",
      "torch.Size([100])\n",
      "torch.Size([100])\n",
      "torch.Size([100])\n",
      "torch.Size([100])\n",
      "torch.Size([100])\n",
      "torch.Size([100])\n",
      "torch.Size([100])\n",
      "torch.Size([100])\n",
      "torch.Size([100])\n",
      "torch.Size([100])\n",
      "torch.Size([100])\n",
      "torch.Size([100])\n",
      "torch.Size([100])\n",
      "torch.Size([100])\n",
      "torch.Size([100])\n",
      "torch.Size([100])\n",
      "torch.Size([100])\n",
      "torch.Size([100])\n",
      "torch.Size([100])\n",
      "torch.Size([100])\n",
      "torch.Size([100])\n",
      "torch.Size([100])\n",
      "torch.Size([100])\n",
      "torch.Size([100])\n",
      "torch.Size([100])\n",
      "torch.Size([100])\n",
      "torch.Size([100])\n",
      "torch.Size([100])\n",
      "torch.Size([100])\n",
      "torch.Size([100])\n",
      "torch.Size([100])\n",
      "torch.Size([100])\n",
      "torch.Size([100])\n",
      "torch.Size([100])\n",
      "torch.Size([100])\n",
      "torch.Size([100])\n",
      "torch.Size([100])\n",
      "torch.Size([100])\n",
      "torch.Size([100])\n",
      "torch.Size([100])\n",
      "torch.Size([100])\n",
      "torch.Size([100])\n",
      "torch.Size([100])\n",
      "torch.Size([100])\n",
      "torch.Size([100])\n"
     ]
    }
   ],
   "source": [
    "iter_test = 0\n",
    "for images, labels in test_loader:\n",
    "    iter_test += 1\n",
    "    images = images.view(-1, 28*28).requires_grad_()\n",
    "    outputs = model(images)\n",
    "    if iter_test == 1:\n",
    "        print('OUTPUTS')\n",
    "        print(outputs)\n",
    "        print(outputs.size())\n",
    "    _, predicted = torch.max(outputs.data, 1)\n",
    "    print(predicted.shape)"
   ]
  },
  {
   "cell_type": "code",
   "execution_count": 43,
   "metadata": {},
   "outputs": [
    {
     "name": "stdout",
     "output_type": "stream",
     "text": [
      "OUTPUTS\n",
      "torch.Size([100, 10])\n"
     ]
    }
   ],
   "source": [
    "iter_test = 0\n",
    "for images, labels in test_loader:\n",
    "    iter_test += 1\n",
    "    images = images.view(-1, 28*28).requires_grad_()\n",
    "    outputs = model(images)\n",
    "    if iter_test == 1:\n",
    "        print('OUTPUTS')\n",
    "        print(outputs.size())\n",
    "    _, predicted = torch.max(outputs.data, 1)"
   ]
  },
  {
   "cell_type": "code",
   "execution_count": 44,
   "metadata": {},
   "outputs": [
    {
     "name": "stdout",
     "output_type": "stream",
     "text": [
      "OUTPUTS\n",
      "tensor([-0.4181, -1.0784, -0.4840, -0.0985, -0.2394, -0.1801, -1.1639,\n",
      "         2.9352, -0.1552,  0.8852])\n"
     ]
    }
   ],
   "source": [
    "iter_test = 0\n",
    "for images, labels in test_loader:\n",
    "    iter_test += 1\n",
    "    images = images.view(-1, 28*28).requires_grad_()\n",
    "    outputs = model(images)\n",
    "    if iter_test == 1:\n",
    "        print('OUTPUTS')\n",
    "        print(outputs[0, :])\n",
    "    _, predicted = torch.max(outputs.data, 1)"
   ]
  },
  {
   "cell_type": "code",
   "execution_count": 54,
   "metadata": {},
   "outputs": [
    {
     "name": "stdout",
     "output_type": "stream",
     "text": [
      "PREDICTION\n",
      "torch.Size([100])\n"
     ]
    }
   ],
   "source": [
    "iter_test = 0\n",
    "for images, labels in test_loader:\n",
    "    iter_test += 1\n",
    "    images = images.view(-1, 28*28).requires_grad_()\n",
    "    outputs = model(images)\n",
    "    _, predicted = torch.max(outputs.data, 1)\n",
    "    if iter_test == 1:\n",
    "        print('PREDICTION')\n",
    "        print(predicted.size())"
   ]
  },
  {
   "cell_type": "code",
   "execution_count": 58,
   "metadata": {},
   "outputs": [
    {
     "name": "stdout",
     "output_type": "stream",
     "text": [
      "PREDICTION\n",
      "tensor([2, 0, 8, 1, 2, 3, 2, 3, 1, 2, 1, 1, 1, 1, 2, 6, 1, 4, 0, 2, 2, 2, 2, 1,\n",
      "        2, 1, 2, 2, 1, 3, 3, 3, 3, 1, 2, 3, 4, 3, 0, 1, 3, 2, 2, 5, 3, 3, 3, 2,\n",
      "        2, 0, 0, 0, 1, 3, 0, 1, 1, 1, 0, 8, 3, 5, 1, 2, 2, 0, 3, 1, 0, 1, 4, 1,\n",
      "        5, 5, 5, 6, 3, 3, 0, 2, 2, 5, 5, 6, 1, 2, 2, 3, 1, 3, 1, 5, 8, 3, 3, 2,\n",
      "        3, 0, 4, 0])\n",
      "tensor(2)\n"
     ]
    }
   ],
   "source": [
    "iter_test = 0\n",
    "for images, labels in test_loader:\n",
    "    iter_test += 1\n",
    "    images = images.view(-1, 28*28).requires_grad_()\n",
    "    outputs = model(images)\n",
    "    _, predicted = torch.max(outputs.data, 1)\n",
    "    if iter_test == 1:\n",
    "        print('PREDICTION')\n",
    "        print(predicted)\n",
    "        print(predicted[0])"
   ]
  },
  {
   "cell_type": "code",
   "execution_count": 47,
   "metadata": {},
   "outputs": [
    {
     "name": "stdout",
     "output_type": "stream",
     "text": [
      "PREDICTION\n",
      "tensor(7)\n",
      "LABEL SIZE\n",
      "torch.Size([100])\n",
      "LABEL FOR IMAGE 0\n",
      "tensor(7)\n"
     ]
    }
   ],
   "source": [
    "iter_test = 0\n",
    "for images, labels in test_loader:\n",
    "    iter_test += 1\n",
    "    images = images.view(-1, 28*28).requires_grad_()\n",
    "    outputs = model(images)\n",
    "    _, predicted = torch.max(outputs.data, 1)\n",
    "    if iter_test == 1:\n",
    "        print('PREDICTION')\n",
    "        print(predicted[0])\n",
    "        \n",
    "        print('LABEL SIZE')\n",
    "        print(labels.size())\n",
    "        \n",
    "        print('LABEL FOR IMAGE 0')\n",
    "        print(labels[0])"
   ]
  },
  {
   "cell_type": "code",
   "execution_count": 48,
   "metadata": {},
   "outputs": [
    {
     "name": "stdout",
     "output_type": "stream",
     "text": [
      "PREDICTION\n",
      "tensor(2)\n",
      "LABEL SIZE\n",
      "torch.Size([100])\n",
      "LABEL FOR IMAGE 1\n",
      "tensor(2)\n"
     ]
    }
   ],
   "source": [
    "iter_test = 0\n",
    "for images, labels in test_loader:\n",
    "    iter_test += 1\n",
    "    images = images.view(-1, 28*28).requires_grad_()\n",
    "    outputs = model(images)\n",
    "    _, predicted = torch.max(outputs.data, 1)\n",
    "    \n",
    "    if iter_test == 1:\n",
    "        print('PREDICTION')\n",
    "        print(predicted[1])\n",
    "        \n",
    "        print('LABEL SIZE')\n",
    "        print(labels.size())\n",
    "        \n",
    "        print('LABEL FOR IMAGE 1')\n",
    "        print(labels[1])"
   ]
  },
  {
   "cell_type": "code",
   "execution_count": 49,
   "metadata": {},
   "outputs": [
    {
     "name": "stdout",
     "output_type": "stream",
     "text": [
      "82.94\n"
     ]
    }
   ],
   "source": [
    "correct = 0\n",
    "total = 0\n",
    "iter_test = 0\n",
    "for images, labels in test_loader:\n",
    "    iter_test += 1\n",
    "    images = images.view(-1, 28*28).requires_grad_()\n",
    "    outputs = model(images)\n",
    "    _, predicted = torch.max(outputs.data, 1)\n",
    "    \n",
    "    # Total number of labels\n",
    "    total += labels.size(0)\n",
    "\n",
    "    # Total correct predictions\n",
    "    correct += (predicted == labels).sum()\n",
    "\n",
    "accuracy = 100 * (correct.item() / total)\n",
    "\n",
    "print(accuracy)"
   ]
  },
  {
   "cell_type": "code",
   "execution_count": 50,
   "metadata": {},
   "outputs": [
    {
     "name": "stdout",
     "output_type": "stream",
     "text": [
      "[1. 1. 1. 1. 1. 1. 1. 1. 1. 1.]\n",
      "[1. 1. 1. 1. 1. 1. 1. 1. 1. 1.]\n",
      "[ True  True  True  True  True  True  True  True  True  True]\n",
      "10\n"
     ]
    }
   ],
   "source": [
    "# Explaining .sum() python built-in function\n",
    "# correct += (predicted == labels).sum()\n",
    "import numpy as np\n",
    "a = np.ones((10))\n",
    "print(a)\n",
    "b = np.ones((10))\n",
    "print(b)\n",
    "\n",
    "print(a == b)\n",
    "\n",
    "print((a == b).sum())"
   ]
  },
  {
   "cell_type": "markdown",
   "metadata": {},
   "source": [
    "#### Saving Model"
   ]
  },
  {
   "cell_type": "code",
   "execution_count": 51,
   "metadata": {
    "collapsed": true
   },
   "outputs": [],
   "source": [
    "save_model = False\n",
    "if save_model is True:\n",
    "    # Saves only parameters\n",
    "    torch.save(model.state_dict(), 'awesome_model.pkl')"
   ]
  },
  {
   "cell_type": "markdown",
   "metadata": {},
   "source": [
    "## 3. Building a Logistic Regression Model with PyTorch (GPU)\n",
    "\n"
   ]
  },
  {
   "cell_type": "markdown",
   "metadata": {},
   "source": [
    "**CPU Version**"
   ]
  },
  {
   "cell_type": "code",
   "execution_count": 52,
   "metadata": {},
   "outputs": [
    {
     "name": "stdout",
     "output_type": "stream",
     "text": [
      "Iteration: 500. Loss: 1.876196026802063. Accuracy: 64.44\n",
      "Iteration: 1000. Loss: 1.5153584480285645. Accuracy: 75.68\n",
      "Iteration: 1500. Loss: 1.3521136045455933. Accuracy: 78.98\n",
      "Iteration: 2000. Loss: 1.2136967182159424. Accuracy: 80.95\n",
      "Iteration: 2500. Loss: 1.0934826135635376. Accuracy: 81.97\n",
      "Iteration: 3000. Loss: 1.024120569229126. Accuracy: 82.49\n"
     ]
    }
   ],
   "source": [
    "import torch\n",
    "import torch.nn as nn\n",
    "import torchvision.transforms as transforms\n",
    "import torchvision.datasets as dsets\n",
    "\n",
    "'''\n",
    "STEP 1: LOADING DATASET\n",
    "'''\n",
    "\n",
    "train_dataset = dsets.MNIST(root='./data', \n",
    "                            train=True, \n",
    "                            transform=transforms.ToTensor(),\n",
    "                            download=True)\n",
    "\n",
    "test_dataset = dsets.MNIST(root='./data', \n",
    "                           train=False, \n",
    "                           transform=transforms.ToTensor())\n",
    "\n",
    "'''\n",
    "STEP 2: MAKING DATASET ITERABLE\n",
    "'''\n",
    "\n",
    "batch_size = 100\n",
    "n_iters = 3000\n",
    "num_epochs = n_iters / (len(train_dataset) / batch_size)\n",
    "num_epochs = int(num_epochs)\n",
    "\n",
    "train_loader = torch.utils.data.DataLoader(dataset=train_dataset, \n",
    "                                           batch_size=batch_size, \n",
    "                                           shuffle=True)\n",
    "\n",
    "test_loader = torch.utils.data.DataLoader(dataset=test_dataset, \n",
    "                                          batch_size=batch_size, \n",
    "                                          shuffle=False)\n",
    "\n",
    "'''\n",
    "STEP 3: CREATE MODEL CLASS\n",
    "'''\n",
    "class LogisticRegressionModel(nn.Module):\n",
    "    def __init__(self, input_size, num_classes):\n",
    "        super(LogisticRegressionModel, self).__init__()\n",
    "        self.linear = nn.Linear(input_dim, output_dim)\n",
    "    \n",
    "    def forward(self, x):\n",
    "        out = self.linear(x)\n",
    "        return out\n",
    "\n",
    "'''\n",
    "STEP 4: INSTANTIATE MODEL CLASS\n",
    "'''\n",
    "input_dim = 28*28\n",
    "output_dim = 10\n",
    "\n",
    "model = LogisticRegressionModel(input_dim, output_dim)\n",
    "\n",
    "'''\n",
    "STEP 5: INSTANTIATE LOSS CLASS\n",
    "'''\n",
    "criterion = nn.CrossEntropyLoss()\n",
    "\n",
    "\n",
    "'''\n",
    "STEP 6: INSTANTIATE OPTIMIZER CLASS\n",
    "'''\n",
    "learning_rate = 0.001\n",
    "\n",
    "optimizer = torch.optim.SGD(model.parameters(), lr=learning_rate)\n",
    "\n",
    "'''\n",
    "STEP 7: TRAIN THE MODEL\n",
    "'''\n",
    "iter = 0\n",
    "for epoch in range(num_epochs):\n",
    "    for i, (images, labels) in enumerate(train_loader):\n",
    "        # Load images as Variable\n",
    "        images = images.view(-1, 28*28).requires_grad_()\n",
    "        labels = labels\n",
    "        \n",
    "        # Clear gradients w.r.t. parameters\n",
    "        optimizer.zero_grad()\n",
    "        \n",
    "        # Forward pass to get output/logits\n",
    "        # 100 x 10\n",
    "        outputs = model(images)\n",
    "        \n",
    "        # Calculate Loss: softmax --> cross entropy loss\n",
    "        loss = criterion(outputs, labels)\n",
    "        \n",
    "        # Getting gradients w.r.t. parameters\n",
    "        loss.backward()\n",
    "        \n",
    "        # Updating parameters\n",
    "        optimizer.step()\n",
    "        \n",
    "        iter += 1\n",
    "        \n",
    "        if iter % 500 == 0:\n",
    "            # Calculate Accuracy         \n",
    "            correct = 0\n",
    "            total = 0\n",
    "            # Iterate through test dataset\n",
    "            for images, labels in test_loader:\n",
    "                # Load images to a Torch Variable\n",
    "                images = images.view(-1, 28*28).requires_grad_()\n",
    "                \n",
    "                # Forward pass only to get logits/output\n",
    "                outputs = model(images)\n",
    "                \n",
    "                # Get predictions from the maximum value\n",
    "                # 100 x 1\n",
    "                _, predicted = torch.max(outputs.data, 1)\n",
    "                \n",
    "                # Total number of labels\n",
    "                total += labels.size(0)\n",
    "                \n",
    "                # Total correct predictions\n",
    "                correct += (predicted == labels).sum()\n",
    "            \n",
    "            accuracy = 100 * correct.item() / total\n",
    "            \n",
    "            # Print Loss\n",
    "            print('Iteration: {}. Loss: {}. Accuracy: {}'.format(iter, loss.item(), accuracy))"
   ]
  },
  {
   "cell_type": "markdown",
   "metadata": {},
   "source": [
    "GPU: 2 things must be on GPU\n",
    "- `model`\n",
    "- `variables`"
   ]
  },
  {
   "cell_type": "code",
   "execution_count": 53,
   "metadata": {},
   "outputs": [
    {
     "name": "stdout",
     "output_type": "stream",
     "text": [
      "Iteration: 500. Loss: 1.8571407794952393. Accuracy: 68.99\n",
      "Iteration: 1000. Loss: 1.5415704250335693. Accuracy: 75.86\n",
      "Iteration: 1500. Loss: 1.2755383253097534. Accuracy: 78.92\n",
      "Iteration: 2000. Loss: 1.2468739748001099. Accuracy: 80.72\n",
      "Iteration: 2500. Loss: 1.0708973407745361. Accuracy: 81.73\n",
      "Iteration: 3000. Loss: 1.0359245538711548. Accuracy: 82.74\n"
     ]
    }
   ],
   "source": [
    "import torch\n",
    "import torch.nn as nn\n",
    "import torchvision.transforms as transforms\n",
    "import torchvision.datasets as dsets\n",
    "\n",
    "'''\n",
    "STEP 1: LOADING DATASET\n",
    "'''\n",
    "\n",
    "train_dataset = dsets.MNIST(root='./data', \n",
    "                            train=True, \n",
    "                            transform=transforms.ToTensor(),\n",
    "                            download=True)\n",
    "\n",
    "test_dataset = dsets.MNIST(root='./data', \n",
    "                           train=False, \n",
    "                           transform=transforms.ToTensor())\n",
    "\n",
    "'''\n",
    "STEP 2: MAKING DATASET ITERABLE\n",
    "'''\n",
    "\n",
    "batch_size = 100\n",
    "n_iters = 3000\n",
    "num_epochs = n_iters / (len(train_dataset) / batch_size)\n",
    "num_epochs = int(num_epochs)\n",
    "\n",
    "train_loader = torch.utils.data.DataLoader(dataset=train_dataset, \n",
    "                                           batch_size=batch_size, \n",
    "                                           shuffle=True)\n",
    "\n",
    "test_loader = torch.utils.data.DataLoader(dataset=test_dataset, \n",
    "                                          batch_size=batch_size, \n",
    "                                          shuffle=False)\n",
    "\n",
    "'''\n",
    "STEP 3: CREATE MODEL CLASS\n",
    "'''\n",
    "class LogisticRegressionModel(nn.Module):\n",
    "    def __init__(self, input_size, num_classes):\n",
    "        super(LogisticRegressionModel, self).__init__()\n",
    "        self.linear = nn.Linear(input_dim, output_dim)\n",
    "    \n",
    "    def forward(self, x):\n",
    "        out = self.linear(x)\n",
    "        return out\n",
    "\n",
    "'''\n",
    "STEP 4: INSTANTIATE MODEL CLASS\n",
    "'''\n",
    "input_dim = 28*28\n",
    "output_dim = 10\n",
    "\n",
    "model = LogisticRegressionModel(input_dim, output_dim)\n",
    "\n",
    "#######################\n",
    "#  USE GPU FOR MODEL  #\n",
    "#######################\n",
    "\n",
    "device = torch.device(\"cuda:0\" if torch.cuda.is_available() else \"cpu\")\n",
    "model.to(device)\n",
    "\n",
    "'''\n",
    "STEP 5: INSTANTIATE LOSS CLASS\n",
    "'''\n",
    "criterion = nn.CrossEntropyLoss()\n",
    "\n",
    "\n",
    "'''\n",
    "STEP 6: INSTANTIATE OPTIMIZER CLASS\n",
    "'''\n",
    "learning_rate = 0.001\n",
    "\n",
    "optimizer = torch.optim.SGD(model.parameters(), lr=learning_rate)\n",
    "\n",
    "'''\n",
    "STEP 7: TRAIN THE MODEL\n",
    "'''\n",
    "iter = 0\n",
    "for epoch in range(num_epochs):\n",
    "    for i, (images, labels) in enumerate(train_loader):\n",
    "        \n",
    "        #######################\n",
    "        #  USE GPU FOR MODEL  #\n",
    "        #######################\n",
    "        images = images.view(-1, 28*28).requires_grad_().to(device)\n",
    "        labels = labels.to(device)\n",
    "        \n",
    "        # Clear gradients w.r.t. parameters\n",
    "        optimizer.zero_grad()\n",
    "        \n",
    "        # Forward pass to get output/logits\n",
    "        outputs = model(images)\n",
    "        \n",
    "        # Calculate Loss: softmax --> cross entropy loss\n",
    "        loss = criterion(outputs, labels)\n",
    "        \n",
    "        # Getting gradients w.r.t. parameters\n",
    "        loss.backward()\n",
    "        \n",
    "        # Updating parameters\n",
    "        optimizer.step()\n",
    "        \n",
    "        iter += 1\n",
    "        \n",
    "        if iter % 500 == 0:\n",
    "            # Calculate Accuracy         \n",
    "            correct = 0\n",
    "            total = 0\n",
    "            # Iterate through test dataset\n",
    "            for images, labels in test_loader:\n",
    "                #######################\n",
    "                #  USE GPU FOR MODEL  #\n",
    "                #######################\n",
    "                images = images.view(-1, 28*28).to(device)\n",
    "                \n",
    "                # Forward pass only to get logits/output\n",
    "                outputs = model(images)\n",
    "                \n",
    "                # Get predictions from the maximum value\n",
    "                _, predicted = torch.max(outputs.data, 1)\n",
    "                \n",
    "                # Total number of labels\n",
    "                total += labels.size(0)\n",
    "                \n",
    "                #######################\n",
    "                #  USE GPU FOR MODEL  #\n",
    "                #######################\n",
    "                # Total correct predictions\n",
    "                if torch.cuda.is_available():\n",
    "                    correct += (predicted.cpu() == labels.cpu()).sum()\n",
    "                else:\n",
    "                    correct += (predicted == labels).sum()\n",
    "            \n",
    "            accuracy = 100 * correct.item() / total\n",
    "            \n",
    "            # Print Loss\n",
    "            print('Iteration: {}. Loss: {}. Accuracy: {}'.format(iter, loss.item(), accuracy))"
   ]
  },
  {
   "cell_type": "markdown",
   "metadata": {},
   "source": [
    "# Summary"
   ]
  },
  {
   "cell_type": "markdown",
   "metadata": {},
   "source": [
    "- **Logistic regression** basics\n",
    "- **Problems** of **linear regression**\n",
    "- **In-depth** Logistic Regression\n",
    "    1. Get logits\n",
    "    2. Get softmax\n",
    "    3. Get cross-entropy loss\n",
    "- **Aim**: reduce cross-entropy loss\n",
    "- Built a **logistic regression model** in **CPU and GPU**\n",
    "    - Step 1: Load Dataset\n",
    "    - Step 2: Make Dataset Iterable\n",
    "    - Step 3: Create Model Class\n",
    "    - Step 4: Instantiate Model Class\n",
    "    - Step 5: Instantiate Loss Class\n",
    "    - Step 6: Instantiate Optimizer Class\n",
    "    - Step 7: Train Model\n",
    "- Important things to be on **GPU**\n",
    "    - `model`\n",
    "    - `tensors with gradients`"
   ]
  }
 ],
 "metadata": {
  "anaconda-cloud": {},
  "kernelspec": {
   "display_name": "Python 3",
   "language": "python",
   "name": "python3"
  },
  "language_info": {
   "codemirror_mode": {
    "name": "ipython",
    "version": 3
   },
   "file_extension": ".py",
   "mimetype": "text/x-python",
   "name": "python",
   "nbconvert_exporter": "python",
   "pygments_lexer": "ipython3",
   "version": "3.6.10"
  }
 },
 "nbformat": 4,
 "nbformat_minor": 1
}
