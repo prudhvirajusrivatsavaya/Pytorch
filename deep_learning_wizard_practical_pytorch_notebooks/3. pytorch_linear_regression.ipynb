{
 "cells": [
  {
   "cell_type": "markdown",
   "metadata": {},
   "source": [
    "# 6. Linear Regression with PyTorch\n",
    "## 1. About Linear Regression\n"
   ]
  },
  {
   "cell_type": "markdown",
   "metadata": {},
   "source": [
    "### 1.1 Simple Linear Regression Basics\n",
    "- Allows us to understand **relationship** between two **continuous variables**\n",
    "- Example\n",
    "    - x: independent variable\n",
    "        - weight\n",
    "    - y: dependent variable\n",
    "        - height\n",
    "- $y = \\alpha x + \\beta$"
   ]
  },
  {
   "cell_type": "markdown",
   "metadata": {},
   "source": [
    "### 1.2 Example of simple linear regression"
   ]
  },
  {
   "cell_type": "code",
   "execution_count": 16,
   "metadata": {},
   "outputs": [
    {
     "data": {
      "image/png": "[encoded data removed]",
      "text/plain": [
       "<Figure size 432x288 with 1 Axes>"
      ]
     },
     "metadata": {
      "needs_background": "light"
     },
     "output_type": "display_data"
    }
   ],
   "source": [
    "import numpy as np\n",
    "import matplotlib.pyplot as plt\n",
    "%matplotlib inline\n",
    "\n",
    "np.random.seed(1)\n",
    "n = 100\n",
    "x = np.random.randn(n)\n",
    "y = x * np.random.randn(n)\n",
    "\n",
    "colors = np.random.rand(n)\n",
    "plt.plot(np.unique(x), np.poly1d(np.polyfit(x, y, 1))(np.unique(x)))\n",
    "\n",
    "plt.scatter(x, y, c=colors, alpha=0.5)\n",
    "plt.show()"
   ]
  },
  {
   "cell_type": "code",
   "execution_count": 17,
   "metadata": {},
   "outputs": [
    {
     "data": {
      "text/plain": [
       "array([0.1823514 , 0.07297668])"
      ]
     },
     "execution_count": 17,
     "metadata": {},
     "output_type": "execute_result"
    }
   ],
   "source": [
    "np.polyfit(x, y, 1)"
   ]
  },
  {
   "cell_type": "markdown",
   "metadata": {},
   "source": [
    "### 1.3 Aim of Linear Regression\n",
    "- Minimize the distance between the points and the line ($y = \\alpha x + \\beta$)\n",
    "- Adjusting\n",
    "    - Coefficient: $\\alpha$\n",
    "    - Bias/intercept: $\\beta$\n",
    "\n",
    "## 2. Building a Linear Regression Model with PyTorch\n",
    "\n",
    "### 2.1 Example\n",
    "- Coefficient: $\\alpha = 2$\n",
    "- Bias/intercept: $\\beta = 1$\n",
    "- Equation: $y = 2x + 1$"
   ]
  },
  {
   "cell_type": "markdown",
   "metadata": {},
   "source": [
    "### 2.2 Building a Toy Dataset"
   ]
  },
  {
   "cell_type": "code",
   "execution_count": 18,
   "metadata": {},
   "outputs": [],
   "source": [
    "x_values = [i for i in range(11)]"
   ]
  },
  {
   "cell_type": "code",
   "execution_count": 19,
   "metadata": {},
   "outputs": [
    {
     "data": {
      "text/plain": [
       "[0, 1, 2, 3, 4, 5, 6, 7, 8, 9, 10]"
      ]
     },
     "execution_count": 19,
     "metadata": {},
     "output_type": "execute_result"
    }
   ],
   "source": [
    "x_values"
   ]
  },
  {
   "cell_type": "code",
   "execution_count": 20,
   "metadata": {},
   "outputs": [
    {
     "data": {
      "text/plain": [
       "(11,)"
      ]
     },
     "execution_count": 20,
     "metadata": {},
     "output_type": "execute_result"
    }
   ],
   "source": [
    "# Convert to numpy\n",
    "x_train = np.array(x_values, dtype=np.float32)\n",
    "x_train.shape"
   ]
  },
  {
   "cell_type": "code",
   "execution_count": 21,
   "metadata": {},
   "outputs": [
    {
     "data": {
      "text/plain": [
       "(11, 1)"
      ]
     },
     "execution_count": 21,
     "metadata": {},
     "output_type": "execute_result"
    }
   ],
   "source": [
    "# IMPORTANT: 2D required\n",
    "x_train = x_train.reshape(-1, 1)\n",
    "x_train.shape"
   ]
  },
  {
   "cell_type": "code",
   "execution_count": 22,
   "metadata": {},
   "outputs": [
    {
     "data": {
      "text/plain": [
       "array([[ 0.],\n",
       "       [ 1.],\n",
       "       [ 2.],\n",
       "       [ 3.],\n",
       "       [ 4.],\n",
       "       [ 5.],\n",
       "       [ 6.],\n",
       "       [ 7.],\n",
       "       [ 8.],\n",
       "       [ 9.],\n",
       "       [10.]], dtype=float32)"
      ]
     },
     "execution_count": 22,
     "metadata": {},
     "output_type": "execute_result"
    }
   ],
   "source": [
    "x_train"
   ]
  },
  {
   "cell_type": "markdown",
   "metadata": {},
   "source": [
    "$y = 2x + 1$"
   ]
  },
  {
   "cell_type": "code",
   "execution_count": 23,
   "metadata": {},
   "outputs": [],
   "source": [
    "y_values = [2*i + 1 for i in x_values]"
   ]
  },
  {
   "cell_type": "code",
   "execution_count": 24,
   "metadata": {},
   "outputs": [
    {
     "data": {
      "text/plain": [
       "[1, 3, 5, 7, 9, 11, 13, 15, 17, 19, 21]"
      ]
     },
     "execution_count": 24,
     "metadata": {},
     "output_type": "execute_result"
    }
   ],
   "source": [
    "y_values"
   ]
  },
  {
   "cell_type": "code",
   "execution_count": 25,
   "metadata": {},
   "outputs": [],
   "source": [
    "# In case you're weak in list iterators...\n",
    "y_values = []\n",
    "for i in x_values:\n",
    "    result = 2*i + 1\n",
    "    y_values.append(result) "
   ]
  },
  {
   "cell_type": "code",
   "execution_count": 26,
   "metadata": {},
   "outputs": [
    {
     "data": {
      "text/plain": [
       "[1, 3, 5, 7, 9, 11, 13, 15, 17, 19, 21]"
      ]
     },
     "execution_count": 26,
     "metadata": {},
     "output_type": "execute_result"
    }
   ],
   "source": [
    "y_values"
   ]
  },
  {
   "cell_type": "code",
   "execution_count": 27,
   "metadata": {},
   "outputs": [
    {
     "data": {
      "text/plain": [
       "(11,)"
      ]
     },
     "execution_count": 27,
     "metadata": {},
     "output_type": "execute_result"
    }
   ],
   "source": [
    "y_train = np.array(y_values, dtype=np.float32)\n",
    "y_train.shape"
   ]
  },
  {
   "cell_type": "code",
   "execution_count": 28,
   "metadata": {},
   "outputs": [
    {
     "data": {
      "text/plain": [
       "(11, 1)"
      ]
     },
     "execution_count": 28,
     "metadata": {},
     "output_type": "execute_result"
    }
   ],
   "source": [
    "# IMPORTANT: 2D required\n",
    "y_train = y_train.reshape(-1, 1)\n",
    "y_train.shape"
   ]
  },
  {
   "cell_type": "code",
   "execution_count": 29,
   "metadata": {},
   "outputs": [
    {
     "data": {
      "text/plain": [
       "array([[ 1.],\n",
       "       [ 3.],\n",
       "       [ 5.],\n",
       "       [ 7.],\n",
       "       [ 9.],\n",
       "       [11.],\n",
       "       [13.],\n",
       "       [15.],\n",
       "       [17.],\n",
       "       [19.],\n",
       "       [21.]], dtype=float32)"
      ]
     },
     "execution_count": 29,
     "metadata": {},
     "output_type": "execute_result"
    }
   ],
   "source": [
    "y_train"
   ]
  },
  {
   "cell_type": "markdown",
   "metadata": {},
   "source": [
    "### 2.3 Building Model"
   ]
  },
  {
   "cell_type": "markdown",
   "metadata": {},
   "source": [
    "**Critical Imports**"
   ]
  },
  {
   "cell_type": "code",
   "execution_count": 30,
   "metadata": {},
   "outputs": [],
   "source": [
    "import torch\n",
    "import torch.nn as nn\n",
    "from torch.autograd  import Variable"
   ]
  },
  {
   "cell_type": "markdown",
   "metadata": {},
   "source": [
    "**Create Model**\n",
    "1. Linear model\n",
    "    - True Equation: $y = 2x + 1$\n",
    "2. Forward\n",
    "    - Example\n",
    "        - Input $x = 1 $\n",
    "        - Output $\\hat y = ?$"
   ]
  },
  {
   "cell_type": "code",
   "execution_count": 31,
   "metadata": {},
   "outputs": [],
   "source": [
    "# Create class\n",
    "class LinearRegressionModel(nn.Module):\n",
    "    \n",
    "    def __init__(self, input_dim, output_dim):\n",
    "        super(LinearRegressionModel, self).__init__()\n",
    "        self.linear = nn.Linear(input_dim, output_dim)  \n",
    "        \n",
    "    def forward(self, x):\n",
    "        out = self.linear(x)\n",
    "        return out"
   ]
  },
  {
   "cell_type": "markdown",
   "metadata": {},
   "source": [
    "**Instantiate Model Class**\n",
    "- input: [0, 1, 2, 3, 4, 5, 6, 7, 8, 9, 10]\n",
    "- desired output: [1, 3, 5, 7, 9, 11, 13, 15, 17, 19, 21]"
   ]
  },
  {
   "cell_type": "code",
   "execution_count": 32,
   "metadata": {},
   "outputs": [],
   "source": [
    "input_dim = 1\n",
    "output_dim = 1\n",
    "\n",
    "model = LinearRegressionModel(input_dim, output_dim)"
   ]
  },
  {
   "cell_type": "markdown",
   "metadata": {},
   "source": [
    "**Instantiate Loss Class**\n",
    "- MSE Loss: Mean Squared Error\n",
    "- $MSE = \\frac{1}{n} \\sum_{i=1}^n(\\hat y_i - y_i)$\n",
    "    - $\\hat y$: prediction\n",
    "    - $y$: true value"
   ]
  },
  {
   "cell_type": "code",
   "execution_count": 33,
   "metadata": {},
   "outputs": [],
   "source": [
    "criterion = nn.MSELoss()"
   ]
  },
  {
   "cell_type": "markdown",
   "metadata": {},
   "source": [
    "**Instantiate Optimizer Class**\n",
    "- Simplified equation\n",
    "    - $\\theta = \\theta - \\eta \\cdot \\nabla_\\theta $\n",
    "        - $\\theta$: parameters (our variables)\n",
    "        - $\\eta$: learning rate (how fast we want to learn)\n",
    "        - $\\nabla_\\theta$: parameters' gradients\n",
    "- Even simplier equation\n",
    "    - `parameters = parameters - learning_rate * parameters_gradients`\n",
    "        - parameters: $\\alpha$ and $\\beta$ in $ y = \\alpha x + \\beta$\n",
    "        - desired parameters: $\\alpha = 2$ and $\\beta = 1$ in $ y = 2x + 1$"
   ]
  },
  {
   "cell_type": "code",
   "execution_count": 28,
   "metadata": {},
   "outputs": [],
   "source": [
    "learning_rate = 0.01\n",
    "\n",
    "optimizer = torch.optim.SGD(model.parameters(), lr=learning_rate)"
   ]
  },
  {
   "cell_type": "markdown",
   "metadata": {},
   "source": [
    "**Train Model**\n",
    "- 1 epoch: going through the whole x_train data once\n",
    "    - 100 epochs: \n",
    "        - 100x mapping `x_train = [0, 1, 2, 3, 4, 5, 6, 7, 8, 9, 10]`\n",
    "        \n",
    "- Process \n",
    "    1. Convert inputs/labels to tensors with gradients\n",
    "    2. Clear gradient buffets\n",
    "    3. Get output given inputs \n",
    "    4. Get loss\n",
    "    5. Get gradients w.r.t. parameters\n",
    "    6. Update parameters using gradients\n",
    "        - `parameters = parameters - learning_rate * parameters_gradients`\n",
    "    7. REPEAT"
   ]
  },
  {
   "cell_type": "code",
   "execution_count": 29,
   "metadata": {},
   "outputs": [],
   "source": [
    "epochs = 100"
   ]
  },
  {
   "cell_type": "code",
   "execution_count": 30,
   "metadata": {
    "scrolled": true
   },
   "outputs": [
    {
     "name": "stdout",
     "output_type": "stream",
     "text": [
      "epoch 1, loss 168.3192138671875\n",
      "epoch 2, loss 14.446228981018066\n",
      "epoch 3, loss 1.8872913122177124\n",
      "epoch 4, loss 0.8549817800521851\n",
      "epoch 5, loss 0.7629508376121521\n",
      "epoch 6, loss 0.7477030158042908\n",
      "epoch 7, loss 0.7388051748275757\n",
      "epoch 8, loss 0.7305099368095398\n",
      "epoch 9, loss 0.7223491668701172\n",
      "epoch 10, loss 0.7142822742462158\n",
      "epoch 11, loss 0.7063060998916626\n",
      "epoch 12, loss 0.6984187960624695\n",
      "epoch 13, loss 0.6906198859214783\n",
      "epoch 14, loss 0.6829073429107666\n",
      "epoch 15, loss 0.6752815246582031\n",
      "epoch 16, loss 0.6677409410476685\n",
      "epoch 17, loss 0.6602842807769775\n",
      "epoch 18, loss 0.6529112458229065\n",
      "epoch 19, loss 0.6456201076507568\n",
      "epoch 20, loss 0.6384106278419495\n",
      "epoch 21, loss 0.6312816143035889\n",
      "epoch 22, loss 0.6242322325706482\n",
      "epoch 23, loss 0.6172615885734558\n",
      "epoch 24, loss 0.610368549823761\n",
      "epoch 25, loss 0.6035523414611816\n",
      "epoch 26, loss 0.5968130826950073\n",
      "epoch 27, loss 0.5901482701301575\n",
      "epoch 28, loss 0.5835585594177246\n",
      "epoch 29, loss 0.5770419239997864\n",
      "epoch 30, loss 0.5705980658531189\n",
      "epoch 31, loss 0.5642261505126953\n",
      "epoch 32, loss 0.5579255819320679\n",
      "epoch 33, loss 0.5516954064369202\n",
      "epoch 34, loss 0.5455346703529358\n",
      "epoch 35, loss 0.5394429564476013\n",
      "epoch 36, loss 0.5334188938140869\n",
      "epoch 37, loss 0.5274625420570374\n",
      "epoch 38, loss 0.5215721130371094\n",
      "epoch 39, loss 0.5157477259635925\n",
      "epoch 40, loss 0.5099887251853943\n",
      "epoch 41, loss 0.50429368019104\n",
      "epoch 42, loss 0.4986620247364044\n",
      "epoch 43, loss 0.4930938482284546\n",
      "epoch 44, loss 0.4875873625278473\n",
      "epoch 45, loss 0.48214226961135864\n",
      "epoch 46, loss 0.47675850987434387\n",
      "epoch 47, loss 0.4714345932006836\n",
      "epoch 48, loss 0.4661702811717987\n",
      "epoch 49, loss 0.46096450090408325\n",
      "epoch 50, loss 0.45581677556037903\n",
      "epoch 51, loss 0.45072701573371887\n",
      "epoch 52, loss 0.44569405913352966\n",
      "epoch 53, loss 0.44071683287620544\n",
      "epoch 54, loss 0.43579530715942383\n",
      "epoch 55, loss 0.4309292733669281\n",
      "epoch 56, loss 0.4261164963245392\n",
      "epoch 57, loss 0.421358585357666\n",
      "epoch 58, loss 0.41665351390838623\n",
      "epoch 59, loss 0.41200020909309387\n",
      "epoch 60, loss 0.4073997437953949\n",
      "epoch 61, loss 0.4028504490852356\n",
      "epoch 62, loss 0.3983520567417145\n",
      "epoch 63, loss 0.3939037024974823\n",
      "epoch 64, loss 0.3895047903060913\n",
      "epoch 65, loss 0.38515517115592957\n",
      "epoch 66, loss 0.3808540105819702\n",
      "epoch 67, loss 0.37660104036331177\n",
      "epoch 68, loss 0.372395783662796\n",
      "epoch 69, loss 0.36823752522468567\n",
      "epoch 70, loss 0.3641253709793091\n",
      "epoch 71, loss 0.36005938053131104\n",
      "epoch 72, loss 0.3560386598110199\n",
      "epoch 73, loss 0.3520626127719879\n",
      "epoch 74, loss 0.3481314480304718\n",
      "epoch 75, loss 0.3442438840866089\n",
      "epoch 76, loss 0.34039977192878723\n",
      "epoch 77, loss 0.3365987241268158\n",
      "epoch 78, loss 0.33283984661102295\n",
      "epoch 79, loss 0.32912302017211914\n",
      "epoch 80, loss 0.3254477381706238\n",
      "epoch 81, loss 0.3218134343624115\n",
      "epoch 82, loss 0.3182198405265808\n",
      "epoch 83, loss 0.31466642022132874\n",
      "epoch 84, loss 0.31115224957466125\n",
      "epoch 85, loss 0.3076780140399933\n",
      "epoch 86, loss 0.3042423725128174\n",
      "epoch 87, loss 0.30084478855133057\n",
      "epoch 88, loss 0.2974854111671448\n",
      "epoch 89, loss 0.29416316747665405\n",
      "epoch 90, loss 0.2908782362937927\n",
      "epoch 91, loss 0.2876301407814026\n",
      "epoch 92, loss 0.2844181954860687\n",
      "epoch 93, loss 0.28124234080314636\n",
      "epoch 94, loss 0.2781015634536743\n",
      "epoch 95, loss 0.2749960720539093\n",
      "epoch 96, loss 0.2719254493713379\n",
      "epoch 97, loss 0.2688887417316437\n",
      "epoch 98, loss 0.26588618755340576\n",
      "epoch 99, loss 0.26291683316230774\n",
      "epoch 100, loss 0.2599810063838959\n"
     ]
    }
   ],
   "source": [
    "for epoch in range(epochs):\n",
    "    epoch += 1\n",
    "    # Convert numpy array to torch Variable\n",
    "    inputs = torch.from_numpy(x_train).requires_grad_()\n",
    "    labels = torch.from_numpy(y_train)\n",
    "\n",
    "    # Clear gradients w.r.t. parameters\n",
    "    optimizer.zero_grad() \n",
    "    \n",
    "    # Forward to get output\n",
    "    outputs = model(inputs)\n",
    "    \n",
    "    # Calculate Loss\n",
    "    loss = criterion(outputs, labels)\n",
    "    \n",
    "    # Getting gradients w.r.t. parameters\n",
    "    loss.backward()\n",
    "    \n",
    "    # Updating parameters\n",
    "    optimizer.step()\n",
    "    \n",
    "    print('epoch {}, loss {}'.format(epoch, loss.item()))"
   ]
  },
  {
   "cell_type": "markdown",
   "metadata": {},
   "source": [
    "**Compare Data**"
   ]
  },
  {
   "cell_type": "code",
   "execution_count": 34,
   "metadata": {},
   "outputs": [
    {
     "data": {
      "text/plain": [
       "array([[-0.14972985],\n",
       "       [-0.65830386],\n",
       "       [-1.1668779 ],\n",
       "       [-1.6754519 ],\n",
       "       [-2.1840258 ],\n",
       "       [-2.6925998 ],\n",
       "       [-3.2011738 ],\n",
       "       [-3.7097478 ],\n",
       "       [-4.218322  ],\n",
       "       [-4.726896  ],\n",
       "       [-5.23547   ]], dtype=float32)"
      ]
     },
     "execution_count": 34,
     "metadata": {},
     "output_type": "execute_result"
    }
   ],
   "source": [
    "# Purely inference\n",
    "predicted = model(torch.from_numpy(x_train).requires_grad_()).data.numpy()\n",
    "predicted"
   ]
  },
  {
   "cell_type": "code",
   "execution_count": 35,
   "metadata": {},
   "outputs": [
    {
     "data": {
      "text/plain": [
       "array([[ 1.],\n",
       "       [ 3.],\n",
       "       [ 5.],\n",
       "       [ 7.],\n",
       "       [ 9.],\n",
       "       [11.],\n",
       "       [13.],\n",
       "       [15.],\n",
       "       [17.],\n",
       "       [19.],\n",
       "       [21.]], dtype=float32)"
      ]
     },
     "execution_count": 35,
     "metadata": {},
     "output_type": "execute_result"
    }
   ],
   "source": [
    "# y = 2x + 1 \n",
    "y_train"
   ]
  },
  {
   "cell_type": "markdown",
   "metadata": {},
   "source": [
    "**Plot Graph**"
   ]
  },
  {
   "cell_type": "code",
   "execution_count": 21,
   "metadata": {},
   "outputs": [
    {
     "data": {
      "image/png": "[encoded data removed]",
      "text/plain": [
       "<Figure size 432x288 with 1 Axes>"
      ]
     },
     "metadata": {},
     "output_type": "display_data"
    }
   ],
   "source": [
    "# Clear figure\n",
    "plt.clf()\n",
    "\n",
    "# Get predictions\n",
    "predicted = model(torch.from_numpy(x_train).requires_grad_()).data.numpy()\n",
    "\n",
    "# Plot true data\n",
    "plt.plot(x_train, y_train, 'go', label='True data', alpha=0.5)\n",
    "\n",
    "# Plot predictions\n",
    "plt.plot(x_train, predicted, '--', label='Predictions', alpha=0.5)\n",
    "\n",
    "# Legend and plot\n",
    "plt.legend(loc='best')\n",
    "plt.show()"
   ]
  },
  {
   "cell_type": "markdown",
   "metadata": {},
   "source": [
    "**Save Model**"
   ]
  },
  {
   "cell_type": "code",
   "execution_count": 22,
   "metadata": {
    "collapsed": true
   },
   "outputs": [],
   "source": [
    "save_model = False\n",
    "if save_model is True:\n",
    "    # Saves only parameters\n",
    "    # alpha & beta\n",
    "    torch.save(model.state_dict(), 'awesome_model.pkl')"
   ]
  },
  {
   "cell_type": "markdown",
   "metadata": {},
   "source": [
    "**Load Model**"
   ]
  },
  {
   "cell_type": "code",
   "execution_count": 23,
   "metadata": {
    "collapsed": true
   },
   "outputs": [],
   "source": [
    "load_model = False\n",
    "if load_model is True:\n",
    "    model.load_state_dict(torch.load('awesome_model.pkl'))"
   ]
  },
  {
   "cell_type": "markdown",
   "metadata": {},
   "source": [
    "## 3. Building a Linear Regression Model with PyTorch (GPU)\n",
    "\n"
   ]
  },
  {
   "cell_type": "markdown",
   "metadata": {},
   "source": [
    "**CPU Summary**"
   ]
  },
  {
   "cell_type": "code",
   "execution_count": 38,
   "metadata": {},
   "outputs": [
    {
     "name": "stdout",
     "output_type": "stream",
     "text": [
      "epoch 1, loss 73.18451690673828\n",
      "epoch 2, loss 5.985538959503174\n",
      "epoch 3, loss 0.5041545629501343\n",
      "epoch 4, loss 0.05687737837433815\n",
      "epoch 5, loss 0.020218120887875557\n",
      "epoch 6, loss 0.017053989693522453\n",
      "epoch 7, loss 0.01662381738424301\n",
      "epoch 8, loss 0.016418633982539177\n",
      "epoch 9, loss 0.01623370498418808\n",
      "epoch 10, loss 0.016052303835749626\n",
      "epoch 11, loss 0.01587309129536152\n",
      "epoch 12, loss 0.01569577492773533\n",
      "epoch 13, loss 0.01552051305770874\n",
      "epoch 14, loss 0.015347188338637352\n",
      "epoch 15, loss 0.015175800770521164\n",
      "epoch 16, loss 0.015006366185843945\n",
      "epoch 17, loss 0.0148388110101223\n",
      "epoch 18, loss 0.014673059806227684\n",
      "epoch 19, loss 0.014509259723126888\n",
      "epoch 20, loss 0.014347226358950138\n",
      "epoch 21, loss 0.014186990447342396\n",
      "epoch 22, loss 0.014028581790626049\n",
      "epoch 23, loss 0.013871856965124607\n",
      "epoch 24, loss 0.013716998510062695\n",
      "epoch 25, loss 0.013563812710344791\n",
      "epoch 26, loss 0.013412341475486755\n",
      "epoch 27, loss 0.01326261181384325\n",
      "epoch 28, loss 0.013114461675286293\n",
      "epoch 29, loss 0.012968037277460098\n",
      "epoch 30, loss 0.012823267839848995\n",
      "epoch 31, loss 0.012680018320679665\n",
      "epoch 32, loss 0.012538474053144455\n",
      "epoch 33, loss 0.012398475781083107\n",
      "epoch 34, loss 0.012259996496140957\n",
      "epoch 35, loss 0.01212305761873722\n",
      "epoch 36, loss 0.011987706646323204\n",
      "epoch 37, loss 0.011853841133415699\n",
      "epoch 38, loss 0.011721464805305004\n",
      "epoch 39, loss 0.01159055158495903\n",
      "epoch 40, loss 0.011461189016699791\n",
      "epoch 41, loss 0.011333188973367214\n",
      "epoch 42, loss 0.011206628754734993\n",
      "epoch 43, loss 0.011081413365900517\n",
      "epoch 44, loss 0.010957762598991394\n",
      "epoch 45, loss 0.010835307650268078\n",
      "epoch 46, loss 0.010714368894696236\n",
      "epoch 47, loss 0.010594675317406654\n",
      "epoch 48, loss 0.010476429015398026\n",
      "epoch 49, loss 0.010359439998865128\n",
      "epoch 50, loss 0.010243747383356094\n",
      "epoch 51, loss 0.010129299946129322\n",
      "epoch 52, loss 0.010016250424087048\n",
      "epoch 53, loss 0.009904413484036922\n",
      "epoch 54, loss 0.009793777018785477\n",
      "epoch 55, loss 0.009684442542493343\n",
      "epoch 56, loss 0.009576288051903248\n",
      "epoch 57, loss 0.009469292126595974\n",
      "epoch 58, loss 0.00936359167098999\n",
      "epoch 59, loss 0.009259040467441082\n",
      "epoch 60, loss 0.009155670180916786\n",
      "epoch 61, loss 0.009053419344127178\n",
      "epoch 62, loss 0.00895233266055584\n",
      "epoch 63, loss 0.008852347731590271\n",
      "epoch 64, loss 0.008753485046327114\n",
      "epoch 65, loss 0.00865576509386301\n",
      "epoch 66, loss 0.00855907704681158\n",
      "epoch 67, loss 0.008463541977107525\n",
      "epoch 68, loss 0.008369012735784054\n",
      "epoch 69, loss 0.008275534957647324\n",
      "epoch 70, loss 0.008183135651051998\n",
      "epoch 71, loss 0.008091697469353676\n",
      "epoch 72, loss 0.008001349866390228\n",
      "epoch 73, loss 0.007912050932645798\n",
      "epoch 74, loss 0.007823693566024303\n",
      "epoch 75, loss 0.007736321073025465\n",
      "epoch 76, loss 0.00764993391931057\n",
      "epoch 77, loss 0.007564491126686335\n",
      "epoch 78, loss 0.007480055093765259\n",
      "epoch 79, loss 0.007396505679935217\n",
      "epoch 80, loss 0.007313890382647514\n",
      "epoch 81, loss 0.00723227160051465\n",
      "epoch 82, loss 0.007151483092457056\n",
      "epoch 83, loss 0.007071592379361391\n",
      "epoch 84, loss 0.0069926586002111435\n",
      "epoch 85, loss 0.006914546713232994\n",
      "epoch 86, loss 0.006837382446974516\n",
      "epoch 87, loss 0.00676101166754961\n",
      "epoch 88, loss 0.006685479078441858\n",
      "epoch 89, loss 0.006610844749957323\n",
      "epoch 90, loss 0.006537039298564196\n",
      "epoch 91, loss 0.006464029662311077\n",
      "epoch 92, loss 0.00639182748273015\n",
      "epoch 93, loss 0.00632046302780509\n",
      "epoch 94, loss 0.006249888334423304\n",
      "epoch 95, loss 0.006180083379149437\n",
      "epoch 96, loss 0.006111073773354292\n",
      "epoch 97, loss 0.006042827386409044\n",
      "epoch 98, loss 0.005975364241749048\n",
      "epoch 99, loss 0.00590861588716507\n",
      "epoch 100, loss 0.0058426144532859325\n"
     ]
    }
   ],
   "source": [
    "import torch\n",
    "import torch.nn as nn\n",
    "\n",
    "'''\n",
    "STEP 1: CREATE MODEL CLASS\n",
    "'''\n",
    "class LinearRegressionModel(nn.Module):\n",
    "    def __init__(self, input_dim, output_dim):\n",
    "        super(LinearRegressionModel, self).__init__()\n",
    "        self.linear = nn.Linear(input_dim, output_dim)  \n",
    "    \n",
    "    def forward(self, x):\n",
    "        out = self.linear(x)\n",
    "        return out\n",
    "\n",
    "'''\n",
    "STEP 2: INSTANTIATE MODEL CLASS\n",
    "'''\n",
    "input_dim = 1\n",
    "output_dim = 1\n",
    "\n",
    "model = LinearRegressionModel(input_dim, output_dim)\n",
    "\n",
    "'''\n",
    "STEP 3: INSTANTIATE LOSS CLASS\n",
    "'''\n",
    "\n",
    "criterion = nn.MSELoss()\n",
    "\n",
    "'''\n",
    "STEP 4: INSTANTIATE OPTIMIZER CLASS\n",
    "'''\n",
    "\n",
    "learning_rate = 0.01\n",
    "\n",
    "optimizer = torch.optim.SGD(model.parameters(), lr=learning_rate)\n",
    "\n",
    "'''\n",
    "STEP 5: TRAIN THE MODEL\n",
    "'''\n",
    "epochs = 100\n",
    "for epoch in range(epochs):\n",
    "    epoch += 1\n",
    "    # Convert numpy array to torch Variable\n",
    "    inputs = torch.from_numpy(x_train).requires_grad_()\n",
    "    labels = torch.from_numpy(y_train)\n",
    "\n",
    "    # Clear gradients w.r.t. parameters\n",
    "    optimizer.zero_grad() \n",
    "    \n",
    "    # Forward to get output\n",
    "    outputs = model(inputs)\n",
    "    \n",
    "    # Calculate Loss\n",
    "    loss = criterion(outputs, labels)\n",
    "    \n",
    "    # Getting gradients w.r.t. parameters\n",
    "    loss.backward()\n",
    "    \n",
    "    # Updating parameters\n",
    "    optimizer.step()\n",
    "    print('epoch {}, loss {}'.format(epoch, loss.item()))"
   ]
  },
  {
   "cell_type": "markdown",
   "metadata": {},
   "source": [
    "GPU: 2 things must be on GPU\n",
    "- `model`\n",
    "- `tensors with gradients`"
   ]
  },
  {
   "cell_type": "code",
   "execution_count": 25,
   "metadata": {
    "scrolled": true
   },
   "outputs": [
    {
     "name": "stdout",
     "output_type": "stream",
     "text": [
      "epoch 1, loss 336.0314025878906\n",
      "epoch 2, loss 27.67657470703125\n",
      "epoch 3, loss 2.5220539569854736\n",
      "epoch 4, loss 0.46732547879219055\n",
      "epoch 5, loss 0.2968060076236725\n",
      "epoch 6, loss 0.2800087630748749\n",
      "epoch 7, loss 0.27578213810920715\n",
      "epoch 8, loss 0.2726128399372101\n",
      "epoch 9, loss 0.269561231136322\n",
      "epoch 10, loss 0.2665504515171051\n",
      "epoch 11, loss 0.2635740041732788\n",
      "epoch 12, loss 0.26063060760498047\n",
      "epoch 13, loss 0.2577202618122101\n",
      "epoch 14, loss 0.2548423111438751\n",
      "epoch 15, loss 0.25199657678604126\n",
      "epoch 16, loss 0.24918246269226074\n",
      "epoch 17, loss 0.24639996886253357\n",
      "epoch 18, loss 0.24364829063415527\n",
      "epoch 19, loss 0.24092751741409302\n",
      "epoch 20, loss 0.2382371574640274\n",
      "epoch 21, loss 0.23557686805725098\n",
      "epoch 22, loss 0.2329462170600891\n",
      "epoch 23, loss 0.2303449958562851\n",
      "epoch 24, loss 0.22777271270751953\n",
      "epoch 25, loss 0.2252292037010193\n",
      "epoch 26, loss 0.22271405160427094\n",
      "epoch 27, loss 0.22022713720798492\n",
      "epoch 28, loss 0.21776780486106873\n",
      "epoch 29, loss 0.21533599495887756\n",
      "epoch 30, loss 0.21293145418167114\n",
      "epoch 31, loss 0.21055366098880768\n",
      "epoch 32, loss 0.20820240676403046\n",
      "epoch 33, loss 0.2058774083852768\n",
      "epoch 34, loss 0.20357847213745117\n",
      "epoch 35, loss 0.20130516588687897\n",
      "epoch 36, loss 0.1990572065114975\n",
      "epoch 37, loss 0.19683438539505005\n",
      "epoch 38, loss 0.19463638961315155\n",
      "epoch 39, loss 0.19246290624141693\n",
      "epoch 40, loss 0.1903136670589447\n",
      "epoch 41, loss 0.1881885528564453\n",
      "epoch 42, loss 0.18608702719211578\n",
      "epoch 43, loss 0.18400898575782776\n",
      "epoch 44, loss 0.18195408582687378\n",
      "epoch 45, loss 0.17992223799228668\n",
      "epoch 46, loss 0.17791320383548737\n",
      "epoch 47, loss 0.17592646181583405\n",
      "epoch 48, loss 0.17396186292171478\n",
      "epoch 49, loss 0.17201924324035645\n",
      "epoch 50, loss 0.17009828984737396\n",
      "epoch 51, loss 0.16819894313812256\n",
      "epoch 52, loss 0.16632060706615448\n",
      "epoch 53, loss 0.16446338593959808\n",
      "epoch 54, loss 0.16262666881084442\n",
      "epoch 55, loss 0.16081078350543976\n",
      "epoch 56, loss 0.15901507437229156\n",
      "epoch 57, loss 0.15723931789398193\n",
      "epoch 58, loss 0.15548335015773773\n",
      "epoch 59, loss 0.15374726057052612\n",
      "epoch 60, loss 0.1520303338766098\n",
      "epoch 61, loss 0.15033268928527832\n",
      "epoch 62, loss 0.14865389466285706\n",
      "epoch 63, loss 0.14699392020702362\n",
      "epoch 64, loss 0.14535246789455414\n",
      "epoch 65, loss 0.14372935891151428\n",
      "epoch 66, loss 0.14212435483932495\n",
      "epoch 67, loss 0.14053721725940704\n",
      "epoch 68, loss 0.13896773755550385\n",
      "epoch 69, loss 0.1374160647392273\n",
      "epoch 70, loss 0.1358814686536789\n",
      "epoch 71, loss 0.13436420261859894\n",
      "epoch 72, loss 0.13286370038986206\n",
      "epoch 73, loss 0.1313801407814026\n",
      "epoch 74, loss 0.12991292774677277\n",
      "epoch 75, loss 0.12846232950687408\n",
      "epoch 76, loss 0.1270277351140976\n",
      "epoch 77, loss 0.12560924887657166\n",
      "epoch 78, loss 0.12420656532049179\n",
      "epoch 79, loss 0.12281957268714905\n",
      "epoch 80, loss 0.1214480847120285\n",
      "epoch 81, loss 0.12009195983409882\n",
      "epoch 82, loss 0.1187509223818779\n",
      "epoch 83, loss 0.11742479354143143\n",
      "epoch 84, loss 0.11611353605985641\n",
      "epoch 85, loss 0.11481687426567078\n",
      "epoch 86, loss 0.11353478580713272\n",
      "epoch 87, loss 0.11226697266101837\n",
      "epoch 88, loss 0.11101329326629639\n",
      "epoch 89, loss 0.10977360606193542\n",
      "epoch 90, loss 0.10854770988225937\n",
      "epoch 91, loss 0.10733554512262344\n",
      "epoch 92, loss 0.10613703727722168\n",
      "epoch 93, loss 0.10495180636644363\n",
      "epoch 94, loss 0.10377981513738632\n",
      "epoch 95, loss 0.10262089222669601\n",
      "epoch 96, loss 0.10147502273321152\n",
      "epoch 97, loss 0.1003417894244194\n",
      "epoch 98, loss 0.09922132641077042\n",
      "epoch 99, loss 0.0981132984161377\n",
      "epoch 100, loss 0.09701769798994064\n"
     ]
    }
   ],
   "source": [
    "import torch\n",
    "import torch.nn as nn\n",
    "import numpy as np\n",
    "\n",
    "'''\n",
    "STEP 1: CREATE MODEL CLASS\n",
    "'''\n",
    "class LinearRegressionModel(nn.Module):\n",
    "    def __init__(self, input_dim, output_dim):\n",
    "        super(LinearRegressionModel, self).__init__()\n",
    "        self.linear = nn.Linear(input_dim, output_dim)  \n",
    "    \n",
    "    def forward(self, x):\n",
    "        out = self.linear(x)\n",
    "        return out\n",
    "\n",
    "'''\n",
    "STEP 2: INSTANTIATE MODEL CLASS\n",
    "'''\n",
    "input_dim = 1\n",
    "output_dim = 1\n",
    "\n",
    "model = LinearRegressionModel(input_dim, output_dim)\n",
    "\n",
    "\n",
    "#######################\n",
    "#  USE GPU FOR MODEL  #\n",
    "#######################\n",
    "\n",
    "device = torch.device(\"cuda:0\" if torch.cuda.is_available() else \"cpu\")\n",
    "model.to(device)\n",
    "\n",
    "'''\n",
    "STEP 3: INSTANTIATE LOSS CLASS\n",
    "'''\n",
    "\n",
    "criterion = nn.MSELoss()\n",
    "\n",
    "'''\n",
    "STEP 4: INSTANTIATE OPTIMIZER CLASS\n",
    "'''\n",
    "\n",
    "learning_rate = 0.01\n",
    "\n",
    "optimizer = torch.optim.SGD(model.parameters(), lr=learning_rate)\n",
    "\n",
    "'''\n",
    "STEP 5: TRAIN THE MODEL\n",
    "'''\n",
    "epochs = 100\n",
    "for epoch in range(epochs):\n",
    "    epoch += 1\n",
    "    # Convert numpy array to torch Variable\n",
    "    \n",
    "    #######################\n",
    "    #  USE GPU FOR MODEL  #\n",
    "    #######################\n",
    "    inputs = torch.from_numpy(x_train).to(device)\n",
    "    labels = torch.from_numpy(y_train).to(device)\n",
    "    \n",
    "    # Clear gradients w.r.t. parameters\n",
    "    optimizer.zero_grad() \n",
    "    \n",
    "    # Forward to get output\n",
    "    outputs = model(inputs)\n",
    "    \n",
    "    # Calculate Loss\n",
    "    loss = criterion(outputs, labels)\n",
    "    \n",
    "    # Getting gradients w.r.t. parameters\n",
    "    loss.backward()\n",
    "    \n",
    "    # Updating parameters\n",
    "    optimizer.step()\n",
    "    \n",
    "    # Logging\n",
    "    print('epoch {}, loss {}'.format(epoch, loss.item()))"
   ]
  },
  {
   "cell_type": "markdown",
   "metadata": {},
   "source": [
    "# Summary"
   ]
  },
  {
   "cell_type": "markdown",
   "metadata": {},
   "source": [
    "- Simple **linear regression basics**\n",
    "    - $y = Ax + B$\n",
    "    - $y = 2x + 1$\n",
    "- **Example** of simple linear regression\n",
    "- **Aim** of linear regression\n",
    "    - Minimizing distance between the points and the line\n",
    "        - Calculate \"distance\" through `MSE`\n",
    "        - Calculate `gradients`\n",
    "        - Update parameters with `parameters = parameters - learning_rate * gradients`\n",
    "        - Slowly update parameters $A$ and $B$ model the linear relationship between $y$ and $x$ of the form $y = 2x + 1$\n",
    "- Built a linear regression **model** in **CPU and GPU**\n",
    "    - Step 1: Create Model Class\n",
    "    - Step 2: Instantiate Model Class\n",
    "    - Step 3: Instantiate Loss Class\n",
    "    - Step 4: Instantiate Optimizer Class\n",
    "    - Step 5: Train Model\n",
    "- Important things to be on **GPU**\n",
    "    - `model`\n",
    "    - `tensors with gradients`\n",
    "- How to bring to **GPU**?\n",
    "    - `model_name.cuda()`\n",
    "    - `variable_name.cuda()`"
   ]
  }
 ],
 "metadata": {
  "anaconda-cloud": {},
  "kernelspec": {
   "display_name": "Python 3",
   "language": "python",
   "name": "python3"
  },
  "language_info": {
   "codemirror_mode": {
    "name": "ipython",
    "version": 3
   },
   "file_extension": ".py",
   "mimetype": "text/x-python",
   "name": "python",
   "nbconvert_exporter": "python",
   "pygments_lexer": "ipython3",
   "version": "3.6.10"
  }
 },
 "nbformat": 4,
 "nbformat_minor": 1
}
